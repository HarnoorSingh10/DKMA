{
 "cells": [
  {
   "cell_type": "markdown",
   "metadata": {
    "papermill": {
     "duration": 0.022384,
     "end_time": "2021-01-30T19:32:00.575415",
     "exception": false,
     "start_time": "2021-01-30T19:32:00.553031",
     "status": "completed"
    },
    "tags": []
   },
   "source": [
    "# ECE 657A : Data and Knowledge Modeling and Analysis\n",
    "\n",
    "## Assignment 1 : Basic Environment Set-up and Classification"
   ]
  },
  {
   "cell_type": "markdown",
   "metadata": {
    "papermill": {
     "duration": 0.020961,
     "end_time": "2021-01-30T19:32:00.618248",
     "exception": false,
     "start_time": "2021-01-30T19:32:00.597287",
     "status": "completed"
    },
    "tags": []
   },
   "source": [
    "# Question 1: Data Exploration"
   ]
  },
  {
   "cell_type": "markdown",
   "metadata": {
    "papermill": {
     "duration": 0.020757,
     "end_time": "2021-01-30T19:32:00.660002",
     "exception": false,
     "start_time": "2021-01-30T19:32:00.639245",
     "status": "completed"
    },
    "tags": []
   },
   "source": [
    "### Importing libraries"
   ]
  },
  {
   "cell_type": "code",
   "execution_count": 1,
   "metadata": {
    "execution": {
     "iopub.execute_input": "2021-01-30T19:32:00.707978Z",
     "iopub.status.busy": "2021-01-30T19:32:00.707342Z",
     "iopub.status.idle": "2021-01-30T19:32:01.508348Z",
     "shell.execute_reply": "2021-01-30T19:32:01.507706Z"
    },
    "papermill": {
     "duration": 0.827717,
     "end_time": "2021-01-30T19:32:01.508540",
     "exception": false,
     "start_time": "2021-01-30T19:32:00.680823",
     "status": "completed"
    },
    "tags": []
   },
   "outputs": [],
   "source": [
    "import numpy as np\n",
    "import pandas as pd\n",
    "import seaborn as sns\n",
    "import matplotlib.pyplot as plt\n",
    "from scipy import stats\n",
    "import statistics"
   ]
  },
  {
   "cell_type": "code",
   "execution_count": 2,
   "metadata": {
    "execution": {
     "iopub.execute_input": "2021-01-30T19:32:01.557395Z",
     "iopub.status.busy": "2021-01-30T19:32:01.556798Z",
     "iopub.status.idle": "2021-01-30T19:32:01.586134Z",
     "shell.execute_reply": "2021-01-30T19:32:01.585562Z"
    },
    "papermill": {
     "duration": 0.055975,
     "end_time": "2021-01-30T19:32:01.586270",
     "exception": false,
     "start_time": "2021-01-30T19:32:01.530295",
     "status": "completed"
    },
    "tags": []
   },
   "outputs": [],
   "source": [
    "# load dataset\n",
    "df_iris = pd.read_csv('../input/ece657aw21-assignment1-iris-dataset/iris_train.csv')\n",
    "df_iris_test = pd.read_csv('../input/ece657aw21-assignment1-iris-dataset/iris_test.csv')"
   ]
  },
  {
   "cell_type": "code",
   "execution_count": 3,
   "metadata": {
    "execution": {
     "iopub.execute_input": "2021-01-30T19:32:01.634741Z",
     "iopub.status.busy": "2021-01-30T19:32:01.634096Z",
     "iopub.status.idle": "2021-01-30T19:32:01.678374Z",
     "shell.execute_reply": "2021-01-30T19:32:01.677834Z"
    },
    "papermill": {
     "duration": 0.068949,
     "end_time": "2021-01-30T19:32:01.678510",
     "exception": false,
     "start_time": "2021-01-30T19:32:01.609561",
     "status": "completed"
    },
    "tags": []
   },
   "outputs": [
    {
     "data": {
      "text/html": [
       "<div>\n",
       "<style scoped>\n",
       "    .dataframe tbody tr th:only-of-type {\n",
       "        vertical-align: middle;\n",
       "    }\n",
       "\n",
       "    .dataframe tbody tr th {\n",
       "        vertical-align: top;\n",
       "    }\n",
       "\n",
       "    .dataframe thead th {\n",
       "        text-align: right;\n",
       "    }\n",
       "</style>\n",
       "<table border=\"1\" class=\"dataframe\">\n",
       "  <thead>\n",
       "    <tr style=\"text-align: right;\">\n",
       "      <th></th>\n",
       "      <th>sepal_length</th>\n",
       "      <th>sepal_width</th>\n",
       "      <th>petal_length</th>\n",
       "      <th>petal_width</th>\n",
       "    </tr>\n",
       "  </thead>\n",
       "  <tbody>\n",
       "    <tr>\n",
       "      <th>count</th>\n",
       "      <td>105.000000</td>\n",
       "      <td>101.000000</td>\n",
       "      <td>97.000000</td>\n",
       "      <td>105.000000</td>\n",
       "    </tr>\n",
       "    <tr>\n",
       "      <th>mean</th>\n",
       "      <td>5.858909</td>\n",
       "      <td>3.059083</td>\n",
       "      <td>3.812370</td>\n",
       "      <td>1.199708</td>\n",
       "    </tr>\n",
       "    <tr>\n",
       "      <th>std</th>\n",
       "      <td>0.861638</td>\n",
       "      <td>0.455116</td>\n",
       "      <td>1.793489</td>\n",
       "      <td>0.787193</td>\n",
       "    </tr>\n",
       "    <tr>\n",
       "      <th>min</th>\n",
       "      <td>4.344007</td>\n",
       "      <td>1.946010</td>\n",
       "      <td>1.033031</td>\n",
       "      <td>-0.072203</td>\n",
       "    </tr>\n",
       "    <tr>\n",
       "      <th>25%</th>\n",
       "      <td>5.159145</td>\n",
       "      <td>2.768688</td>\n",
       "      <td>1.545136</td>\n",
       "      <td>0.333494</td>\n",
       "    </tr>\n",
       "    <tr>\n",
       "      <th>50%</th>\n",
       "      <td>5.736104</td>\n",
       "      <td>3.049459</td>\n",
       "      <td>4.276817</td>\n",
       "      <td>1.331797</td>\n",
       "    </tr>\n",
       "    <tr>\n",
       "      <th>75%</th>\n",
       "      <td>6.435413</td>\n",
       "      <td>3.290318</td>\n",
       "      <td>5.094427</td>\n",
       "      <td>1.817211</td>\n",
       "    </tr>\n",
       "    <tr>\n",
       "      <th>max</th>\n",
       "      <td>7.795561</td>\n",
       "      <td>4.409565</td>\n",
       "      <td>6.768611</td>\n",
       "      <td>2.603123</td>\n",
       "    </tr>\n",
       "  </tbody>\n",
       "</table>\n",
       "</div>"
      ],
      "text/plain": [
       "       sepal_length  sepal_width  petal_length  petal_width\n",
       "count    105.000000   101.000000     97.000000   105.000000\n",
       "mean       5.858909     3.059083      3.812370     1.199708\n",
       "std        0.861638     0.455116      1.793489     0.787193\n",
       "min        4.344007     1.946010      1.033031    -0.072203\n",
       "25%        5.159145     2.768688      1.545136     0.333494\n",
       "50%        5.736104     3.049459      4.276817     1.331797\n",
       "75%        6.435413     3.290318      5.094427     1.817211\n",
       "max        7.795561     4.409565      6.768611     2.603123"
      ]
     },
     "execution_count": 3,
     "metadata": {},
     "output_type": "execute_result"
    }
   ],
   "source": [
    "df_iris.describe()"
   ]
  },
  {
   "cell_type": "code",
   "execution_count": 4,
   "metadata": {
    "execution": {
     "iopub.execute_input": "2021-01-30T19:32:01.733250Z",
     "iopub.status.busy": "2021-01-30T19:32:01.732077Z",
     "iopub.status.idle": "2021-01-30T19:32:01.758026Z",
     "shell.execute_reply": "2021-01-30T19:32:01.757209Z"
    },
    "papermill": {
     "duration": 0.056503,
     "end_time": "2021-01-30T19:32:01.758231",
     "exception": false,
     "start_time": "2021-01-30T19:32:01.701728",
     "status": "completed"
    },
    "tags": []
   },
   "outputs": [
    {
     "data": {
      "text/html": [
       "<div>\n",
       "<style scoped>\n",
       "    .dataframe tbody tr th:only-of-type {\n",
       "        vertical-align: middle;\n",
       "    }\n",
       "\n",
       "    .dataframe tbody tr th {\n",
       "        vertical-align: top;\n",
       "    }\n",
       "\n",
       "    .dataframe thead th {\n",
       "        text-align: right;\n",
       "    }\n",
       "</style>\n",
       "<table border=\"1\" class=\"dataframe\">\n",
       "  <thead>\n",
       "    <tr style=\"text-align: right;\">\n",
       "      <th></th>\n",
       "      <th>id</th>\n",
       "      <th>sepal_length</th>\n",
       "      <th>sepal_width</th>\n",
       "      <th>petal_length</th>\n",
       "      <th>petal_width</th>\n",
       "    </tr>\n",
       "  </thead>\n",
       "  <tbody>\n",
       "    <tr>\n",
       "      <th>count</th>\n",
       "      <td>45.000000</td>\n",
       "      <td>45.000000</td>\n",
       "      <td>45.000000</td>\n",
       "      <td>45.000000</td>\n",
       "      <td>45.000000</td>\n",
       "    </tr>\n",
       "    <tr>\n",
       "      <th>mean</th>\n",
       "      <td>22.000000</td>\n",
       "      <td>5.773333</td>\n",
       "      <td>3.062222</td>\n",
       "      <td>3.695556</td>\n",
       "      <td>1.184444</td>\n",
       "    </tr>\n",
       "    <tr>\n",
       "      <th>std</th>\n",
       "      <td>13.133926</td>\n",
       "      <td>0.744800</td>\n",
       "      <td>0.386293</td>\n",
       "      <td>1.738986</td>\n",
       "      <td>0.733595</td>\n",
       "    </tr>\n",
       "    <tr>\n",
       "      <th>min</th>\n",
       "      <td>0.000000</td>\n",
       "      <td>4.400000</td>\n",
       "      <td>2.300000</td>\n",
       "      <td>1.000000</td>\n",
       "      <td>0.200000</td>\n",
       "    </tr>\n",
       "    <tr>\n",
       "      <th>25%</th>\n",
       "      <td>11.000000</td>\n",
       "      <td>5.000000</td>\n",
       "      <td>2.900000</td>\n",
       "      <td>1.600000</td>\n",
       "      <td>0.300000</td>\n",
       "    </tr>\n",
       "    <tr>\n",
       "      <th>50%</th>\n",
       "      <td>22.000000</td>\n",
       "      <td>5.800000</td>\n",
       "      <td>3.000000</td>\n",
       "      <td>4.500000</td>\n",
       "      <td>1.400000</td>\n",
       "    </tr>\n",
       "    <tr>\n",
       "      <th>75%</th>\n",
       "      <td>33.000000</td>\n",
       "      <td>6.400000</td>\n",
       "      <td>3.300000</td>\n",
       "      <td>5.100000</td>\n",
       "      <td>1.800000</td>\n",
       "    </tr>\n",
       "    <tr>\n",
       "      <th>max</th>\n",
       "      <td>44.000000</td>\n",
       "      <td>7.300000</td>\n",
       "      <td>4.000000</td>\n",
       "      <td>6.300000</td>\n",
       "      <td>2.400000</td>\n",
       "    </tr>\n",
       "  </tbody>\n",
       "</table>\n",
       "</div>"
      ],
      "text/plain": [
       "              id  sepal_length  sepal_width  petal_length  petal_width\n",
       "count  45.000000     45.000000    45.000000     45.000000    45.000000\n",
       "mean   22.000000      5.773333     3.062222      3.695556     1.184444\n",
       "std    13.133926      0.744800     0.386293      1.738986     0.733595\n",
       "min     0.000000      4.400000     2.300000      1.000000     0.200000\n",
       "25%    11.000000      5.000000     2.900000      1.600000     0.300000\n",
       "50%    22.000000      5.800000     3.000000      4.500000     1.400000\n",
       "75%    33.000000      6.400000     3.300000      5.100000     1.800000\n",
       "max    44.000000      7.300000     4.000000      6.300000     2.400000"
      ]
     },
     "execution_count": 4,
     "metadata": {},
     "output_type": "execute_result"
    }
   ],
   "source": [
    "df_iris_test.describe()"
   ]
  },
  {
   "cell_type": "code",
   "execution_count": 5,
   "metadata": {
    "execution": {
     "iopub.execute_input": "2021-01-30T19:32:01.841182Z",
     "iopub.status.busy": "2021-01-30T19:32:01.840158Z",
     "iopub.status.idle": "2021-01-30T19:32:01.845323Z",
     "shell.execute_reply": "2021-01-30T19:32:01.845965Z"
    },
    "papermill": {
     "duration": 0.053109,
     "end_time": "2021-01-30T19:32:01.846176",
     "exception": false,
     "start_time": "2021-01-30T19:32:01.793067",
     "status": "completed"
    },
    "tags": []
   },
   "outputs": [
    {
     "data": {
      "text/html": [
       "<div>\n",
       "<style scoped>\n",
       "    .dataframe tbody tr th:only-of-type {\n",
       "        vertical-align: middle;\n",
       "    }\n",
       "\n",
       "    .dataframe tbody tr th {\n",
       "        vertical-align: top;\n",
       "    }\n",
       "\n",
       "    .dataframe thead th {\n",
       "        text-align: right;\n",
       "    }\n",
       "</style>\n",
       "<table border=\"1\" class=\"dataframe\">\n",
       "  <thead>\n",
       "    <tr style=\"text-align: right;\">\n",
       "      <th></th>\n",
       "      <th>sepal_length</th>\n",
       "      <th>sepal_width</th>\n",
       "      <th>petal_length</th>\n",
       "      <th>petal_width</th>\n",
       "      <th>species</th>\n",
       "    </tr>\n",
       "  </thead>\n",
       "  <tbody>\n",
       "    <tr>\n",
       "      <th>0</th>\n",
       "      <td>5.045070</td>\n",
       "      <td>2.508203</td>\n",
       "      <td>3.018024</td>\n",
       "      <td>1.164924</td>\n",
       "      <td>Iris-versicolor</td>\n",
       "    </tr>\n",
       "    <tr>\n",
       "      <th>1</th>\n",
       "      <td>6.325517</td>\n",
       "      <td>2.115481</td>\n",
       "      <td>4.542052</td>\n",
       "      <td>1.413651</td>\n",
       "      <td>Iris-versicolor</td>\n",
       "    </tr>\n",
       "    <tr>\n",
       "      <th>2</th>\n",
       "      <td>5.257497</td>\n",
       "      <td>3.814303</td>\n",
       "      <td>1.470660</td>\n",
       "      <td>0.395348</td>\n",
       "      <td>Iris-setosa</td>\n",
       "    </tr>\n",
       "    <tr>\n",
       "      <th>3</th>\n",
       "      <td>6.675168</td>\n",
       "      <td>3.201700</td>\n",
       "      <td>5.785461</td>\n",
       "      <td>2.362764</td>\n",
       "      <td>Iris-virginica</td>\n",
       "    </tr>\n",
       "    <tr>\n",
       "      <th>4</th>\n",
       "      <td>5.595237</td>\n",
       "      <td>2.678166</td>\n",
       "      <td>4.077750</td>\n",
       "      <td>1.369266</td>\n",
       "      <td>Iris-versicolor</td>\n",
       "    </tr>\n",
       "  </tbody>\n",
       "</table>\n",
       "</div>"
      ],
      "text/plain": [
       "   sepal_length  sepal_width  petal_length  petal_width          species\n",
       "0      5.045070     2.508203      3.018024     1.164924  Iris-versicolor\n",
       "1      6.325517     2.115481      4.542052     1.413651  Iris-versicolor\n",
       "2      5.257497     3.814303      1.470660     0.395348      Iris-setosa\n",
       "3      6.675168     3.201700      5.785461     2.362764   Iris-virginica\n",
       "4      5.595237     2.678166      4.077750     1.369266  Iris-versicolor"
      ]
     },
     "execution_count": 5,
     "metadata": {},
     "output_type": "execute_result"
    }
   ],
   "source": [
    "df_iris.head()"
   ]
  },
  {
   "cell_type": "code",
   "execution_count": 6,
   "metadata": {
    "execution": {
     "iopub.execute_input": "2021-01-30T19:32:01.923151Z",
     "iopub.status.busy": "2021-01-30T19:32:01.922327Z",
     "iopub.status.idle": "2021-01-30T19:32:01.928041Z",
     "shell.execute_reply": "2021-01-30T19:32:01.928490Z"
    },
    "papermill": {
     "duration": 0.046688,
     "end_time": "2021-01-30T19:32:01.928658",
     "exception": false,
     "start_time": "2021-01-30T19:32:01.881970",
     "status": "completed"
    },
    "tags": []
   },
   "outputs": [
    {
     "data": {
      "text/plain": [
       "Index(['sepal_length', 'sepal_width', 'petal_length', 'petal_width',\n",
       "       'species'],\n",
       "      dtype='object')"
      ]
     },
     "execution_count": 6,
     "metadata": {},
     "output_type": "execute_result"
    }
   ],
   "source": [
    "df_iris.columns"
   ]
  },
  {
   "cell_type": "code",
   "execution_count": 7,
   "metadata": {
    "execution": {
     "iopub.execute_input": "2021-01-30T19:32:02.006649Z",
     "iopub.status.busy": "2021-01-30T19:32:01.987552Z",
     "iopub.status.idle": "2021-01-30T19:32:05.760399Z",
     "shell.execute_reply": "2021-01-30T19:32:05.760954Z"
    },
    "papermill": {
     "duration": 3.808596,
     "end_time": "2021-01-30T19:32:05.761118",
     "exception": false,
     "start_time": "2021-01-30T19:32:01.952522",
     "status": "completed"
    },
    "tags": []
   },
   "outputs": [
    {
     "data": {
      "text/plain": [
       "<seaborn.axisgrid.PairGrid at 0x7f9662ddefd0>"
      ]
     },
     "execution_count": 7,
     "metadata": {},
     "output_type": "execute_result"
    },
    {
     "data": {
      "image/png": "[encoded data removed]",
      "text/plain": [
       "<Figure size 834.35x720 with 20 Axes>"
      ]
     },
     "metadata": {},
     "output_type": "display_data"
    }
   ],
   "source": [
    "sns.set(style='ticks', color_codes=True)\n",
    "sns.pairplot(df_iris, hue='species', palette='husl', markers=['o', 's', 'D'])"
   ]
  },
  {
   "cell_type": "code",
   "execution_count": 8,
   "metadata": {
    "execution": {
     "iopub.execute_input": "2021-01-30T19:32:05.830890Z",
     "iopub.status.busy": "2021-01-30T19:32:05.830219Z",
     "iopub.status.idle": "2021-01-30T19:32:06.108720Z",
     "shell.execute_reply": "2021-01-30T19:32:06.108120Z"
    },
    "papermill": {
     "duration": 0.311907,
     "end_time": "2021-01-30T19:32:06.108860",
     "exception": false,
     "start_time": "2021-01-30T19:32:05.796953",
     "status": "completed"
    },
    "tags": []
   },
   "outputs": [
    {
     "data": {
      "image/png": "[encoded data removed]",
      "text/plain": [
       "<Figure size 1440x1440 with 2 Axes>"
      ]
     },
     "metadata": {},
     "output_type": "display_data"
    }
   ],
   "source": [
    "# Get correlations of each features in dataset\n",
    "corrmat = df_iris.corr()\n",
    "top_corr_features = corrmat.index\n",
    "plt.figure(figsize=(20,20))\n",
    "\n",
    "# Plot heat map\n",
    "iris_heat_map=sns.heatmap(df_iris[top_corr_features].corr(),annot=True,cmap='RdYlGn')\n"
   ]
  },
  {
   "cell_type": "markdown",
   "metadata": {
    "papermill": {
     "duration": 0.030964,
     "end_time": "2021-01-30T19:32:06.170279",
     "exception": false,
     "start_time": "2021-01-30T19:32:06.139315",
     "status": "completed"
    },
    "tags": []
   },
   "source": [
    "### Calculation of  mean, variance, skew, kurtosis for the datasets"
   ]
  },
  {
   "cell_type": "code",
   "execution_count": 9,
   "metadata": {
    "execution": {
     "iopub.execute_input": "2021-01-30T19:32:06.239224Z",
     "iopub.status.busy": "2021-01-30T19:32:06.238601Z",
     "iopub.status.idle": "2021-01-30T19:32:06.243747Z",
     "shell.execute_reply": "2021-01-30T19:32:06.244384Z"
    },
    "papermill": {
     "duration": 0.043232,
     "end_time": "2021-01-30T19:32:06.244579",
     "exception": false,
     "start_time": "2021-01-30T19:32:06.201347",
     "status": "completed"
    },
    "tags": []
   },
   "outputs": [
    {
     "data": {
      "text/plain": [
       "sepal_length    0.401506\n",
       "sepal_width     0.367708\n",
       "petal_length   -0.255767\n",
       "petal_width    -0.074751\n",
       "dtype: float64"
      ]
     },
     "execution_count": 9,
     "metadata": {},
     "output_type": "execute_result"
    }
   ],
   "source": [
    "# calculate skew\n",
    "df_iris.skew()"
   ]
  },
  {
   "cell_type": "code",
   "execution_count": 10,
   "metadata": {
    "execution": {
     "iopub.execute_input": "2021-01-30T19:32:06.343113Z",
     "iopub.status.busy": "2021-01-30T19:32:06.342300Z",
     "iopub.status.idle": "2021-01-30T19:32:06.348166Z",
     "shell.execute_reply": "2021-01-30T19:32:06.348835Z"
    },
    "papermill": {
     "duration": 0.059007,
     "end_time": "2021-01-30T19:32:06.349037",
     "exception": false,
     "start_time": "2021-01-30T19:32:06.290030",
     "status": "completed"
    },
    "scrolled": true,
    "tags": []
   },
   "outputs": [
    {
     "data": {
      "text/plain": [
       "sepal_length   -0.544820\n",
       "sepal_width     0.510490\n",
       "petal_length   -1.389810\n",
       "petal_width    -1.315451\n",
       "dtype: float64"
      ]
     },
     "execution_count": 10,
     "metadata": {},
     "output_type": "execute_result"
    }
   ],
   "source": [
    "# calculate kurtosis\n",
    "df_iris.kurtosis()"
   ]
  },
  {
   "cell_type": "code",
   "execution_count": 11,
   "metadata": {
    "execution": {
     "iopub.execute_input": "2021-01-30T19:32:06.448552Z",
     "iopub.status.busy": "2021-01-30T19:32:06.447489Z",
     "iopub.status.idle": "2021-01-30T19:32:06.452392Z",
     "shell.execute_reply": "2021-01-30T19:32:06.451820Z"
    },
    "papermill": {
     "duration": 0.057543,
     "end_time": "2021-01-30T19:32:06.452515",
     "exception": false,
     "start_time": "2021-01-30T19:32:06.394972",
     "status": "completed"
    },
    "tags": []
   },
   "outputs": [
    {
     "data": {
      "text/plain": [
       "sepal_length    5.858909\n",
       "sepal_width     3.059083\n",
       "petal_length    3.812370\n",
       "petal_width     1.199708\n",
       "dtype: float64"
      ]
     },
     "execution_count": 11,
     "metadata": {},
     "output_type": "execute_result"
    }
   ],
   "source": [
    "# calculate mean\n",
    "df_iris.mean()"
   ]
  },
  {
   "cell_type": "code",
   "execution_count": 12,
   "metadata": {
    "execution": {
     "iopub.execute_input": "2021-01-30T19:32:06.525447Z",
     "iopub.status.busy": "2021-01-30T19:32:06.524544Z",
     "iopub.status.idle": "2021-01-30T19:32:06.529104Z",
     "shell.execute_reply": "2021-01-30T19:32:06.528495Z"
    },
    "papermill": {
     "duration": 0.044907,
     "end_time": "2021-01-30T19:32:06.529227",
     "exception": false,
     "start_time": "2021-01-30T19:32:06.484320",
     "status": "completed"
    },
    "tags": []
   },
   "outputs": [
    {
     "data": {
      "text/plain": [
       "sepal_length    0.742420\n",
       "sepal_width     0.207131\n",
       "petal_length    3.216602\n",
       "petal_width     0.619672\n",
       "dtype: float64"
      ]
     },
     "execution_count": 12,
     "metadata": {},
     "output_type": "execute_result"
    }
   ],
   "source": [
    "# calculate variance\n",
    "df_iris.var()"
   ]
  },
  {
   "cell_type": "markdown",
   "metadata": {
    "papermill": {
     "duration": 0.032354,
     "end_time": "2021-01-30T19:32:06.594007",
     "exception": false,
     "start_time": "2021-01-30T19:32:06.561653",
     "status": "completed"
    },
    "tags": []
   },
   "source": [
    "### Checking for null / NaN values"
   ]
  },
  {
   "cell_type": "code",
   "execution_count": 13,
   "metadata": {
    "execution": {
     "iopub.execute_input": "2021-01-30T19:32:06.666651Z",
     "iopub.status.busy": "2021-01-30T19:32:06.665823Z",
     "iopub.status.idle": "2021-01-30T19:32:06.669621Z",
     "shell.execute_reply": "2021-01-30T19:32:06.670238Z"
    },
    "papermill": {
     "duration": 0.043914,
     "end_time": "2021-01-30T19:32:06.670383",
     "exception": false,
     "start_time": "2021-01-30T19:32:06.626469",
     "status": "completed"
    },
    "tags": []
   },
   "outputs": [
    {
     "data": {
      "text/plain": [
       "True"
      ]
     },
     "execution_count": 13,
     "metadata": {},
     "output_type": "execute_result"
    }
   ],
   "source": [
    "# checking for any null / NaN values\n",
    "df_iris.isnull().values.any()"
   ]
  },
  {
   "cell_type": "code",
   "execution_count": 14,
   "metadata": {
    "execution": {
     "iopub.execute_input": "2021-01-30T19:32:06.745760Z",
     "iopub.status.busy": "2021-01-30T19:32:06.745111Z",
     "iopub.status.idle": "2021-01-30T19:32:06.749392Z",
     "shell.execute_reply": "2021-01-30T19:32:06.748741Z"
    },
    "papermill": {
     "duration": 0.045928,
     "end_time": "2021-01-30T19:32:06.749528",
     "exception": false,
     "start_time": "2021-01-30T19:32:06.703600",
     "status": "completed"
    },
    "tags": []
   },
   "outputs": [
    {
     "data": {
      "text/plain": [
       "sepal_length    0\n",
       "sepal_width     4\n",
       "petal_length    8\n",
       "petal_width     0\n",
       "species         0\n",
       "dtype: int64"
      ]
     },
     "execution_count": 14,
     "metadata": {},
     "output_type": "execute_result"
    }
   ],
   "source": [
    "# checking for any null / NaN values\n",
    "df_iris.isna().sum()"
   ]
  },
  {
   "cell_type": "code",
   "execution_count": 15,
   "metadata": {
    "execution": {
     "iopub.execute_input": "2021-01-30T19:32:06.820199Z",
     "iopub.status.busy": "2021-01-30T19:32:06.819579Z",
     "iopub.status.idle": "2021-01-30T19:32:07.620543Z",
     "shell.execute_reply": "2021-01-30T19:32:07.619878Z"
    },
    "papermill": {
     "duration": 0.836968,
     "end_time": "2021-01-30T19:32:07.620733",
     "exception": false,
     "start_time": "2021-01-30T19:32:06.783765",
     "status": "completed"
    },
    "tags": []
   },
   "outputs": [
    {
     "data": {
      "image/png": "[encoded data removed]",
      "text/plain": [
       "<Figure size 432x288 with 1 Axes>"
      ]
     },
     "metadata": {},
     "output_type": "display_data"
    },
    {
     "data": {
      "image/png": "[encoded data removed]",
      "text/plain": [
       "<Figure size 432x288 with 1 Axes>"
      ]
     },
     "metadata": {},
     "output_type": "display_data"
    },
    {
     "data": {
      "image/png": "[encoded data removed]",
      "text/plain": [
       "<Figure size 432x288 with 1 Axes>"
      ]
     },
     "metadata": {},
     "output_type": "display_data"
    },
    {
     "data": {
      "image/png": "[encoded data removed]",
      "text/plain": [
       "<Figure size 432x288 with 1 Axes>"
      ]
     },
     "metadata": {},
     "output_type": "display_data"
    }
   ],
   "source": [
    "for column in df_iris.columns[:-1]:\n",
    "    plt.figure()\n",
    "    ax = sns.boxplot(x='species', y=column, data=df_iris)\n",
    "    plt.show()"
   ]
  },
  {
   "cell_type": "code",
   "execution_count": 16,
   "metadata": {
    "execution": {
     "iopub.execute_input": "2021-01-30T19:32:07.733549Z",
     "iopub.status.busy": "2021-01-30T19:32:07.732949Z",
     "iopub.status.idle": "2021-01-30T19:32:07.738545Z",
     "shell.execute_reply": "2021-01-30T19:32:07.737920Z"
    },
    "papermill": {
     "duration": 0.065212,
     "end_time": "2021-01-30T19:32:07.738700",
     "exception": false,
     "start_time": "2021-01-30T19:32:07.673488",
     "status": "completed"
    },
    "tags": []
   },
   "outputs": [
    {
     "data": {
      "text/plain": [
       "67   -0.072203\n",
       "6    -0.042428\n",
       "34    0.020731\n",
       "43    0.091698\n",
       "80    0.104012\n",
       "        ...   \n",
       "65    2.423053\n",
       "71    2.424502\n",
       "62    2.478509\n",
       "44    2.554837\n",
       "47    2.603123\n",
       "Name: petal_width, Length: 105, dtype: float64"
      ]
     },
     "execution_count": 16,
     "metadata": {},
     "output_type": "execute_result"
    }
   ],
   "source": [
    "# checking for negative values\n",
    "df_iris['petal_width'].sort_values()"
   ]
  },
  {
   "cell_type": "code",
   "execution_count": 17,
   "metadata": {
    "execution": {
     "iopub.execute_input": "2021-01-30T19:32:07.822201Z",
     "iopub.status.busy": "2021-01-30T19:32:07.821483Z",
     "iopub.status.idle": "2021-01-30T19:32:07.826353Z",
     "shell.execute_reply": "2021-01-30T19:32:07.825706Z"
    },
    "papermill": {
     "duration": 0.050461,
     "end_time": "2021-01-30T19:32:07.826494",
     "exception": false,
     "start_time": "2021-01-30T19:32:07.776033",
     "status": "completed"
    },
    "tags": []
   },
   "outputs": [],
   "source": [
    "# replacing negative values with NaN (Will be later replaced with feature mean) \n",
    "for index in df_iris[df_iris['petal_width'] < 0].index:\n",
    "    df_iris.loc[index, 'petal_width'] = np.nan "
   ]
  },
  {
   "cell_type": "markdown",
   "metadata": {
    "papermill": {
     "duration": 0.036454,
     "end_time": "2021-01-30T19:32:07.900568",
     "exception": false,
     "start_time": "2021-01-30T19:32:07.864114",
     "status": "completed"
    },
    "tags": []
   },
   "source": [
    "### Checking for outliers using IQR"
   ]
  },
  {
   "cell_type": "code",
   "execution_count": 18,
   "metadata": {
    "execution": {
     "iopub.execute_input": "2021-01-30T19:32:08.131398Z",
     "iopub.status.busy": "2021-01-30T19:32:08.126500Z",
     "iopub.status.idle": "2021-01-30T19:32:08.239812Z",
     "shell.execute_reply": "2021-01-30T19:32:08.237488Z"
    },
    "papermill": {
     "duration": 0.302922,
     "end_time": "2021-01-30T19:32:08.240033",
     "exception": false,
     "start_time": "2021-01-30T19:32:07.937111",
     "status": "completed"
    },
    "tags": []
   },
   "outputs": [
    {
     "name": "stdout",
     "output_type": "stream",
     "text": [
      "IRIS-VERSICOLOR - SEPAL_LENGTH\n",
      "Percentiles: 25th = 5.594, 75th = 6.296, IQR = 0.701\n",
      "Identified outliers:  0\n",
      "IRIS-SETOSA - SEPAL_LENGTH\n",
      "Percentiles: 25th = 4.742, 75th = 5.213, IQR = 0.471\n",
      "Identified outliers:  0\n",
      "IRIS-VIRGINICA - SEPAL_LENGTH\n",
      "Percentiles: 25th = 6.156, 75th = 7.166, IQR = 1.010\n",
      "Identified outliers:  0\n",
      "IRIS-VERSICOLOR - SEPAL_WIDTH\n",
      "Percentiles: 25th = 2.527, 75th = 3.025, IQR = 0.498\n",
      "Identified outliers:  0\n",
      "IRIS-SETOSA - SEPAL_WIDTH\n",
      "Percentiles: 25th = 3.059, 75th = 3.668, IQR = 0.608\n",
      "Identified outliers:  0\n",
      "IRIS-VIRGINICA - SEPAL_WIDTH\n",
      "Percentiles: 25th = 2.803, 75th = 3.182, IQR = 0.379\n",
      "Identified outliers:  3\n",
      "IRIS-VERSICOLOR - PETAL_LENGTH\n",
      "Percentiles: 25th = 3.934, 75th = 4.640, IQR = 0.706\n",
      "Identified outliers:  0\n",
      "IRIS-SETOSA - PETAL_LENGTH\n",
      "Percentiles: 25th = 1.364, 75th = 1.542, IQR = 0.179\n",
      "Identified outliers:  3\n",
      "IRIS-VIRGINICA - PETAL_LENGTH\n",
      "Percentiles: 25th = 5.094, 75th = 6.010, IQR = 0.917\n",
      "Identified outliers:  0\n",
      "IRIS-VERSICOLOR - PETAL_WIDTH\n",
      "Percentiles: 25th = 1.141, 75th = 1.482, IQR = 0.341\n",
      "Identified outliers:  0\n",
      "IRIS-SETOSA - PETAL_WIDTH\n",
      "Percentiles: 25th = 0.167, 75th = 0.333, IQR = 0.166\n",
      "Identified outliers:  1\n",
      "IRIS-VIRGINICA - PETAL_WIDTH\n",
      "Percentiles: 25th = 1.828, 75th = 2.281, IQR = 0.454\n",
      "Identified outliers:  0\n"
     ]
    }
   ],
   "source": [
    "# finding outliers using Inter Quartile Range (IQR)\n",
    "for column in df_iris.columns[0:-1]:\n",
    "    for specie in df_iris['species'].unique():    \n",
    "        q25 = df_iris[column][df_iris['species'] == specie].quantile(0.25)\n",
    "        q75 = df_iris[column][df_iris['species'] == specie].quantile(0.75)\n",
    "        iqr = q75 - q25\n",
    "        print(specie.upper(), '-', column.upper())\n",
    "        print('Percentiles: 25th = %.3f, 75th = %.3f, IQR = %.3f' % (q25, q75, iqr))\n",
    "        \n",
    "        # Calculate the outlier cutoff\n",
    "        cut_off = iqr * 1.5\n",
    "        lower, upper = q25 - cut_off, q75 + cut_off\n",
    "\n",
    "        # Identify outliers\n",
    "        df_iris2 = pd.DataFrame(df_iris[df_iris['species'] == specie][column])\n",
    "\n",
    "        count = len(df_iris2[df_iris2[column] < lower].index)\n",
    "        count += len(df_iris2[df_iris2[column] > upper].index)\n",
    "        print('Identified outliers: ', count)\n",
    "\n",
    "        # replacing outliers with NaN (Will be later replaced with feature mean)\n",
    "        for index in df_iris2[df_iris2[column] < lower].index:\n",
    "            df_iris.loc[index, column] = np.nan\n",
    "        for index in df_iris2[df_iris2[column] > upper].index:\n",
    "            df_iris.loc[index, column] = np.nan"
   ]
  },
  {
   "cell_type": "code",
   "execution_count": 19,
   "metadata": {
    "execution": {
     "iopub.execute_input": "2021-01-30T19:32:08.330471Z",
     "iopub.status.busy": "2021-01-30T19:32:08.324981Z",
     "iopub.status.idle": "2021-01-30T19:32:08.347798Z",
     "shell.execute_reply": "2021-01-30T19:32:08.346883Z"
    },
    "papermill": {
     "duration": 0.069135,
     "end_time": "2021-01-30T19:32:08.347932",
     "exception": false,
     "start_time": "2021-01-30T19:32:08.278797",
     "status": "completed"
    },
    "tags": []
   },
   "outputs": [
    {
     "data": {
      "text/html": [
       "<div>\n",
       "<style scoped>\n",
       "    .dataframe tbody tr th:only-of-type {\n",
       "        vertical-align: middle;\n",
       "    }\n",
       "\n",
       "    .dataframe tbody tr th {\n",
       "        vertical-align: top;\n",
       "    }\n",
       "\n",
       "    .dataframe thead th {\n",
       "        text-align: right;\n",
       "    }\n",
       "</style>\n",
       "<table border=\"1\" class=\"dataframe\">\n",
       "  <thead>\n",
       "    <tr style=\"text-align: right;\">\n",
       "      <th></th>\n",
       "      <th>sepal_length</th>\n",
       "      <th>sepal_width</th>\n",
       "      <th>petal_length</th>\n",
       "      <th>petal_width</th>\n",
       "    </tr>\n",
       "  </thead>\n",
       "  <tbody>\n",
       "    <tr>\n",
       "      <th>count</th>\n",
       "      <td>105.000000</td>\n",
       "      <td>98.000000</td>\n",
       "      <td>94.000000</td>\n",
       "      <td>102.000000</td>\n",
       "    </tr>\n",
       "    <tr>\n",
       "      <th>mean</th>\n",
       "      <td>5.858909</td>\n",
       "      <td>3.052443</td>\n",
       "      <td>3.880252</td>\n",
       "      <td>1.230288</td>\n",
       "    </tr>\n",
       "    <tr>\n",
       "      <th>std</th>\n",
       "      <td>0.861638</td>\n",
       "      <td>0.441646</td>\n",
       "      <td>1.778404</td>\n",
       "      <td>0.776025</td>\n",
       "    </tr>\n",
       "    <tr>\n",
       "      <th>min</th>\n",
       "      <td>4.344007</td>\n",
       "      <td>1.946010</td>\n",
       "      <td>1.253850</td>\n",
       "      <td>0.020731</td>\n",
       "    </tr>\n",
       "    <tr>\n",
       "      <th>25%</th>\n",
       "      <td>5.159145</td>\n",
       "      <td>2.769449</td>\n",
       "      <td>1.549032</td>\n",
       "      <td>0.340189</td>\n",
       "    </tr>\n",
       "    <tr>\n",
       "      <th>50%</th>\n",
       "      <td>5.736104</td>\n",
       "      <td>3.045434</td>\n",
       "      <td>4.349280</td>\n",
       "      <td>1.359332</td>\n",
       "    </tr>\n",
       "    <tr>\n",
       "      <th>75%</th>\n",
       "      <td>6.435413</td>\n",
       "      <td>3.238732</td>\n",
       "      <td>5.097752</td>\n",
       "      <td>1.832747</td>\n",
       "    </tr>\n",
       "    <tr>\n",
       "      <th>max</th>\n",
       "      <td>7.795561</td>\n",
       "      <td>4.409565</td>\n",
       "      <td>6.768611</td>\n",
       "      <td>2.603123</td>\n",
       "    </tr>\n",
       "  </tbody>\n",
       "</table>\n",
       "</div>"
      ],
      "text/plain": [
       "       sepal_length  sepal_width  petal_length  petal_width\n",
       "count    105.000000    98.000000     94.000000   102.000000\n",
       "mean       5.858909     3.052443      3.880252     1.230288\n",
       "std        0.861638     0.441646      1.778404     0.776025\n",
       "min        4.344007     1.946010      1.253850     0.020731\n",
       "25%        5.159145     2.769449      1.549032     0.340189\n",
       "50%        5.736104     3.045434      4.349280     1.359332\n",
       "75%        6.435413     3.238732      5.097752     1.832747\n",
       "max        7.795561     4.409565      6.768611     2.603123"
      ]
     },
     "execution_count": 19,
     "metadata": {},
     "output_type": "execute_result"
    }
   ],
   "source": [
    "df_iris.describe()"
   ]
  },
  {
   "cell_type": "code",
   "execution_count": 20,
   "metadata": {
    "execution": {
     "iopub.execute_input": "2021-01-30T19:32:08.430434Z",
     "iopub.status.busy": "2021-01-30T19:32:08.429793Z",
     "iopub.status.idle": "2021-01-30T19:32:08.433751Z",
     "shell.execute_reply": "2021-01-30T19:32:08.433186Z"
    },
    "papermill": {
     "duration": 0.047324,
     "end_time": "2021-01-30T19:32:08.433888",
     "exception": false,
     "start_time": "2021-01-30T19:32:08.386564",
     "status": "completed"
    },
    "tags": []
   },
   "outputs": [],
   "source": [
    "# replacing all NaN values with feature mean\n",
    "for column in df_iris.columns[1:-1]:\n",
    "    df_iris[column].fillna(value=df_iris[column].mean(), inplace=True)"
   ]
  },
  {
   "cell_type": "code",
   "execution_count": 21,
   "metadata": {
    "execution": {
     "iopub.execute_input": "2021-01-30T19:32:08.517334Z",
     "iopub.status.busy": "2021-01-30T19:32:08.516527Z",
     "iopub.status.idle": "2021-01-30T19:32:08.520572Z",
     "shell.execute_reply": "2021-01-30T19:32:08.521082Z"
    },
    "papermill": {
     "duration": 0.049079,
     "end_time": "2021-01-30T19:32:08.521242",
     "exception": false,
     "start_time": "2021-01-30T19:32:08.472163",
     "status": "completed"
    },
    "tags": []
   },
   "outputs": [
    {
     "data": {
      "text/plain": [
       "False"
      ]
     },
     "execution_count": 21,
     "metadata": {},
     "output_type": "execute_result"
    }
   ],
   "source": [
    "# check if there are any null / NaN values\n",
    "df_iris.isnull().values.any()"
   ]
  },
  {
   "cell_type": "code",
   "execution_count": 22,
   "metadata": {
    "execution": {
     "iopub.execute_input": "2021-01-30T19:32:08.602899Z",
     "iopub.status.busy": "2021-01-30T19:32:08.602036Z",
     "iopub.status.idle": "2021-01-30T19:32:08.610346Z",
     "shell.execute_reply": "2021-01-30T19:32:08.609832Z"
    },
    "papermill": {
     "duration": 0.050211,
     "end_time": "2021-01-30T19:32:08.610483",
     "exception": false,
     "start_time": "2021-01-30T19:32:08.560272",
     "status": "completed"
    },
    "tags": []
   },
   "outputs": [
    {
     "data": {
      "text/plain": [
       "sepal_length    0\n",
       "sepal_width     0\n",
       "petal_length    0\n",
       "petal_width     0\n",
       "species         0\n",
       "dtype: int64"
      ]
     },
     "execution_count": 22,
     "metadata": {},
     "output_type": "execute_result"
    }
   ],
   "source": [
    "# check if there are any null / NaN values\n",
    "df_iris.isna().sum()"
   ]
  },
  {
   "cell_type": "code",
   "execution_count": 23,
   "metadata": {
    "execution": {
     "iopub.execute_input": "2021-01-30T19:32:08.700337Z",
     "iopub.status.busy": "2021-01-30T19:32:08.699528Z",
     "iopub.status.idle": "2021-01-30T19:32:08.716912Z",
     "shell.execute_reply": "2021-01-30T19:32:08.717565Z"
    },
    "papermill": {
     "duration": 0.067408,
     "end_time": "2021-01-30T19:32:08.717779",
     "exception": false,
     "start_time": "2021-01-30T19:32:08.650371",
     "status": "completed"
    },
    "tags": []
   },
   "outputs": [
    {
     "data": {
      "text/html": [
       "<div>\n",
       "<style scoped>\n",
       "    .dataframe tbody tr th:only-of-type {\n",
       "        vertical-align: middle;\n",
       "    }\n",
       "\n",
       "    .dataframe tbody tr th {\n",
       "        vertical-align: top;\n",
       "    }\n",
       "\n",
       "    .dataframe thead th {\n",
       "        text-align: right;\n",
       "    }\n",
       "</style>\n",
       "<table border=\"1\" class=\"dataframe\">\n",
       "  <thead>\n",
       "    <tr style=\"text-align: right;\">\n",
       "      <th></th>\n",
       "      <th>sepal_length</th>\n",
       "      <th>sepal_width</th>\n",
       "      <th>petal_length</th>\n",
       "      <th>petal_width</th>\n",
       "    </tr>\n",
       "  </thead>\n",
       "  <tbody>\n",
       "    <tr>\n",
       "      <th>count</th>\n",
       "      <td>105.000000</td>\n",
       "      <td>105.000000</td>\n",
       "      <td>105.000000</td>\n",
       "      <td>105.000000</td>\n",
       "    </tr>\n",
       "    <tr>\n",
       "      <th>mean</th>\n",
       "      <td>5.858909</td>\n",
       "      <td>3.052443</td>\n",
       "      <td>3.880252</td>\n",
       "      <td>1.230288</td>\n",
       "    </tr>\n",
       "    <tr>\n",
       "      <th>std</th>\n",
       "      <td>0.861638</td>\n",
       "      <td>0.426524</td>\n",
       "      <td>1.681726</td>\n",
       "      <td>0.764751</td>\n",
       "    </tr>\n",
       "    <tr>\n",
       "      <th>min</th>\n",
       "      <td>4.344007</td>\n",
       "      <td>1.946010</td>\n",
       "      <td>1.253850</td>\n",
       "      <td>0.020731</td>\n",
       "    </tr>\n",
       "    <tr>\n",
       "      <th>25%</th>\n",
       "      <td>5.159145</td>\n",
       "      <td>2.794790</td>\n",
       "      <td>1.592887</td>\n",
       "      <td>0.343669</td>\n",
       "    </tr>\n",
       "    <tr>\n",
       "      <th>50%</th>\n",
       "      <td>5.736104</td>\n",
       "      <td>3.052443</td>\n",
       "      <td>4.089166</td>\n",
       "      <td>1.331797</td>\n",
       "    </tr>\n",
       "    <tr>\n",
       "      <th>75%</th>\n",
       "      <td>6.435413</td>\n",
       "      <td>3.234061</td>\n",
       "      <td>5.062244</td>\n",
       "      <td>1.817211</td>\n",
       "    </tr>\n",
       "    <tr>\n",
       "      <th>max</th>\n",
       "      <td>7.795561</td>\n",
       "      <td>4.409565</td>\n",
       "      <td>6.768611</td>\n",
       "      <td>2.603123</td>\n",
       "    </tr>\n",
       "  </tbody>\n",
       "</table>\n",
       "</div>"
      ],
      "text/plain": [
       "       sepal_length  sepal_width  petal_length  petal_width\n",
       "count    105.000000   105.000000    105.000000   105.000000\n",
       "mean       5.858909     3.052443      3.880252     1.230288\n",
       "std        0.861638     0.426524      1.681726     0.764751\n",
       "min        4.344007     1.946010      1.253850     0.020731\n",
       "25%        5.159145     2.794790      1.592887     0.343669\n",
       "50%        5.736104     3.052443      4.089166     1.331797\n",
       "75%        6.435413     3.234061      5.062244     1.817211\n",
       "max        7.795561     4.409565      6.768611     2.603123"
      ]
     },
     "execution_count": 23,
     "metadata": {},
     "output_type": "execute_result"
    }
   ],
   "source": [
    "df_iris.describe()"
   ]
  },
  {
   "cell_type": "markdown",
   "metadata": {
    "papermill": {
     "duration": 0.058297,
     "end_time": "2021-01-30T19:32:08.834297",
     "exception": false,
     "start_time": "2021-01-30T19:32:08.776000",
     "status": "completed"
    },
    "tags": []
   },
   "source": [
    "# Question 2: KNN Classification"
   ]
  },
  {
   "cell_type": "code",
   "execution_count": 24,
   "metadata": {
    "execution": {
     "iopub.execute_input": "2021-01-30T19:32:08.955595Z",
     "iopub.status.busy": "2021-01-30T19:32:08.954713Z",
     "iopub.status.idle": "2021-01-30T19:32:09.309742Z",
     "shell.execute_reply": "2021-01-30T19:32:09.310213Z"
    },
    "papermill": {
     "duration": 0.418036,
     "end_time": "2021-01-30T19:32:09.310396",
     "exception": false,
     "start_time": "2021-01-30T19:32:08.892360",
     "status": "completed"
    },
    "tags": []
   },
   "outputs": [],
   "source": [
    "# importing libraries\n",
    "from sklearn.model_selection import train_test_split\n",
    "from sklearn.neighbors import KNeighborsClassifier\n",
    "from sklearn import metrics"
   ]
  },
  {
   "cell_type": "code",
   "execution_count": 25,
   "metadata": {
    "execution": {
     "iopub.execute_input": "2021-01-30T19:32:09.399429Z",
     "iopub.status.busy": "2021-01-30T19:32:09.398614Z",
     "iopub.status.idle": "2021-01-30T19:32:09.402765Z",
     "shell.execute_reply": "2021-01-30T19:32:09.402168Z"
    },
    "papermill": {
     "duration": 0.051297,
     "end_time": "2021-01-30T19:32:09.402907",
     "exception": false,
     "start_time": "2021-01-30T19:32:09.351610",
     "status": "completed"
    },
    "tags": []
   },
   "outputs": [],
   "source": [
    "# replacing \"species\" values with [0,1,2]\n",
    "df_iris[\"species\"]=df_iris[\"species\"].replace(\"Iris-setosa\",0).replace(\"Iris-versicolor\",1).replace(\"Iris-virginica\",2)"
   ]
  },
  {
   "cell_type": "code",
   "execution_count": 26,
   "metadata": {
    "execution": {
     "iopub.execute_input": "2021-01-30T19:32:09.491487Z",
     "iopub.status.busy": "2021-01-30T19:32:09.490667Z",
     "iopub.status.idle": "2021-01-30T19:32:09.494157Z",
     "shell.execute_reply": "2021-01-30T19:32:09.493538Z"
    },
    "papermill": {
     "duration": 0.051685,
     "end_time": "2021-01-30T19:32:09.494287",
     "exception": false,
     "start_time": "2021-01-30T19:32:09.442602",
     "status": "completed"
    },
    "tags": []
   },
   "outputs": [],
   "source": [
    "x_vars = ['sepal_length','sepal_width','petal_length','petal_width']\n",
    "\n",
    "X_train = df_iris[x_vars]\n",
    "y_train = df_iris.species\n",
    "X_test = df_iris_test[x_vars]"
   ]
  },
  {
   "cell_type": "markdown",
   "metadata": {
    "papermill": {
     "duration": 0.04082,
     "end_time": "2021-01-30T19:32:09.576767",
     "exception": false,
     "start_time": "2021-01-30T19:32:09.535947",
     "status": "completed"
    },
    "tags": []
   },
   "source": [
    "### Improved Model"
   ]
  },
  {
   "cell_type": "code",
   "execution_count": 27,
   "metadata": {
    "execution": {
     "iopub.execute_input": "2021-01-30T19:32:09.672694Z",
     "iopub.status.busy": "2021-01-30T19:32:09.671850Z",
     "iopub.status.idle": "2021-01-30T19:32:09.677797Z",
     "shell.execute_reply": "2021-01-30T19:32:09.678248Z"
    },
    "papermill": {
     "duration": 0.060892,
     "end_time": "2021-01-30T19:32:09.678416",
     "exception": false,
     "start_time": "2021-01-30T19:32:09.617524",
     "status": "completed"
    },
    "tags": []
   },
   "outputs": [],
   "source": [
    "# importing libraries\n",
    "from sklearn.preprocessing import StandardScaler\n",
    "from sklearn.preprocessing import MinMaxScaler\n",
    "\n",
    "# MinMax Scaler Normalization\n",
    "scaler_min_max = MinMaxScaler()\n",
    "# Fit object to data\n",
    "scaler_min_max.fit(X_train)\n",
    "# Get transformed train data\n",
    "X_train_normalized = scaler_min_max.transform(X_train)\n",
    "# Get transformed test data\n",
    "X_test_normalized = scaler_min_max.transform(X_test)\n",
    "\n",
    "knn = KNeighborsClassifier(metric='euclidean', weights='uniform')\n",
    "knn.fit(X_train_normalized, y_train.values.ravel()) \n",
    "y_pred = knn.predict(X_test_normalized)"
   ]
  },
  {
   "cell_type": "code",
   "execution_count": 28,
   "metadata": {
    "execution": {
     "iopub.execute_input": "2021-01-30T19:32:09.766315Z",
     "iopub.status.busy": "2021-01-30T19:32:09.765414Z",
     "iopub.status.idle": "2021-01-30T19:32:09.772384Z",
     "shell.execute_reply": "2021-01-30T19:32:09.771854Z"
    },
    "papermill": {
     "duration": 0.053383,
     "end_time": "2021-01-30T19:32:09.772527",
     "exception": false,
     "start_time": "2021-01-30T19:32:09.719144",
     "status": "completed"
    },
    "tags": []
   },
   "outputs": [],
   "source": [
    "# using best k value, fitting the model on training set predicting the target on test set\n",
    "knn =  KNeighborsClassifier(n_neighbors = 5, metric='euclidean', weights='uniform')\n",
    "knn.fit(X_train_normalized, y_train.values.ravel())\n",
    "y_pred = knn.predict(X_test_normalized)"
   ]
  },
  {
   "cell_type": "code",
   "execution_count": 29,
   "metadata": {
    "execution": {
     "iopub.execute_input": "2021-01-30T19:32:09.860998Z",
     "iopub.status.busy": "2021-01-30T19:32:09.860310Z",
     "iopub.status.idle": "2021-01-30T19:32:09.866976Z",
     "shell.execute_reply": "2021-01-30T19:32:09.866326Z"
    },
    "papermill": {
     "duration": 0.053338,
     "end_time": "2021-01-30T19:32:09.867109",
     "exception": false,
     "start_time": "2021-01-30T19:32:09.813771",
     "status": "completed"
    },
    "tags": []
   },
   "outputs": [],
   "source": [
    "my_submission = pd.DataFrame({'id': df_iris_test.id, 'species': y_pred})\n",
    "my_submission.to_csv('submission.csv', index=False)"
   ]
  }
 ],
 "metadata": {
  "kernelspec": {
   "display_name": "Python 3",
   "language": "python",
   "name": "python3"
  },
  "language_info": {
   "codemirror_mode": {
    "name": "ipython",
    "version": 3
   },
   "file_extension": ".py",
   "mimetype": "text/x-python",
   "name": "python",
   "nbconvert_exporter": "python",
   "pygments_lexer": "ipython3",
   "version": "3.7.9"
  },
  "papermill": {
   "default_parameters": {},
   "duration": 15.499339,
   "end_time": "2021-01-30T19:32:10.518105",
   "environment_variables": {},
   "exception": null,
   "input_path": "__notebook__.ipynb",
   "output_path": "__notebook__.ipynb",
   "parameters": {},
   "start_time": "2021-01-30T19:31:55.018766",
   "version": "2.2.2"
  }
 },
 "nbformat": 4,
 "nbformat_minor": 4
}
