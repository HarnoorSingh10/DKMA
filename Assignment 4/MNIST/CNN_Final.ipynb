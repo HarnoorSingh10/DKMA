{
  "nbformat": 4,
  "nbformat_minor": 0,
  "metadata": {
    "colab": {
      "name": "CNN-Final.ipynb",
      "provenance": [],
      "collapsed_sections": []
    },
    "kernelspec": {
      "display_name": "Python 3",
      "name": "python3"
    },
    "language_info": {
      "name": "python"
    },
    "accelerator": "GPU"
  },
  "cells": [
    {
      "cell_type": "code",
      "metadata": {
        "id": "cKIzwlmkLkLp",
        "colab": {
          "base_uri": "https://localhost:8080/"
        },
        "outputId": "b3d60f4b-16a0-4027-e269-804f29adc356"
      },
      "source": [
        "!pip install -q -U tensorflow>=1.8.0\n",
        "!pip install keras-visualizer\n",
        "import tensorflow as tf\n",
        "import numpy as np\n",
        "import pandas as pd\n",
        "import matplotlib.pyplot as plt\n",
        "import seaborn as sns\n",
        "import os, time\n",
        "\n",
        "# import warnings\n",
        "import warnings\n",
        "# filter warnings\n",
        "warnings.filterwarnings('ignore')"
      ],
      "execution_count": null,
      "outputs": [
        {
          "output_type": "stream",
          "text": [
            "Collecting keras-visualizer\n",
            "  Downloading https://files.pythonhosted.org/packages/7f/33/d95aabf4a19ba02d6800f9f7b34d614b1bfa1f2da2b08a0897df08d2cfc4/keras_visualizer-2.4-py3-none-any.whl\n",
            "Installing collected packages: keras-visualizer\n",
            "Successfully installed keras-visualizer-2.4\n"
          ],
          "name": "stdout"
        }
      ]
    },
    {
      "cell_type": "markdown",
      "metadata": {
        "id": "MH_PWTb8P51u"
      },
      "source": [
        "**Data Loading and Preprocessing**"
      ]
    },
    {
      "cell_type": "code",
      "metadata": {
        "id": "7UWhs3zlLro-"
      },
      "source": [
        "dataset = np.load('fashion_mnist_dataset_train.npy', allow_pickle=True).item()"
      ],
      "execution_count": null,
      "outputs": []
    },
    {
      "cell_type": "code",
      "metadata": {
        "id": "Gu7UoExjLve9"
      },
      "source": [
        "X = dataset['features']\n",
        "y = dataset['target']"
      ],
      "execution_count": null,
      "outputs": []
    },
    {
      "cell_type": "code",
      "metadata": {
        "colab": {
          "base_uri": "https://localhost:8080/"
        },
        "id": "30bLO8ZUMESt",
        "outputId": "49737f78-ecd6-4668-c4cd-5a3806f5fcb9"
      },
      "source": [
        "X.shape, y.shape"
      ],
      "execution_count": null,
      "outputs": [
        {
          "output_type": "execute_result",
          "data": {
            "text/plain": [
              "((60000, 28, 28), (60000,))"
            ]
          },
          "metadata": {
            "tags": []
          },
          "execution_count": 4
        }
      ]
    },
    {
      "cell_type": "code",
      "metadata": {
        "colab": {
          "base_uri": "https://localhost:8080/"
        },
        "id": "kJshUodyMIzN",
        "outputId": "96038bc1-ded6-4757-b600-f84f1f83b0d2"
      },
      "source": [
        "y"
      ],
      "execution_count": null,
      "outputs": [
        {
          "output_type": "execute_result",
          "data": {
            "text/plain": [
              "array([5., 2., 1., ..., 3., 1., 4.])"
            ]
          },
          "metadata": {
            "tags": []
          },
          "execution_count": 5
        }
      ]
    },
    {
      "cell_type": "code",
      "metadata": {
        "id": "pGJdjLa2MTbt"
      },
      "source": [
        "y = y-1"
      ],
      "execution_count": null,
      "outputs": []
    },
    {
      "cell_type": "code",
      "metadata": {
        "colab": {
          "base_uri": "https://localhost:8080/"
        },
        "id": "E_wolhQFMT8X",
        "outputId": "e5bdb503-a5b7-4d19-9e48-a0a64cc54350"
      },
      "source": [
        "y"
      ],
      "execution_count": null,
      "outputs": [
        {
          "output_type": "execute_result",
          "data": {
            "text/plain": [
              "array([4., 1., 0., ..., 2., 0., 3.])"
            ]
          },
          "metadata": {
            "tags": []
          },
          "execution_count": 7
        }
      ]
    },
    {
      "cell_type": "code",
      "metadata": {
        "id": "p2kWC8mFMW0t"
      },
      "source": [
        "from tensorflow.keras.utils import to_categorical\n",
        "y = to_categorical(y, 5)"
      ],
      "execution_count": null,
      "outputs": []
    },
    {
      "cell_type": "code",
      "metadata": {
        "colab": {
          "base_uri": "https://localhost:8080/"
        },
        "id": "aWJiLEVsMXjW",
        "outputId": "2dc7872a-9a27-404c-d458-d527e04a95af"
      },
      "source": [
        "y"
      ],
      "execution_count": null,
      "outputs": [
        {
          "output_type": "execute_result",
          "data": {
            "text/plain": [
              "array([[0., 0., 0., 0., 1.],\n",
              "       [0., 1., 0., 0., 0.],\n",
              "       [1., 0., 0., 0., 0.],\n",
              "       ...,\n",
              "       [0., 0., 1., 0., 0.],\n",
              "       [1., 0., 0., 0., 0.],\n",
              "       [0., 0., 0., 1., 0.]], dtype=float32)"
            ]
          },
          "metadata": {
            "tags": []
          },
          "execution_count": 9
        }
      ]
    },
    {
      "cell_type": "code",
      "metadata": {
        "colab": {
          "base_uri": "https://localhost:8080/"
        },
        "id": "1Odim8otMbRd",
        "outputId": "dba3c3f4-bf23-40d9-dbaa-2d3ce0079eb3"
      },
      "source": [
        "y.shape"
      ],
      "execution_count": null,
      "outputs": [
        {
          "output_type": "execute_result",
          "data": {
            "text/plain": [
              "(60000, 5)"
            ]
          },
          "metadata": {
            "tags": []
          },
          "execution_count": 10
        }
      ]
    },
    {
      "cell_type": "markdown",
      "metadata": {
        "id": "V0jxz6eyP0St"
      },
      "source": [
        "**Train-Val-Test Split**"
      ]
    },
    {
      "cell_type": "code",
      "metadata": {
        "id": "WdhGDAmWMEZ1"
      },
      "source": [
        "from sklearn.model_selection import train_test_split\n",
        "\n",
        "# train - val - test split (80%-10%-10% , random seed =0)\n",
        "X_train, X_test, y_train, y_test = train_test_split(X, y, test_size=0.2, random_state=0)\n",
        "X_test, X_val, y_test, y_val = train_test_split(X_test, y_test, test_size=0.5, random_state=0)"
      ],
      "execution_count": null,
      "outputs": []
    },
    {
      "cell_type": "code",
      "metadata": {
        "id": "XksvOPvOMeUe"
      },
      "source": [
        "X_train = tf.expand_dims(X_train, axis=-1)\n",
        "X_val = tf.expand_dims(X_val, axis=-1)\n",
        "X_test = tf.expand_dims(X_test, axis=-1)"
      ],
      "execution_count": null,
      "outputs": []
    },
    {
      "cell_type": "code",
      "metadata": {
        "colab": {
          "base_uri": "https://localhost:8080/"
        },
        "id": "E7mykEBwMtqG",
        "outputId": "f24ca7b2-e912-4839-fb71-22ef35d0dfcb"
      },
      "source": [
        "X_train.shape, X_val.shape, X_test.shape"
      ],
      "execution_count": null,
      "outputs": [
        {
          "output_type": "execute_result",
          "data": {
            "text/plain": [
              "(TensorShape([48000, 28, 28, 1]),\n",
              " TensorShape([6000, 28, 28, 1]),\n",
              " TensorShape([6000, 28, 28, 1]))"
            ]
          },
          "metadata": {
            "tags": []
          },
          "execution_count": 13
        }
      ]
    },
    {
      "cell_type": "markdown",
      "metadata": {
        "id": "7qYrQNwiPvHW"
      },
      "source": [
        "**CNN Model**"
      ]
    },
    {
      "cell_type": "code",
      "metadata": {
        "id": "SAZO0C-7Lzxk"
      },
      "source": [
        "# import the necessary packages\n",
        "from tensorflow.keras.models import Sequential\n",
        "from tensorflow.keras.layers import BatchNormalization\n",
        "from tensorflow.keras.layers import Conv2D\n",
        "from tensorflow.keras.layers import MaxPooling2D\n",
        "from tensorflow.keras.layers import Activation\n",
        "from tensorflow.keras.layers import Flatten\n",
        "from tensorflow.keras.layers import Dropout\n",
        "from tensorflow.keras.layers import Dense\n",
        "from tensorflow.keras import backend as K\n",
        "from tensorflow.keras.optimizers import Adam, SGD\n",
        "from keras_visualizer import visualizer\n"
      ],
      "execution_count": null,
      "outputs": []
    },
    {
      "cell_type": "code",
      "metadata": {
        "id": "mAzOHLGlM4eP"
      },
      "source": [
        "IMG_ROWS = 28\n",
        "IMG_COLS = 28\n",
        "CHANNEL = 1\n",
        "NUM_CLASSES = 5\n",
        "TEST_SIZE = 0.2\n",
        "RANDOM_STATE = 0\n",
        "\n",
        "#Model\n",
        "EPOCHS = 50\n",
        "BATCH_SIZE = 128"
      ],
      "execution_count": null,
      "outputs": []
    },
    {
      "cell_type": "markdown",
      "metadata": {
        "id": "HN9D_wNcetet"
      },
      "source": [
        "**Model 1**"
      ]
    },
    {
      "cell_type": "code",
      "metadata": {
        "id": "321w27SiJKK7"
      },
      "source": [
        "# Model 1\n",
        "model1 = Sequential()\n",
        "# Add convolution 2D\n",
        "model1.add(Conv2D(32, kernel_size=(3, 3),\n",
        "                 activation='relu',\n",
        "                 kernel_initializer='he_normal',\n",
        "                 input_shape=(28, 28, 1)))\n",
        "model1.add(MaxPooling2D((2, 2)))\n",
        "model1.add(Conv2D(64, \n",
        "                 kernel_size=(3, 3), \n",
        "                 activation='relu'))\n",
        "model1.add(MaxPooling2D(pool_size=(2, 2)))\n",
        "model1.add(Conv2D(128, (3, 3), activation='relu'))\n",
        "model1.add(Flatten())\n",
        "model1.add(Dense(128, activation='relu'))\n",
        "model1.add(Dense(5, activation='softmax'))\n",
        "\n",
        "\n",
        "model1.compile(loss='categorical_crossentropy',\n",
        "              optimizer=Adam(),\n",
        "              metrics=['accuracy'])"
      ],
      "execution_count": null,
      "outputs": []
    },
    {
      "cell_type": "code",
      "metadata": {
        "colab": {
          "base_uri": "https://localhost:8080/"
        },
        "id": "ZxaMp8DVlMSG",
        "outputId": "55d15401-6f19-4e49-a079-2d9cbc807dae"
      },
      "source": [
        "model1.summary()"
      ],
      "execution_count": null,
      "outputs": [
        {
          "output_type": "stream",
          "text": [
            "Model: \"sequential\"\n",
            "_________________________________________________________________\n",
            "Layer (type)                 Output Shape              Param #   \n",
            "=================================================================\n",
            "conv2d (Conv2D)              (None, 26, 26, 32)        320       \n",
            "_________________________________________________________________\n",
            "max_pooling2d (MaxPooling2D) (None, 13, 13, 32)        0         \n",
            "_________________________________________________________________\n",
            "conv2d_1 (Conv2D)            (None, 11, 11, 64)        18496     \n",
            "_________________________________________________________________\n",
            "max_pooling2d_1 (MaxPooling2 (None, 5, 5, 64)          0         \n",
            "_________________________________________________________________\n",
            "conv2d_2 (Conv2D)            (None, 3, 3, 128)         73856     \n",
            "_________________________________________________________________\n",
            "flatten (Flatten)            (None, 1152)              0         \n",
            "_________________________________________________________________\n",
            "dense (Dense)                (None, 128)               147584    \n",
            "_________________________________________________________________\n",
            "dense_1 (Dense)              (None, 5)                 645       \n",
            "=================================================================\n",
            "Total params: 240,901\n",
            "Trainable params: 240,901\n",
            "Non-trainable params: 0\n",
            "_________________________________________________________________\n"
          ],
          "name": "stdout"
        }
      ]
    },
    {
      "cell_type": "markdown",
      "metadata": {
        "id": "9TvWqtU5fSHF"
      },
      "source": [
        "**Model 2**"
      ]
    },
    {
      "cell_type": "code",
      "metadata": {
        "id": "sxYDQGfVL5Cd"
      },
      "source": [
        "# Model 2\n",
        "model2 = Sequential()\n",
        "# Add convolution 2D\n",
        "model2.add(Conv2D(32, kernel_size=(3, 3),\n",
        "                 activation='relu',\n",
        "                 kernel_initializer='he_normal',\n",
        "                 input_shape=(28, 28, 1)))\n",
        "model2.add(BatchNormalization(axis=-1))\n",
        "model2.add(Dropout(0.25))\n",
        "model2.add(MaxPooling2D((2, 2)))\n",
        "model2.add(Conv2D(64, \n",
        "                 kernel_size=(3, 3), \n",
        "                 activation='relu'))\n",
        "model2.add(BatchNormalization(axis=-1))\n",
        "model2.add(MaxPooling2D(pool_size=(2, 2)))\n",
        "model2.add(Dropout(0.25))\n",
        "model2.add(Conv2D(128, (3, 3), activation='relu'))\n",
        "model2.add(BatchNormalization(axis=-1))\n",
        "model2.add(Dropout(0.4))\n",
        "model2.add(Flatten())\n",
        "model2.add(Dense(128, activation='relu'))\n",
        "model2.add(BatchNormalization())\n",
        "model2.add(Dropout(0.3))\n",
        "model2.add(Dense(5, activation='softmax'))\n",
        "\n",
        "\n",
        "model2.compile(loss='categorical_crossentropy',\n",
        "              optimizer=Adam(),\n",
        "              metrics=['accuracy'])"
      ],
      "execution_count": null,
      "outputs": []
    },
    {
      "cell_type": "code",
      "metadata": {
        "colab": {
          "base_uri": "https://localhost:8080/"
        },
        "id": "0RTy49j_lPEi",
        "outputId": "7a0e018e-9829-4d5f-db0d-8f36ceca1b7f"
      },
      "source": [
        "model2.summary()"
      ],
      "execution_count": null,
      "outputs": [
        {
          "output_type": "stream",
          "text": [
            "Model: \"sequential_1\"\n",
            "_________________________________________________________________\n",
            "Layer (type)                 Output Shape              Param #   \n",
            "=================================================================\n",
            "conv2d_3 (Conv2D)            (None, 26, 26, 32)        320       \n",
            "_________________________________________________________________\n",
            "batch_normalization (BatchNo (None, 26, 26, 32)        128       \n",
            "_________________________________________________________________\n",
            "dropout (Dropout)            (None, 26, 26, 32)        0         \n",
            "_________________________________________________________________\n",
            "max_pooling2d_2 (MaxPooling2 (None, 13, 13, 32)        0         \n",
            "_________________________________________________________________\n",
            "conv2d_4 (Conv2D)            (None, 11, 11, 64)        18496     \n",
            "_________________________________________________________________\n",
            "batch_normalization_1 (Batch (None, 11, 11, 64)        256       \n",
            "_________________________________________________________________\n",
            "max_pooling2d_3 (MaxPooling2 (None, 5, 5, 64)          0         \n",
            "_________________________________________________________________\n",
            "dropout_1 (Dropout)          (None, 5, 5, 64)          0         \n",
            "_________________________________________________________________\n",
            "conv2d_5 (Conv2D)            (None, 3, 3, 128)         73856     \n",
            "_________________________________________________________________\n",
            "batch_normalization_2 (Batch (None, 3, 3, 128)         512       \n",
            "_________________________________________________________________\n",
            "dropout_2 (Dropout)          (None, 3, 3, 128)         0         \n",
            "_________________________________________________________________\n",
            "flatten_1 (Flatten)          (None, 1152)              0         \n",
            "_________________________________________________________________\n",
            "dense_2 (Dense)              (None, 128)               147584    \n",
            "_________________________________________________________________\n",
            "batch_normalization_3 (Batch (None, 128)               512       \n",
            "_________________________________________________________________\n",
            "dropout_3 (Dropout)          (None, 128)               0         \n",
            "_________________________________________________________________\n",
            "dense_3 (Dense)              (None, 5)                 645       \n",
            "=================================================================\n",
            "Total params: 242,309\n",
            "Trainable params: 241,605\n",
            "Non-trainable params: 704\n",
            "_________________________________________________________________\n"
          ],
          "name": "stdout"
        }
      ]
    },
    {
      "cell_type": "markdown",
      "metadata": {
        "id": "qkcx6xkPfV1K"
      },
      "source": [
        "**Model 3**"
      ]
    },
    {
      "cell_type": "code",
      "metadata": {
        "id": "DYXx5AsCPIfA"
      },
      "source": [
        "# Model 3\n",
        "\n",
        "model3 = Sequential()\n",
        "model3.add(Conv2D(32, kernel_size=(3, 3),activation='relu', input_shape=(28,28,1)))\n",
        "model3.add(BatchNormalization())\n",
        "\n",
        "model3.add(Conv2D(32, kernel_size=(3, 3),activation='relu'))\n",
        "model3.add(BatchNormalization())\n",
        "model3.add(MaxPooling2D(pool_size=(2, 2)))\n",
        "model3.add(Dropout(0.2))\n",
        "\n",
        "model3.add(Conv2D(64, kernel_size=(3, 3),activation='relu'))\n",
        "model3.add(BatchNormalization())\n",
        "model3.add(Dropout(0.2))\n",
        "\n",
        "model3.add(Conv2D(128, kernel_size=(3, 3),activation='relu'))\n",
        "model3.add(BatchNormalization())\n",
        "model3.add(MaxPooling2D(pool_size=(2, 2)))\n",
        "model3.add(Dropout(0.3))\n",
        "\n",
        "model3.add(Flatten())\n",
        "\n",
        "model3.add(Dense(512, activation='relu'))\n",
        "model3.add(BatchNormalization())\n",
        "model3.add(Dropout(0.4))\n",
        "\n",
        "model3.add(Dense(128, activation='relu'))\n",
        "model3.add(BatchNormalization())\n",
        "model3.add(Dropout(0.4))\n",
        "\n",
        "model3.add(Dense(5, activation='softmax'))\n",
        "\n",
        "\n",
        "\n",
        "model3.compile(loss='categorical_crossentropy',\n",
        "              optimizer=Adam(),\n",
        "              metrics=['accuracy'])"
      ],
      "execution_count": null,
      "outputs": []
    },
    {
      "cell_type": "code",
      "metadata": {
        "colab": {
          "base_uri": "https://localhost:8080/"
        },
        "id": "qiV11sMblQwi",
        "outputId": "61ef1caa-c45a-42b5-f654-f8416a0580f4"
      },
      "source": [
        "model3.summary()"
      ],
      "execution_count": null,
      "outputs": [
        {
          "output_type": "stream",
          "text": [
            "Model: \"sequential_2\"\n",
            "_________________________________________________________________\n",
            "Layer (type)                 Output Shape              Param #   \n",
            "=================================================================\n",
            "conv2d_6 (Conv2D)            (None, 26, 26, 32)        320       \n",
            "_________________________________________________________________\n",
            "batch_normalization_4 (Batch (None, 26, 26, 32)        128       \n",
            "_________________________________________________________________\n",
            "conv2d_7 (Conv2D)            (None, 24, 24, 32)        9248      \n",
            "_________________________________________________________________\n",
            "batch_normalization_5 (Batch (None, 24, 24, 32)        128       \n",
            "_________________________________________________________________\n",
            "max_pooling2d_4 (MaxPooling2 (None, 12, 12, 32)        0         \n",
            "_________________________________________________________________\n",
            "dropout_4 (Dropout)          (None, 12, 12, 32)        0         \n",
            "_________________________________________________________________\n",
            "conv2d_8 (Conv2D)            (None, 10, 10, 64)        18496     \n",
            "_________________________________________________________________\n",
            "batch_normalization_6 (Batch (None, 10, 10, 64)        256       \n",
            "_________________________________________________________________\n",
            "dropout_5 (Dropout)          (None, 10, 10, 64)        0         \n",
            "_________________________________________________________________\n",
            "conv2d_9 (Conv2D)            (None, 8, 8, 128)         73856     \n",
            "_________________________________________________________________\n",
            "batch_normalization_7 (Batch (None, 8, 8, 128)         512       \n",
            "_________________________________________________________________\n",
            "max_pooling2d_5 (MaxPooling2 (None, 4, 4, 128)         0         \n",
            "_________________________________________________________________\n",
            "dropout_6 (Dropout)          (None, 4, 4, 128)         0         \n",
            "_________________________________________________________________\n",
            "flatten_2 (Flatten)          (None, 2048)              0         \n",
            "_________________________________________________________________\n",
            "dense_4 (Dense)              (None, 512)               1049088   \n",
            "_________________________________________________________________\n",
            "batch_normalization_8 (Batch (None, 512)               2048      \n",
            "_________________________________________________________________\n",
            "dropout_7 (Dropout)          (None, 512)               0         \n",
            "_________________________________________________________________\n",
            "dense_5 (Dense)              (None, 128)               65664     \n",
            "_________________________________________________________________\n",
            "batch_normalization_9 (Batch (None, 128)               512       \n",
            "_________________________________________________________________\n",
            "dropout_8 (Dropout)          (None, 128)               0         \n",
            "_________________________________________________________________\n",
            "dense_6 (Dense)              (None, 5)                 645       \n",
            "=================================================================\n",
            "Total params: 1,220,901\n",
            "Trainable params: 1,219,109\n",
            "Non-trainable params: 1,792\n",
            "_________________________________________________________________\n"
          ],
          "name": "stdout"
        }
      ]
    },
    {
      "cell_type": "markdown",
      "metadata": {
        "id": "wDR6F5aNfZ5r"
      },
      "source": [
        "**Model 4**"
      ]
    },
    {
      "cell_type": "code",
      "metadata": {
        "id": "w0D2U-nxVRYQ"
      },
      "source": [
        "from keras import regularizers\n",
        "\n",
        "# Model 4 Conv (Best Model)\n",
        "\n",
        "model4 = Sequential()\n",
        "model4.add(Conv2D(32, kernel_size=(3, 3), \n",
        "                  padding='same',\n",
        "                  activation='relu',\n",
        "                  kernel_initializer='he_normal',\n",
        "                  kernel_regularizer=regularizers.l2(0.0001), \n",
        "                  input_shape=(28,28,1)))\n",
        "model4.add(BatchNormalization())\n",
        "\n",
        "model4.add(Conv2D(32, kernel_size=(3, 3), \n",
        "                  padding='same',\n",
        "                  kernel_regularizer=regularizers.l2(0.0001),\n",
        "                  activation='relu'))\n",
        "model4.add(BatchNormalization())\n",
        "model4.add(MaxPooling2D(pool_size=(2, 2)))\n",
        "model4.add(Dropout(0.3))\n",
        "\n",
        "model4.add(Conv2D(64, kernel_size=(3, 3), \n",
        "                  padding='same',\n",
        "                  kernel_regularizer=regularizers.l2(0.0001),\n",
        "                  activation='relu'))\n",
        "model4.add(BatchNormalization())\n",
        "model4.add(Dropout(0.3))\n",
        "\n",
        "model4.add(Conv2D(128, kernel_size=(3, 3),\n",
        "                  padding='same',\n",
        "                  kernel_regularizer=regularizers.l2(0.0001),\n",
        "                  activation='relu'))\n",
        "model4.add(BatchNormalization())\n",
        "model4.add(MaxPooling2D(pool_size=(2, 2)))\n",
        "model4.add(Dropout(0.4))\n",
        "\n",
        "model4.add(Flatten())\n",
        "\n",
        "model4.add(Dense(512, activation='relu'))\n",
        "model4.add(BatchNormalization())\n",
        "model4.add(Dropout(0.5))\n",
        "\n",
        "model4.add(Dense(128, activation='relu'))\n",
        "model4.add(BatchNormalization())\n",
        "model4.add(Dropout(0.5))\n",
        "\n",
        "model4.add(Dense(5, activation='softmax'))\n",
        "\n",
        "\n",
        "\n",
        "model4.compile(loss='categorical_crossentropy',\n",
        "              optimizer=Adam(),\n",
        "              metrics=['accuracy'])"
      ],
      "execution_count": null,
      "outputs": []
    },
    {
      "cell_type": "code",
      "metadata": {
        "colab": {
          "base_uri": "https://localhost:8080/"
        },
        "id": "zYRnVNGdlSw6",
        "outputId": "81f9d024-ea10-4a0f-dc61-6d2be50a464b"
      },
      "source": [
        "model4.summary()"
      ],
      "execution_count": null,
      "outputs": [
        {
          "output_type": "stream",
          "text": [
            "Model: \"sequential_3\"\n",
            "_________________________________________________________________\n",
            "Layer (type)                 Output Shape              Param #   \n",
            "=================================================================\n",
            "conv2d_10 (Conv2D)           (None, 28, 28, 32)        320       \n",
            "_________________________________________________________________\n",
            "batch_normalization_10 (Batc (None, 28, 28, 32)        128       \n",
            "_________________________________________________________________\n",
            "conv2d_11 (Conv2D)           (None, 28, 28, 32)        9248      \n",
            "_________________________________________________________________\n",
            "batch_normalization_11 (Batc (None, 28, 28, 32)        128       \n",
            "_________________________________________________________________\n",
            "max_pooling2d_6 (MaxPooling2 (None, 14, 14, 32)        0         \n",
            "_________________________________________________________________\n",
            "dropout_9 (Dropout)          (None, 14, 14, 32)        0         \n",
            "_________________________________________________________________\n",
            "conv2d_12 (Conv2D)           (None, 14, 14, 64)        18496     \n",
            "_________________________________________________________________\n",
            "batch_normalization_12 (Batc (None, 14, 14, 64)        256       \n",
            "_________________________________________________________________\n",
            "dropout_10 (Dropout)         (None, 14, 14, 64)        0         \n",
            "_________________________________________________________________\n",
            "conv2d_13 (Conv2D)           (None, 14, 14, 128)       73856     \n",
            "_________________________________________________________________\n",
            "batch_normalization_13 (Batc (None, 14, 14, 128)       512       \n",
            "_________________________________________________________________\n",
            "max_pooling2d_7 (MaxPooling2 (None, 7, 7, 128)         0         \n",
            "_________________________________________________________________\n",
            "dropout_11 (Dropout)         (None, 7, 7, 128)         0         \n",
            "_________________________________________________________________\n",
            "flatten_3 (Flatten)          (None, 6272)              0         \n",
            "_________________________________________________________________\n",
            "dense_7 (Dense)              (None, 512)               3211776   \n",
            "_________________________________________________________________\n",
            "batch_normalization_14 (Batc (None, 512)               2048      \n",
            "_________________________________________________________________\n",
            "dropout_12 (Dropout)         (None, 512)               0         \n",
            "_________________________________________________________________\n",
            "dense_8 (Dense)              (None, 128)               65664     \n",
            "_________________________________________________________________\n",
            "batch_normalization_15 (Batc (None, 128)               512       \n",
            "_________________________________________________________________\n",
            "dropout_13 (Dropout)         (None, 128)               0         \n",
            "_________________________________________________________________\n",
            "dense_9 (Dense)              (None, 5)                 645       \n",
            "=================================================================\n",
            "Total params: 3,383,589\n",
            "Trainable params: 3,381,797\n",
            "Non-trainable params: 1,792\n",
            "_________________________________________________________________\n"
          ],
          "name": "stdout"
        }
      ]
    },
    {
      "cell_type": "code",
      "metadata": {
        "id": "6AlPcV3mHdr8"
      },
      "source": [
        "#visualizer(model4, format='png', view=True)"
      ],
      "execution_count": null,
      "outputs": []
    },
    {
      "cell_type": "code",
      "metadata": {
        "id": "PHCXWR2FQ86p"
      },
      "source": [
        "# from keras import regularizers\n",
        "\n",
        "# # Model 4 Conv (Best Model 1)\n",
        "\n",
        "# model = Sequential()\n",
        "# model.add(Conv2D(32, kernel_size=(3, 3),\n",
        "#                  activation='relu',\n",
        "#                  kernel_initializer='he_normal',\n",
        "#                  kernel_regularizer=regularizers.l2(), \n",
        "#                  input_shape=(28,28,1)))\n",
        "# model.add(BatchNormalization())\n",
        "\n",
        "# model.add(Conv2D(32, kernel_size=(3, 3), \n",
        "#                  kernel_regularizer=regularizers.l2(),\n",
        "#                  activation='relu'))\n",
        "# model.add(BatchNormalization())\n",
        "# model.add(MaxPooling2D(pool_size=(2, 2)))\n",
        "# model.add(Dropout(0.25))\n",
        "\n",
        "# model.add(Conv2D(64, kernel_size=(3, 3), \n",
        "#                  kernel_regularizer=regularizers.l2(),\n",
        "#                  activation='relu'))\n",
        "# model.add(BatchNormalization())\n",
        "# model.add(Dropout(0.25))\n",
        "\n",
        "# model.add(Conv2D(128, kernel_size=(3, 3),\n",
        "#                  kernel_regularizer=regularizers.l2(),\n",
        "#                  activation='relu'))\n",
        "# model.add(BatchNormalization())\n",
        "# model.add(MaxPooling2D(pool_size=(2, 2)))\n",
        "# model.add(Dropout(0.4))\n",
        "\n",
        "# model.add(Flatten())\n",
        "\n",
        "# model.add(Dense(512, activation='relu'))\n",
        "# model.add(BatchNormalization())\n",
        "# model.add(Dropout(0.5))\n",
        "\n",
        "# model.add(Dense(128, activation='relu'))\n",
        "# model.add(BatchNormalization())\n",
        "# model.add(Dropout(0.5))\n",
        "\n",
        "# model.add(Dense(5, activation='softmax'))\n",
        "\n",
        "\n",
        "\n",
        "# model.compile(loss='categorical_crossentropy',\n",
        "#               optimizer=Adam(),\n",
        "#               metrics=['accuracy'])"
      ],
      "execution_count": null,
      "outputs": []
    },
    {
      "cell_type": "code",
      "metadata": {
        "id": "JMcp3EpcZXBO"
      },
      "source": [
        "# from keras import regularizers\n",
        "\n",
        "# # Model 4 Conv\n",
        "\n",
        "# model = Sequential()\n",
        "# model.add(Conv2D(32, kernel_size=(3, 3), padding='same',activation='relu',kernel_initializer='he_normal',kernel_regularizer=regularizers.l2(0.0001), input_shape=(28,28,1)))\n",
        "# model.add(BatchNormalization())\n",
        "\n",
        "# model.add(Conv2D(32, kernel_size=(3, 3), padding='same',kernel_regularizer=regularizers.l2(0.0001),activation='relu'))\n",
        "# model.add(BatchNormalization())\n",
        "# model.add(MaxPooling2D(pool_size=(2, 2)))\n",
        "# model.add(Dropout(0.25))\n",
        "\n",
        "# model.add(Conv2D(64, kernel_size=(3, 3), padding='same',kernel_regularizer=regularizers.l2(0.0001),activation='relu'))\n",
        "# model.add(BatchNormalization())\n",
        "\n",
        "# model.add(Conv2D(128, kernel_size=(3, 3),padding='same',kernel_regularizer=regularizers.l2(0.0001),activation='relu'))\n",
        "# model.add(BatchNormalization())\n",
        "# model.add(MaxPooling2D(pool_size=(2, 2)))\n",
        "# model.add(Dropout(0.25))\n",
        "\n",
        "# model.add(Flatten())\n",
        "\n",
        "# model.add(Dense(512, activation='relu'))\n",
        "# model.add(BatchNormalization())\n",
        "# model.add(Dropout(0.5))\n",
        "\n",
        "# model.add(Dense(5, activation='softmax'))\n",
        "\n",
        "# model.compile(loss='categorical_crossentropy',\n",
        "#               optimizer=Adam(),\n",
        "#               metrics=['accuracy'])"
      ],
      "execution_count": null,
      "outputs": []
    },
    {
      "cell_type": "markdown",
      "metadata": {
        "id": "khHPDuI2PpqF"
      },
      "source": [
        "**Train Model**"
      ]
    },
    {
      "cell_type": "code",
      "metadata": {
        "id": "zrgpgulgPkWl",
        "colab": {
          "base_uri": "https://localhost:8080/"
        },
        "outputId": "3686cbc5-6ec5-4974-a177-11272e452a85"
      },
      "source": [
        "# Train the the model\n",
        "start_time = time.time()\n",
        "train_model1 = model1.fit(X_train, y_train, batch_size=BATCH_SIZE, epochs=EPOCHS, verbose=1, validation_data=(X_val, y_val))\n",
        "end_time = time.time()\n",
        "print(\"Total training time : {:0.2f} minute\".format((end_time - start_time)/60.0))"
      ],
      "execution_count": null,
      "outputs": [
        {
          "output_type": "stream",
          "text": [
            "Epoch 1/50\n",
            "375/375 [==============================] - 35s 7ms/step - loss: 0.7581 - accuracy: 0.6838 - val_loss: 0.4553 - val_accuracy: 0.8210\n",
            "Epoch 2/50\n",
            "375/375 [==============================] - 2s 5ms/step - loss: 0.4015 - accuracy: 0.8358 - val_loss: 0.3746 - val_accuracy: 0.8432\n",
            "Epoch 3/50\n",
            "375/375 [==============================] - 2s 5ms/step - loss: 0.3230 - accuracy: 0.8691 - val_loss: 0.3157 - val_accuracy: 0.8743\n",
            "Epoch 4/50\n",
            "375/375 [==============================] - 2s 5ms/step - loss: 0.2703 - accuracy: 0.8913 - val_loss: 0.2874 - val_accuracy: 0.8862\n",
            "Epoch 5/50\n",
            "375/375 [==============================] - 2s 5ms/step - loss: 0.2388 - accuracy: 0.9044 - val_loss: 0.2788 - val_accuracy: 0.8877\n",
            "Epoch 6/50\n",
            "375/375 [==============================] - 2s 5ms/step - loss: 0.2212 - accuracy: 0.9107 - val_loss: 0.2978 - val_accuracy: 0.8822\n",
            "Epoch 7/50\n",
            "375/375 [==============================] - 2s 5ms/step - loss: 0.1986 - accuracy: 0.9189 - val_loss: 0.2740 - val_accuracy: 0.8938\n",
            "Epoch 8/50\n",
            "375/375 [==============================] - 2s 5ms/step - loss: 0.1813 - accuracy: 0.9284 - val_loss: 0.2800 - val_accuracy: 0.8887\n",
            "Epoch 9/50\n",
            "375/375 [==============================] - 2s 5ms/step - loss: 0.1630 - accuracy: 0.9366 - val_loss: 0.2956 - val_accuracy: 0.8890\n",
            "Epoch 10/50\n",
            "375/375 [==============================] - 2s 5ms/step - loss: 0.1479 - accuracy: 0.9410 - val_loss: 0.3212 - val_accuracy: 0.8822\n",
            "Epoch 11/50\n",
            "375/375 [==============================] - 2s 5ms/step - loss: 0.1373 - accuracy: 0.9441 - val_loss: 0.2744 - val_accuracy: 0.9013\n",
            "Epoch 12/50\n",
            "375/375 [==============================] - 2s 5ms/step - loss: 0.1302 - accuracy: 0.9484 - val_loss: 0.3034 - val_accuracy: 0.9032\n",
            "Epoch 13/50\n",
            "375/375 [==============================] - 2s 5ms/step - loss: 0.1159 - accuracy: 0.9552 - val_loss: 0.3186 - val_accuracy: 0.8932\n",
            "Epoch 14/50\n",
            "375/375 [==============================] - 2s 5ms/step - loss: 0.1061 - accuracy: 0.9592 - val_loss: 0.3296 - val_accuracy: 0.8940\n",
            "Epoch 15/50\n",
            "375/375 [==============================] - 2s 5ms/step - loss: 0.0997 - accuracy: 0.9608 - val_loss: 0.3271 - val_accuracy: 0.8913\n",
            "Epoch 16/50\n",
            "375/375 [==============================] - 2s 5ms/step - loss: 0.0863 - accuracy: 0.9671 - val_loss: 0.3773 - val_accuracy: 0.8860\n",
            "Epoch 17/50\n",
            "375/375 [==============================] - 2s 5ms/step - loss: 0.0903 - accuracy: 0.9650 - val_loss: 0.3434 - val_accuracy: 0.8998\n",
            "Epoch 18/50\n",
            "375/375 [==============================] - 2s 5ms/step - loss: 0.0752 - accuracy: 0.9692 - val_loss: 0.3669 - val_accuracy: 0.8975\n",
            "Epoch 19/50\n",
            "375/375 [==============================] - 2s 5ms/step - loss: 0.0789 - accuracy: 0.9703 - val_loss: 0.3772 - val_accuracy: 0.8992\n",
            "Epoch 20/50\n",
            "375/375 [==============================] - 2s 5ms/step - loss: 0.0678 - accuracy: 0.9720 - val_loss: 0.4509 - val_accuracy: 0.8870\n",
            "Epoch 21/50\n",
            "375/375 [==============================] - 2s 5ms/step - loss: 0.0648 - accuracy: 0.9748 - val_loss: 0.3946 - val_accuracy: 0.9015\n",
            "Epoch 22/50\n",
            "375/375 [==============================] - 2s 5ms/step - loss: 0.0619 - accuracy: 0.9756 - val_loss: 0.4052 - val_accuracy: 0.9003\n",
            "Epoch 23/50\n",
            "375/375 [==============================] - 2s 5ms/step - loss: 0.0458 - accuracy: 0.9827 - val_loss: 0.4381 - val_accuracy: 0.8998\n",
            "Epoch 24/50\n",
            "375/375 [==============================] - 2s 5ms/step - loss: 0.0597 - accuracy: 0.9771 - val_loss: 0.4639 - val_accuracy: 0.8932\n",
            "Epoch 25/50\n",
            "375/375 [==============================] - 2s 5ms/step - loss: 0.0495 - accuracy: 0.9811 - val_loss: 0.4623 - val_accuracy: 0.8965\n",
            "Epoch 26/50\n",
            "375/375 [==============================] - 2s 5ms/step - loss: 0.0444 - accuracy: 0.9831 - val_loss: 0.4817 - val_accuracy: 0.8940\n",
            "Epoch 27/50\n",
            "375/375 [==============================] - 2s 5ms/step - loss: 0.0439 - accuracy: 0.9829 - val_loss: 0.4782 - val_accuracy: 0.8935\n",
            "Epoch 28/50\n",
            "375/375 [==============================] - 2s 5ms/step - loss: 0.0486 - accuracy: 0.9817 - val_loss: 0.4867 - val_accuracy: 0.8947\n",
            "Epoch 29/50\n",
            "375/375 [==============================] - 2s 5ms/step - loss: 0.0453 - accuracy: 0.9826 - val_loss: 0.4894 - val_accuracy: 0.8962\n",
            "Epoch 30/50\n",
            "375/375 [==============================] - 2s 5ms/step - loss: 0.0322 - accuracy: 0.9884 - val_loss: 0.5963 - val_accuracy: 0.8887\n",
            "Epoch 31/50\n",
            "375/375 [==============================] - 2s 5ms/step - loss: 0.0440 - accuracy: 0.9825 - val_loss: 0.5391 - val_accuracy: 0.8945\n",
            "Epoch 32/50\n",
            "375/375 [==============================] - 2s 5ms/step - loss: 0.0289 - accuracy: 0.9893 - val_loss: 0.5142 - val_accuracy: 0.8952\n",
            "Epoch 33/50\n",
            "375/375 [==============================] - 2s 6ms/step - loss: 0.0352 - accuracy: 0.9864 - val_loss: 0.5694 - val_accuracy: 0.8940\n",
            "Epoch 34/50\n",
            "375/375 [==============================] - 2s 6ms/step - loss: 0.0376 - accuracy: 0.9856 - val_loss: 0.5480 - val_accuracy: 0.8890\n",
            "Epoch 35/50\n",
            "375/375 [==============================] - 2s 6ms/step - loss: 0.0347 - accuracy: 0.9871 - val_loss: 0.5530 - val_accuracy: 0.8930\n",
            "Epoch 36/50\n",
            "375/375 [==============================] - 2s 5ms/step - loss: 0.0319 - accuracy: 0.9880 - val_loss: 0.6366 - val_accuracy: 0.8940\n",
            "Epoch 37/50\n",
            "375/375 [==============================] - 2s 5ms/step - loss: 0.0366 - accuracy: 0.9869 - val_loss: 0.5480 - val_accuracy: 0.8970\n",
            "Epoch 38/50\n",
            "375/375 [==============================] - 2s 6ms/step - loss: 0.0208 - accuracy: 0.9928 - val_loss: 0.5966 - val_accuracy: 0.8957\n",
            "Epoch 39/50\n",
            "375/375 [==============================] - 2s 5ms/step - loss: 0.0295 - accuracy: 0.9885 - val_loss: 0.6322 - val_accuracy: 0.8932\n",
            "Epoch 40/50\n",
            "375/375 [==============================] - 2s 5ms/step - loss: 0.0304 - accuracy: 0.9887 - val_loss: 0.6340 - val_accuracy: 0.8913\n",
            "Epoch 41/50\n",
            "375/375 [==============================] - 2s 5ms/step - loss: 0.0295 - accuracy: 0.9898 - val_loss: 0.6357 - val_accuracy: 0.8922\n",
            "Epoch 42/50\n",
            "375/375 [==============================] - 2s 6ms/step - loss: 0.0236 - accuracy: 0.9919 - val_loss: 0.7344 - val_accuracy: 0.8717\n",
            "Epoch 43/50\n",
            "375/375 [==============================] - 2s 6ms/step - loss: 0.0409 - accuracy: 0.9857 - val_loss: 0.6040 - val_accuracy: 0.8935\n",
            "Epoch 44/50\n",
            "375/375 [==============================] - 2s 6ms/step - loss: 0.0166 - accuracy: 0.9943 - val_loss: 0.5977 - val_accuracy: 0.8877\n",
            "Epoch 45/50\n",
            "375/375 [==============================] - 2s 6ms/step - loss: 0.0312 - accuracy: 0.9890 - val_loss: 0.6947 - val_accuracy: 0.8905\n",
            "Epoch 46/50\n",
            "375/375 [==============================] - 2s 6ms/step - loss: 0.0214 - accuracy: 0.9924 - val_loss: 0.6373 - val_accuracy: 0.8967\n",
            "Epoch 47/50\n",
            "375/375 [==============================] - 2s 6ms/step - loss: 0.0268 - accuracy: 0.9894 - val_loss: 0.6802 - val_accuracy: 0.8917\n",
            "Epoch 48/50\n",
            "375/375 [==============================] - 2s 5ms/step - loss: 0.0280 - accuracy: 0.9901 - val_loss: 0.6843 - val_accuracy: 0.8958\n",
            "Epoch 49/50\n",
            "375/375 [==============================] - 2s 6ms/step - loss: 0.0221 - accuracy: 0.9921 - val_loss: 0.7161 - val_accuracy: 0.8928\n",
            "Epoch 50/50\n",
            "375/375 [==============================] - 2s 6ms/step - loss: 0.0262 - accuracy: 0.9904 - val_loss: 0.6910 - val_accuracy: 0.8937\n",
            "Total training time : 2.29 minute\n"
          ],
          "name": "stdout"
        }
      ]
    },
    {
      "cell_type": "code",
      "metadata": {
        "id": "CFc1LX14lufm",
        "colab": {
          "base_uri": "https://localhost:8080/"
        },
        "outputId": "4c154977-5e04-4058-8a33-b69f315dec6a"
      },
      "source": [
        "# Train the the model\n",
        "start_time = time.time()\n",
        "train_model2 = model2.fit(X_train, y_train, batch_size=BATCH_SIZE, epochs=EPOCHS, verbose=1, validation_data=(X_val, y_val))\n",
        "end_time = time.time()\n",
        "print(\"Total training time : {:0.2f} minute\".format((end_time - start_time)/60.0))"
      ],
      "execution_count": null,
      "outputs": [
        {
          "output_type": "stream",
          "text": [
            "Epoch 1/50\n",
            "375/375 [==============================] - 4s 8ms/step - loss: 0.8215 - accuracy: 0.6881 - val_loss: 0.6120 - val_accuracy: 0.7367\n",
            "Epoch 2/50\n",
            "375/375 [==============================] - 3s 7ms/step - loss: 0.4511 - accuracy: 0.8164 - val_loss: 0.6658 - val_accuracy: 0.7440\n",
            "Epoch 3/50\n",
            "375/375 [==============================] - 3s 7ms/step - loss: 0.3902 - accuracy: 0.8431 - val_loss: 0.7953 - val_accuracy: 0.7192\n",
            "Epoch 4/50\n",
            "375/375 [==============================] - 3s 7ms/step - loss: 0.3459 - accuracy: 0.8617 - val_loss: 0.8897 - val_accuracy: 0.7088\n",
            "Epoch 5/50\n",
            "375/375 [==============================] - 3s 7ms/step - loss: 0.3271 - accuracy: 0.8717 - val_loss: 0.7885 - val_accuracy: 0.7278\n",
            "Epoch 6/50\n",
            "375/375 [==============================] - 3s 7ms/step - loss: 0.3178 - accuracy: 0.8730 - val_loss: 0.7953 - val_accuracy: 0.7387\n",
            "Epoch 7/50\n",
            "375/375 [==============================] - 3s 7ms/step - loss: 0.3033 - accuracy: 0.8780 - val_loss: 0.6086 - val_accuracy: 0.7822\n",
            "Epoch 8/50\n",
            "375/375 [==============================] - 3s 7ms/step - loss: 0.2876 - accuracy: 0.8866 - val_loss: 0.5582 - val_accuracy: 0.7920\n",
            "Epoch 9/50\n",
            "375/375 [==============================] - 3s 7ms/step - loss: 0.2800 - accuracy: 0.8890 - val_loss: 0.6226 - val_accuracy: 0.7860\n",
            "Epoch 10/50\n",
            "375/375 [==============================] - 3s 7ms/step - loss: 0.2747 - accuracy: 0.8908 - val_loss: 0.5342 - val_accuracy: 0.8035\n",
            "Epoch 11/50\n",
            "375/375 [==============================] - 3s 7ms/step - loss: 0.2683 - accuracy: 0.8928 - val_loss: 0.8247 - val_accuracy: 0.7420\n",
            "Epoch 12/50\n",
            "375/375 [==============================] - 3s 7ms/step - loss: 0.2617 - accuracy: 0.8942 - val_loss: 0.3719 - val_accuracy: 0.8470\n",
            "Epoch 13/50\n",
            "375/375 [==============================] - 3s 7ms/step - loss: 0.2567 - accuracy: 0.8983 - val_loss: 0.4404 - val_accuracy: 0.8240\n",
            "Epoch 14/50\n",
            "375/375 [==============================] - 3s 7ms/step - loss: 0.2564 - accuracy: 0.8966 - val_loss: 0.4342 - val_accuracy: 0.8323\n",
            "Epoch 15/50\n",
            "375/375 [==============================] - 3s 7ms/step - loss: 0.2463 - accuracy: 0.9016 - val_loss: 0.3939 - val_accuracy: 0.8497\n",
            "Epoch 16/50\n",
            "375/375 [==============================] - 3s 7ms/step - loss: 0.2434 - accuracy: 0.9028 - val_loss: 0.3676 - val_accuracy: 0.8582\n",
            "Epoch 17/50\n",
            "375/375 [==============================] - 3s 7ms/step - loss: 0.2349 - accuracy: 0.9063 - val_loss: 0.3535 - val_accuracy: 0.8637\n",
            "Epoch 18/50\n",
            "375/375 [==============================] - 3s 7ms/step - loss: 0.2351 - accuracy: 0.9069 - val_loss: 0.3210 - val_accuracy: 0.8763\n",
            "Epoch 19/50\n",
            "375/375 [==============================] - 3s 7ms/step - loss: 0.2309 - accuracy: 0.9076 - val_loss: 0.4147 - val_accuracy: 0.8433\n",
            "Epoch 20/50\n",
            "375/375 [==============================] - 3s 7ms/step - loss: 0.2304 - accuracy: 0.9086 - val_loss: 0.5106 - val_accuracy: 0.8177\n",
            "Epoch 21/50\n",
            "375/375 [==============================] - 3s 7ms/step - loss: 0.2255 - accuracy: 0.9094 - val_loss: 0.3377 - val_accuracy: 0.8647\n",
            "Epoch 22/50\n",
            "375/375 [==============================] - 3s 7ms/step - loss: 0.2151 - accuracy: 0.9138 - val_loss: 0.4374 - val_accuracy: 0.8398\n",
            "Epoch 23/50\n",
            "375/375 [==============================] - 3s 7ms/step - loss: 0.2230 - accuracy: 0.9113 - val_loss: 0.2763 - val_accuracy: 0.8918\n",
            "Epoch 24/50\n",
            "375/375 [==============================] - 3s 7ms/step - loss: 0.2176 - accuracy: 0.9149 - val_loss: 0.3670 - val_accuracy: 0.8582\n",
            "Epoch 25/50\n",
            "375/375 [==============================] - 3s 7ms/step - loss: 0.2145 - accuracy: 0.9163 - val_loss: 0.4600 - val_accuracy: 0.8300\n",
            "Epoch 26/50\n",
            "375/375 [==============================] - 3s 7ms/step - loss: 0.2090 - accuracy: 0.9177 - val_loss: 0.3781 - val_accuracy: 0.8583\n",
            "Epoch 27/50\n",
            "375/375 [==============================] - 3s 7ms/step - loss: 0.2058 - accuracy: 0.9173 - val_loss: 0.4209 - val_accuracy: 0.8475\n",
            "Epoch 28/50\n",
            "375/375 [==============================] - 3s 7ms/step - loss: 0.2040 - accuracy: 0.9181 - val_loss: 0.3703 - val_accuracy: 0.8647\n",
            "Epoch 29/50\n",
            "375/375 [==============================] - 3s 7ms/step - loss: 0.1983 - accuracy: 0.9214 - val_loss: 0.2486 - val_accuracy: 0.9027\n",
            "Epoch 30/50\n",
            "375/375 [==============================] - 3s 7ms/step - loss: 0.2014 - accuracy: 0.9208 - val_loss: 0.3449 - val_accuracy: 0.8705\n",
            "Epoch 31/50\n",
            "375/375 [==============================] - 3s 7ms/step - loss: 0.1906 - accuracy: 0.9229 - val_loss: 0.3811 - val_accuracy: 0.8572\n",
            "Epoch 32/50\n",
            "375/375 [==============================] - 3s 7ms/step - loss: 0.1923 - accuracy: 0.9232 - val_loss: 0.3870 - val_accuracy: 0.8613\n",
            "Epoch 33/50\n",
            "375/375 [==============================] - 3s 7ms/step - loss: 0.1891 - accuracy: 0.9235 - val_loss: 0.3375 - val_accuracy: 0.8725\n",
            "Epoch 34/50\n",
            "375/375 [==============================] - 3s 8ms/step - loss: 0.1937 - accuracy: 0.9244 - val_loss: 0.3042 - val_accuracy: 0.8825\n",
            "Epoch 35/50\n",
            "375/375 [==============================] - 3s 7ms/step - loss: 0.1950 - accuracy: 0.9240 - val_loss: 0.3521 - val_accuracy: 0.8710\n",
            "Epoch 36/50\n",
            "375/375 [==============================] - 3s 7ms/step - loss: 0.1883 - accuracy: 0.9267 - val_loss: 0.3408 - val_accuracy: 0.8737\n",
            "Epoch 37/50\n",
            "375/375 [==============================] - 3s 7ms/step - loss: 0.1884 - accuracy: 0.9252 - val_loss: 0.3876 - val_accuracy: 0.8580\n",
            "Epoch 38/50\n",
            "375/375 [==============================] - 3s 7ms/step - loss: 0.1826 - accuracy: 0.9275 - val_loss: 0.3097 - val_accuracy: 0.8783\n",
            "Epoch 39/50\n",
            "375/375 [==============================] - 3s 7ms/step - loss: 0.1826 - accuracy: 0.9282 - val_loss: 0.3880 - val_accuracy: 0.8597\n",
            "Epoch 40/50\n",
            "375/375 [==============================] - 3s 7ms/step - loss: 0.1847 - accuracy: 0.9265 - val_loss: 0.4140 - val_accuracy: 0.8540\n",
            "Epoch 41/50\n",
            "375/375 [==============================] - 3s 7ms/step - loss: 0.1774 - accuracy: 0.9297 - val_loss: 0.3047 - val_accuracy: 0.8863\n",
            "Epoch 42/50\n",
            "375/375 [==============================] - 3s 7ms/step - loss: 0.1819 - accuracy: 0.9303 - val_loss: 0.3750 - val_accuracy: 0.8660\n",
            "Epoch 43/50\n",
            "375/375 [==============================] - 3s 7ms/step - loss: 0.1803 - accuracy: 0.9300 - val_loss: 0.3530 - val_accuracy: 0.8718\n",
            "Epoch 44/50\n",
            "375/375 [==============================] - 3s 7ms/step - loss: 0.1730 - accuracy: 0.9319 - val_loss: 0.3587 - val_accuracy: 0.8740\n",
            "Epoch 45/50\n",
            "375/375 [==============================] - 3s 7ms/step - loss: 0.1744 - accuracy: 0.9310 - val_loss: 0.3620 - val_accuracy: 0.8702\n",
            "Epoch 46/50\n",
            "375/375 [==============================] - 3s 7ms/step - loss: 0.1735 - accuracy: 0.9319 - val_loss: 0.3139 - val_accuracy: 0.8830\n",
            "Epoch 47/50\n",
            "375/375 [==============================] - 3s 7ms/step - loss: 0.1686 - accuracy: 0.9345 - val_loss: 0.2963 - val_accuracy: 0.8943\n",
            "Epoch 48/50\n",
            "375/375 [==============================] - 3s 7ms/step - loss: 0.1709 - accuracy: 0.9339 - val_loss: 0.4762 - val_accuracy: 0.8438\n",
            "Epoch 49/50\n",
            "375/375 [==============================] - 3s 7ms/step - loss: 0.1675 - accuracy: 0.9368 - val_loss: 0.3014 - val_accuracy: 0.8930\n",
            "Epoch 50/50\n",
            "375/375 [==============================] - 3s 7ms/step - loss: 0.1723 - accuracy: 0.9331 - val_loss: 0.2599 - val_accuracy: 0.9057\n",
            "Total training time : 2.27 minute\n"
          ],
          "name": "stdout"
        }
      ]
    },
    {
      "cell_type": "code",
      "metadata": {
        "id": "Ut1aEjyZl0Z6",
        "colab": {
          "base_uri": "https://localhost:8080/"
        },
        "outputId": "a8b0f889-3b04-4b73-8b93-dbd00529fd3a"
      },
      "source": [
        "# Train the the model\n",
        "start_time = time.time()\n",
        "train_model3 = model3.fit(X_train, y_train, batch_size=BATCH_SIZE, epochs=EPOCHS, verbose=1, validation_data=(X_val, y_val))\n",
        "end_time = time.time()\n",
        "print(\"Total training time : {:0.2f} minute\".format((end_time - start_time)/60.0))"
      ],
      "execution_count": null,
      "outputs": [
        {
          "output_type": "stream",
          "text": [
            "Epoch 1/50\n",
            "375/375 [==============================] - 5s 11ms/step - loss: 0.9014 - accuracy: 0.6714 - val_loss: 1.3403 - val_accuracy: 0.4745\n",
            "Epoch 2/50\n",
            "375/375 [==============================] - 4s 10ms/step - loss: 0.4503 - accuracy: 0.8164 - val_loss: 0.7340 - val_accuracy: 0.7390\n",
            "Epoch 3/50\n",
            "375/375 [==============================] - 4s 10ms/step - loss: 0.3852 - accuracy: 0.8473 - val_loss: 0.4301 - val_accuracy: 0.8308\n",
            "Epoch 4/50\n",
            "375/375 [==============================] - 4s 10ms/step - loss: 0.3475 - accuracy: 0.8633 - val_loss: 0.3778 - val_accuracy: 0.8498\n",
            "Epoch 5/50\n",
            "375/375 [==============================] - 4s 10ms/step - loss: 0.3189 - accuracy: 0.8735 - val_loss: 0.3420 - val_accuracy: 0.8677\n",
            "Epoch 6/50\n",
            "375/375 [==============================] - 4s 10ms/step - loss: 0.3034 - accuracy: 0.8802 - val_loss: 0.3672 - val_accuracy: 0.8605\n",
            "Epoch 7/50\n",
            "375/375 [==============================] - 4s 10ms/step - loss: 0.2900 - accuracy: 0.8874 - val_loss: 0.2521 - val_accuracy: 0.8993\n",
            "Epoch 8/50\n",
            "375/375 [==============================] - 4s 10ms/step - loss: 0.2843 - accuracy: 0.8870 - val_loss: 0.2557 - val_accuracy: 0.9008\n",
            "Epoch 9/50\n",
            "375/375 [==============================] - 4s 10ms/step - loss: 0.2705 - accuracy: 0.8955 - val_loss: 0.4361 - val_accuracy: 0.8372\n",
            "Epoch 10/50\n",
            "375/375 [==============================] - 4s 10ms/step - loss: 0.2616 - accuracy: 0.8957 - val_loss: 0.2584 - val_accuracy: 0.8980\n",
            "Epoch 11/50\n",
            "375/375 [==============================] - 4s 10ms/step - loss: 0.2541 - accuracy: 0.8991 - val_loss: 0.2414 - val_accuracy: 0.9052\n",
            "Epoch 12/50\n",
            "375/375 [==============================] - 4s 10ms/step - loss: 0.2428 - accuracy: 0.9054 - val_loss: 0.2493 - val_accuracy: 0.9032\n",
            "Epoch 13/50\n",
            "375/375 [==============================] - 4s 10ms/step - loss: 0.2359 - accuracy: 0.9078 - val_loss: 0.3074 - val_accuracy: 0.8788\n",
            "Epoch 14/50\n",
            "375/375 [==============================] - 4s 10ms/step - loss: 0.2336 - accuracy: 0.9072 - val_loss: 0.3098 - val_accuracy: 0.8747\n",
            "Epoch 15/50\n",
            "375/375 [==============================] - 4s 10ms/step - loss: 0.2287 - accuracy: 0.9106 - val_loss: 0.2600 - val_accuracy: 0.8957\n",
            "Epoch 16/50\n",
            "375/375 [==============================] - 4s 10ms/step - loss: 0.2226 - accuracy: 0.9143 - val_loss: 0.2684 - val_accuracy: 0.8900\n",
            "Epoch 17/50\n",
            "375/375 [==============================] - 4s 10ms/step - loss: 0.2175 - accuracy: 0.9136 - val_loss: 0.2611 - val_accuracy: 0.8985\n",
            "Epoch 18/50\n",
            "375/375 [==============================] - 4s 10ms/step - loss: 0.2156 - accuracy: 0.9166 - val_loss: 0.3403 - val_accuracy: 0.8670\n",
            "Epoch 19/50\n",
            "375/375 [==============================] - 4s 10ms/step - loss: 0.2021 - accuracy: 0.9226 - val_loss: 0.2536 - val_accuracy: 0.9002\n",
            "Epoch 20/50\n",
            "375/375 [==============================] - 4s 10ms/step - loss: 0.2018 - accuracy: 0.9217 - val_loss: 0.2371 - val_accuracy: 0.9035\n",
            "Epoch 21/50\n",
            "375/375 [==============================] - 4s 10ms/step - loss: 0.2070 - accuracy: 0.9207 - val_loss: 0.3038 - val_accuracy: 0.8798\n",
            "Epoch 22/50\n",
            "375/375 [==============================] - 4s 10ms/step - loss: 0.1989 - accuracy: 0.9212 - val_loss: 0.2344 - val_accuracy: 0.9113\n",
            "Epoch 23/50\n",
            "375/375 [==============================] - 4s 10ms/step - loss: 0.1857 - accuracy: 0.9279 - val_loss: 0.3206 - val_accuracy: 0.8827\n",
            "Epoch 24/50\n",
            "375/375 [==============================] - 4s 10ms/step - loss: 0.1860 - accuracy: 0.9281 - val_loss: 0.5905 - val_accuracy: 0.8155\n",
            "Epoch 25/50\n",
            "375/375 [==============================] - 4s 10ms/step - loss: 0.1877 - accuracy: 0.9274 - val_loss: 0.2345 - val_accuracy: 0.9098\n",
            "Epoch 26/50\n",
            "375/375 [==============================] - 4s 10ms/step - loss: 0.1704 - accuracy: 0.9360 - val_loss: 0.6028 - val_accuracy: 0.8128\n",
            "Epoch 27/50\n",
            "375/375 [==============================] - 4s 10ms/step - loss: 0.1802 - accuracy: 0.9308 - val_loss: 0.3868 - val_accuracy: 0.8658\n",
            "Epoch 28/50\n",
            "375/375 [==============================] - 4s 10ms/step - loss: 0.1675 - accuracy: 0.9364 - val_loss: 0.3458 - val_accuracy: 0.8740\n",
            "Epoch 29/50\n",
            "375/375 [==============================] - 4s 10ms/step - loss: 0.1645 - accuracy: 0.9378 - val_loss: 0.2551 - val_accuracy: 0.9003\n",
            "Epoch 30/50\n",
            "375/375 [==============================] - 4s 10ms/step - loss: 0.1670 - accuracy: 0.9373 - val_loss: 0.2540 - val_accuracy: 0.9038\n",
            "Epoch 31/50\n",
            "375/375 [==============================] - 4s 10ms/step - loss: 0.1629 - accuracy: 0.9387 - val_loss: 0.3444 - val_accuracy: 0.8800\n",
            "Epoch 32/50\n",
            "375/375 [==============================] - 4s 10ms/step - loss: 0.1553 - accuracy: 0.9402 - val_loss: 0.2524 - val_accuracy: 0.9037\n",
            "Epoch 33/50\n",
            "375/375 [==============================] - 4s 10ms/step - loss: 0.1578 - accuracy: 0.9404 - val_loss: 0.2155 - val_accuracy: 0.9192\n",
            "Epoch 34/50\n",
            "375/375 [==============================] - 4s 10ms/step - loss: 0.1579 - accuracy: 0.9407 - val_loss: 0.2194 - val_accuracy: 0.9173\n",
            "Epoch 35/50\n",
            "375/375 [==============================] - 4s 10ms/step - loss: 0.1458 - accuracy: 0.9449 - val_loss: 0.2110 - val_accuracy: 0.9198\n",
            "Epoch 36/50\n",
            "375/375 [==============================] - 4s 10ms/step - loss: 0.1487 - accuracy: 0.9430 - val_loss: 0.1994 - val_accuracy: 0.9262\n",
            "Epoch 37/50\n",
            "375/375 [==============================] - 4s 10ms/step - loss: 0.1428 - accuracy: 0.9459 - val_loss: 0.2884 - val_accuracy: 0.9035\n",
            "Epoch 38/50\n",
            "375/375 [==============================] - 4s 10ms/step - loss: 0.1449 - accuracy: 0.9445 - val_loss: 0.1960 - val_accuracy: 0.9245\n",
            "Epoch 39/50\n",
            "375/375 [==============================] - 4s 10ms/step - loss: 0.1427 - accuracy: 0.9449 - val_loss: 0.3443 - val_accuracy: 0.8748\n",
            "Epoch 40/50\n",
            "375/375 [==============================] - 4s 10ms/step - loss: 0.1470 - accuracy: 0.9434 - val_loss: 0.5253 - val_accuracy: 0.8470\n",
            "Epoch 41/50\n",
            "375/375 [==============================] - 4s 10ms/step - loss: 0.1361 - accuracy: 0.9486 - val_loss: 0.2674 - val_accuracy: 0.9057\n",
            "Epoch 42/50\n",
            "375/375 [==============================] - 4s 10ms/step - loss: 0.1393 - accuracy: 0.9480 - val_loss: 0.2464 - val_accuracy: 0.9108\n",
            "Epoch 43/50\n",
            "375/375 [==============================] - 4s 10ms/step - loss: 0.1302 - accuracy: 0.9504 - val_loss: 0.3355 - val_accuracy: 0.8858\n",
            "Epoch 44/50\n",
            "375/375 [==============================] - 4s 10ms/step - loss: 0.1325 - accuracy: 0.9484 - val_loss: 0.2244 - val_accuracy: 0.9147\n",
            "Epoch 45/50\n",
            "375/375 [==============================] - 4s 10ms/step - loss: 0.1331 - accuracy: 0.9493 - val_loss: 0.2964 - val_accuracy: 0.8897\n",
            "Epoch 46/50\n",
            "375/375 [==============================] - 4s 10ms/step - loss: 0.1329 - accuracy: 0.9497 - val_loss: 0.2474 - val_accuracy: 0.9127\n",
            "Epoch 47/50\n",
            "375/375 [==============================] - 4s 10ms/step - loss: 0.1253 - accuracy: 0.9522 - val_loss: 0.2354 - val_accuracy: 0.9142\n",
            "Epoch 48/50\n",
            "375/375 [==============================] - 4s 10ms/step - loss: 0.1294 - accuracy: 0.9498 - val_loss: 0.2379 - val_accuracy: 0.9110\n",
            "Epoch 49/50\n",
            "375/375 [==============================] - 4s 10ms/step - loss: 0.1223 - accuracy: 0.9526 - val_loss: 0.3850 - val_accuracy: 0.8710\n",
            "Epoch 50/50\n",
            "375/375 [==============================] - 4s 10ms/step - loss: 0.1212 - accuracy: 0.9528 - val_loss: 0.2946 - val_accuracy: 0.9025\n",
            "Total training time : 3.11 minute\n"
          ],
          "name": "stdout"
        }
      ]
    },
    {
      "cell_type": "code",
      "metadata": {
        "id": "y7nw3CmUl0iq",
        "colab": {
          "base_uri": "https://localhost:8080/"
        },
        "outputId": "ab92416a-8f95-4a37-97b4-142cd0a6d08c"
      },
      "source": [
        "# Train the model\n",
        "start_time = time.time()\n",
        "train_model4 = model4.fit(X_train, y_train,\n",
        "                          batch_size=BATCH_SIZE,\n",
        "                          epochs=EPOCHS,\n",
        "                          verbose=1,\n",
        "                          validation_data=(X_val, y_val))\n",
        "end_time = time.time()\n",
        "print(\"Total training time : {:0.2f} minute\".format((end_time - start_time)/60.0))"
      ],
      "execution_count": null,
      "outputs": [
        {
          "output_type": "stream",
          "text": [
            "Epoch 1/50\n",
            "375/375 [==============================] - 7s 15ms/step - loss: 0.9403 - accuracy: 0.6680 - val_loss: 0.5836 - val_accuracy: 0.7920\n",
            "Epoch 2/50\n",
            "375/375 [==============================] - 5s 14ms/step - loss: 0.4701 - accuracy: 0.8227 - val_loss: 0.3918 - val_accuracy: 0.8593\n",
            "Epoch 3/50\n",
            "375/375 [==============================] - 5s 14ms/step - loss: 0.4086 - accuracy: 0.8462 - val_loss: 0.3612 - val_accuracy: 0.8738\n",
            "Epoch 4/50\n",
            "375/375 [==============================] - 5s 14ms/step - loss: 0.3774 - accuracy: 0.8595 - val_loss: 0.3089 - val_accuracy: 0.8870\n",
            "Epoch 5/50\n",
            "375/375 [==============================] - 5s 14ms/step - loss: 0.3519 - accuracy: 0.8756 - val_loss: 0.3246 - val_accuracy: 0.8800\n",
            "Epoch 6/50\n",
            "375/375 [==============================] - 5s 14ms/step - loss: 0.3292 - accuracy: 0.8818 - val_loss: 0.4300 - val_accuracy: 0.8410\n",
            "Epoch 7/50\n",
            "375/375 [==============================] - 5s 14ms/step - loss: 0.3271 - accuracy: 0.8815 - val_loss: 0.2870 - val_accuracy: 0.9017\n",
            "Epoch 8/50\n",
            "375/375 [==============================] - 5s 14ms/step - loss: 0.3119 - accuracy: 0.8869 - val_loss: 0.4536 - val_accuracy: 0.8385\n",
            "Epoch 9/50\n",
            "375/375 [==============================] - 5s 14ms/step - loss: 0.3034 - accuracy: 0.8935 - val_loss: 0.2934 - val_accuracy: 0.8952\n",
            "Epoch 10/50\n",
            "375/375 [==============================] - 5s 14ms/step - loss: 0.2954 - accuracy: 0.8980 - val_loss: 0.2854 - val_accuracy: 0.8992\n",
            "Epoch 11/50\n",
            "375/375 [==============================] - 5s 14ms/step - loss: 0.2908 - accuracy: 0.9007 - val_loss: 0.2786 - val_accuracy: 0.9012\n",
            "Epoch 12/50\n",
            "375/375 [==============================] - 5s 14ms/step - loss: 0.2867 - accuracy: 0.9008 - val_loss: 0.3224 - val_accuracy: 0.8855\n",
            "Epoch 13/50\n",
            "375/375 [==============================] - 5s 14ms/step - loss: 0.2691 - accuracy: 0.9100 - val_loss: 0.2862 - val_accuracy: 0.8978\n",
            "Epoch 14/50\n",
            "375/375 [==============================] - 5s 14ms/step - loss: 0.2733 - accuracy: 0.9084 - val_loss: 0.3055 - val_accuracy: 0.8952\n",
            "Epoch 15/50\n",
            "375/375 [==============================] - 5s 14ms/step - loss: 0.2652 - accuracy: 0.9122 - val_loss: 0.2676 - val_accuracy: 0.9123\n",
            "Epoch 16/50\n",
            "375/375 [==============================] - 5s 14ms/step - loss: 0.2562 - accuracy: 0.9157 - val_loss: 0.3101 - val_accuracy: 0.8918\n",
            "Epoch 17/50\n",
            "375/375 [==============================] - 5s 14ms/step - loss: 0.2604 - accuracy: 0.9139 - val_loss: 0.2616 - val_accuracy: 0.9175\n",
            "Epoch 18/50\n",
            "375/375 [==============================] - 5s 14ms/step - loss: 0.2579 - accuracy: 0.9168 - val_loss: 0.2558 - val_accuracy: 0.9142\n",
            "Epoch 19/50\n",
            "375/375 [==============================] - 5s 14ms/step - loss: 0.2433 - accuracy: 0.9207 - val_loss: 0.2745 - val_accuracy: 0.9078\n",
            "Epoch 20/50\n",
            "375/375 [==============================] - 5s 14ms/step - loss: 0.2432 - accuracy: 0.9201 - val_loss: 0.3181 - val_accuracy: 0.8965\n",
            "Epoch 21/50\n",
            "375/375 [==============================] - 5s 14ms/step - loss: 0.2452 - accuracy: 0.9204 - val_loss: 0.3153 - val_accuracy: 0.8908\n",
            "Epoch 22/50\n",
            "375/375 [==============================] - 5s 14ms/step - loss: 0.2374 - accuracy: 0.9224 - val_loss: 0.2690 - val_accuracy: 0.9062\n",
            "Epoch 23/50\n",
            "375/375 [==============================] - 5s 14ms/step - loss: 0.2421 - accuracy: 0.9214 - val_loss: 0.2937 - val_accuracy: 0.8972\n",
            "Epoch 24/50\n",
            "375/375 [==============================] - 5s 14ms/step - loss: 0.2333 - accuracy: 0.9260 - val_loss: 0.2901 - val_accuracy: 0.9057\n",
            "Epoch 25/50\n",
            "375/375 [==============================] - 5s 14ms/step - loss: 0.2353 - accuracy: 0.9252 - val_loss: 0.2383 - val_accuracy: 0.9243\n",
            "Epoch 26/50\n",
            "375/375 [==============================] - 5s 14ms/step - loss: 0.2223 - accuracy: 0.9316 - val_loss: 0.2532 - val_accuracy: 0.9133\n",
            "Epoch 27/50\n",
            "375/375 [==============================] - 5s 14ms/step - loss: 0.2271 - accuracy: 0.9269 - val_loss: 0.3110 - val_accuracy: 0.8968\n",
            "Epoch 28/50\n",
            "375/375 [==============================] - 5s 14ms/step - loss: 0.2216 - accuracy: 0.9332 - val_loss: 0.3112 - val_accuracy: 0.9017\n",
            "Epoch 29/50\n",
            "375/375 [==============================] - 5s 14ms/step - loss: 0.2283 - accuracy: 0.9294 - val_loss: 0.3232 - val_accuracy: 0.8983\n",
            "Epoch 30/50\n",
            "375/375 [==============================] - 5s 14ms/step - loss: 0.2227 - accuracy: 0.9287 - val_loss: 0.2742 - val_accuracy: 0.9120\n",
            "Epoch 31/50\n",
            "375/375 [==============================] - 5s 14ms/step - loss: 0.2187 - accuracy: 0.9316 - val_loss: 0.2823 - val_accuracy: 0.9038\n",
            "Epoch 32/50\n",
            "375/375 [==============================] - 5s 14ms/step - loss: 0.2180 - accuracy: 0.9317 - val_loss: 0.2311 - val_accuracy: 0.9297\n",
            "Epoch 33/50\n",
            "375/375 [==============================] - 5s 14ms/step - loss: 0.2141 - accuracy: 0.9344 - val_loss: 0.2470 - val_accuracy: 0.9228\n",
            "Epoch 34/50\n",
            "375/375 [==============================] - 5s 14ms/step - loss: 0.2073 - accuracy: 0.9390 - val_loss: 0.2568 - val_accuracy: 0.9140\n",
            "Epoch 35/50\n",
            "375/375 [==============================] - 5s 15ms/step - loss: 0.2095 - accuracy: 0.9373 - val_loss: 0.3155 - val_accuracy: 0.9010\n",
            "Epoch 36/50\n",
            "375/375 [==============================] - 5s 14ms/step - loss: 0.2104 - accuracy: 0.9357 - val_loss: 0.2612 - val_accuracy: 0.9183\n",
            "Epoch 37/50\n",
            "375/375 [==============================] - 5s 14ms/step - loss: 0.2495 - accuracy: 0.9211 - val_loss: 0.3898 - val_accuracy: 0.8717\n",
            "Epoch 38/50\n",
            "375/375 [==============================] - 5s 14ms/step - loss: 0.2113 - accuracy: 0.9368 - val_loss: 0.3562 - val_accuracy: 0.8825\n",
            "Epoch 39/50\n",
            "375/375 [==============================] - 5s 15ms/step - loss: 0.2109 - accuracy: 0.9359 - val_loss: 0.2470 - val_accuracy: 0.9235\n",
            "Epoch 40/50\n",
            "375/375 [==============================] - 5s 14ms/step - loss: 0.2058 - accuracy: 0.9388 - val_loss: 0.3159 - val_accuracy: 0.9042\n",
            "Epoch 41/50\n",
            "375/375 [==============================] - 5s 14ms/step - loss: 0.2053 - accuracy: 0.9386 - val_loss: 0.2362 - val_accuracy: 0.9275\n",
            "Epoch 42/50\n",
            "375/375 [==============================] - 5s 14ms/step - loss: 0.2031 - accuracy: 0.9391 - val_loss: 0.2631 - val_accuracy: 0.9192\n",
            "Epoch 43/50\n",
            "375/375 [==============================] - 5s 14ms/step - loss: 0.1979 - accuracy: 0.9422 - val_loss: 0.2758 - val_accuracy: 0.9127\n",
            "Epoch 44/50\n",
            "375/375 [==============================] - 5s 14ms/step - loss: 0.1950 - accuracy: 0.9427 - val_loss: 0.2404 - val_accuracy: 0.9245\n",
            "Epoch 45/50\n",
            "375/375 [==============================] - 5s 14ms/step - loss: 0.1949 - accuracy: 0.9447 - val_loss: 0.2415 - val_accuracy: 0.9255\n",
            "Epoch 46/50\n",
            "375/375 [==============================] - 5s 14ms/step - loss: 0.1956 - accuracy: 0.9429 - val_loss: 0.2732 - val_accuracy: 0.9125\n",
            "Epoch 47/50\n",
            "375/375 [==============================] - 5s 14ms/step - loss: 0.1943 - accuracy: 0.9440 - val_loss: 0.2779 - val_accuracy: 0.9138\n",
            "Epoch 48/50\n",
            "375/375 [==============================] - 5s 14ms/step - loss: 0.1961 - accuracy: 0.9418 - val_loss: 0.2726 - val_accuracy: 0.9192\n",
            "Epoch 49/50\n",
            "375/375 [==============================] - 5s 14ms/step - loss: 0.1980 - accuracy: 0.9420 - val_loss: 0.2604 - val_accuracy: 0.9197\n",
            "Epoch 50/50\n",
            "375/375 [==============================] - 5s 15ms/step - loss: 0.1943 - accuracy: 0.9445 - val_loss: 0.2542 - val_accuracy: 0.9210\n",
            "Total training time : 4.53 minute\n"
          ],
          "name": "stdout"
        }
      ]
    },
    {
      "cell_type": "markdown",
      "metadata": {
        "id": "GknUJRJROVm0"
      },
      "source": [
        "**Performance**"
      ]
    },
    {
      "cell_type": "markdown",
      "metadata": {
        "id": "bEoV9cZSOZF8"
      },
      "source": [
        "Mode 1"
      ]
    },
    {
      "cell_type": "code",
      "metadata": {
        "id": "xZdfPXlHYMVC",
        "colab": {
          "base_uri": "https://localhost:8080/"
        },
        "outputId": "12a8c5b5-984c-4bc2-9d7c-6692f3989007"
      },
      "source": [
        "score1 = model1.evaluate(X_train, y_train, verbose=0)\n",
        "print('Train loss:', score1[0])\n",
        "print('Train accuracy:', score1[1])"
      ],
      "execution_count": null,
      "outputs": [
        {
          "output_type": "stream",
          "text": [
            "Train loss: 0.014090935699641705\n",
            "Train accuracy: 0.9953333139419556\n"
          ],
          "name": "stdout"
        }
      ]
    },
    {
      "cell_type": "code",
      "metadata": {
        "id": "yzYXl6CKNmhH",
        "colab": {
          "base_uri": "https://localhost:8080/"
        },
        "outputId": "3b2713d1-8877-4f21-c7e5-8a0e68bc1d7d"
      },
      "source": [
        "score1 = model1.evaluate(X_val, y_val, verbose=0)\n",
        "print('Val loss:', score1[0])\n",
        "print('Val accuracy:', score1[1])"
      ],
      "execution_count": null,
      "outputs": [
        {
          "output_type": "stream",
          "text": [
            "Val loss: 0.691034734249115\n",
            "Val accuracy: 0.893666684627533\n"
          ],
          "name": "stdout"
        }
      ]
    },
    {
      "cell_type": "code",
      "metadata": {
        "id": "Ovhh9KcmQTve",
        "colab": {
          "base_uri": "https://localhost:8080/"
        },
        "outputId": "170faf7e-92c5-4cfc-aa81-66298ebde9cc"
      },
      "source": [
        "score1 = model1.evaluate(X_test, y_test, verbose=0)\n",
        "print('Test loss:', score1[0])\n",
        "print('Test accuracy:', score1[1])"
      ],
      "execution_count": null,
      "outputs": [
        {
          "output_type": "stream",
          "text": [
            "Test loss: 0.635719895362854\n",
            "Test accuracy: 0.9016666412353516\n"
          ],
          "name": "stdout"
        }
      ]
    },
    {
      "cell_type": "markdown",
      "metadata": {
        "id": "SoCrbavJOb4U"
      },
      "source": [
        "Model 2"
      ]
    },
    {
      "cell_type": "code",
      "metadata": {
        "id": "VcBsiknppxFB",
        "colab": {
          "base_uri": "https://localhost:8080/"
        },
        "outputId": "26a59cf8-9ecf-4b4f-8917-48b7304e9777"
      },
      "source": [
        "score2 = model2.evaluate(X_train, y_train, verbose=0)\n",
        "print('Train loss:', score2[0])\n",
        "print('Train accuracy:', score2[1])"
      ],
      "execution_count": null,
      "outputs": [
        {
          "output_type": "stream",
          "text": [
            "Train loss: 0.122385174036026\n",
            "Train accuracy: 0.9526875019073486\n"
          ],
          "name": "stdout"
        }
      ]
    },
    {
      "cell_type": "code",
      "metadata": {
        "id": "VfO96eIANvpm",
        "colab": {
          "base_uri": "https://localhost:8080/"
        },
        "outputId": "0e8a7b8a-658f-4717-bb9a-e30fdfbbb021"
      },
      "source": [
        "score2 = model2.evaluate(X_val, y_val, verbose=0)\n",
        "print('Val loss:', score2[0])\n",
        "print('Val accuracy:', score2[1])"
      ],
      "execution_count": null,
      "outputs": [
        {
          "output_type": "stream",
          "text": [
            "Val loss: 0.25994133949279785\n",
            "Val accuracy: 0.9056666493415833\n"
          ],
          "name": "stdout"
        }
      ]
    },
    {
      "cell_type": "code",
      "metadata": {
        "id": "O61hSOpUpxN3",
        "colab": {
          "base_uri": "https://localhost:8080/"
        },
        "outputId": "9d42ab69-da42-438d-cbd8-86aa18365622"
      },
      "source": [
        "score2 = model2.evaluate(X_test, y_test, verbose=0)\n",
        "print('Test loss:', score2[0])\n",
        "print('Test accuracy:', score2[1])"
      ],
      "execution_count": null,
      "outputs": [
        {
          "output_type": "stream",
          "text": [
            "Test loss: 0.23331625759601593\n",
            "Test accuracy: 0.9148333072662354\n"
          ],
          "name": "stdout"
        }
      ]
    },
    {
      "cell_type": "markdown",
      "metadata": {
        "id": "frUtmHqfOd6t"
      },
      "source": [
        "Model 3"
      ]
    },
    {
      "cell_type": "code",
      "metadata": {
        "id": "cM8SqaMQpxVi",
        "colab": {
          "base_uri": "https://localhost:8080/"
        },
        "outputId": "4347b4d6-bfb4-40d6-f53a-216c6fca4adb"
      },
      "source": [
        "score3 = model3.evaluate(X_train, y_train, verbose=0)\n",
        "print('Train loss:', score3[0])\n",
        "print('Train accuracy:', score3[1])"
      ],
      "execution_count": null,
      "outputs": [
        {
          "output_type": "stream",
          "text": [
            "Train loss: 0.09007836878299713\n",
            "Train accuracy: 0.9605208039283752\n"
          ],
          "name": "stdout"
        }
      ]
    },
    {
      "cell_type": "code",
      "metadata": {
        "id": "5RuanIN6OCrW",
        "colab": {
          "base_uri": "https://localhost:8080/"
        },
        "outputId": "c8ed362e-a050-4b99-b5bf-248912254e0c"
      },
      "source": [
        "score3 = model3.evaluate(X_val, y_val, verbose=0)\n",
        "print('Val loss:', score3[0])\n",
        "print('Val accuracy:', score3[1])"
      ],
      "execution_count": null,
      "outputs": [
        {
          "output_type": "stream",
          "text": [
            "Val loss: 0.2946113049983978\n",
            "Val accuracy: 0.9024999737739563\n"
          ],
          "name": "stdout"
        }
      ]
    },
    {
      "cell_type": "code",
      "metadata": {
        "id": "_inIMBj_pxcm",
        "colab": {
          "base_uri": "https://localhost:8080/"
        },
        "outputId": "44dfbd5e-5d05-452e-aca1-2b649c1e6ad6"
      },
      "source": [
        "score3 = model3.evaluate(X_test, y_test, verbose=0)\n",
        "print('Test loss:', score3[0])\n",
        "print('Test accuracy:', score3[1])"
      ],
      "execution_count": null,
      "outputs": [
        {
          "output_type": "stream",
          "text": [
            "Test loss: 0.2660560607910156\n",
            "Test accuracy: 0.906166672706604\n"
          ],
          "name": "stdout"
        }
      ]
    },
    {
      "cell_type": "markdown",
      "metadata": {
        "id": "TWbyd7XfOjtq"
      },
      "source": [
        "Model 4"
      ]
    },
    {
      "cell_type": "code",
      "metadata": {
        "id": "RD9vLW5dpxjr",
        "colab": {
          "base_uri": "https://localhost:8080/"
        },
        "outputId": "4edfc82c-c85b-4e24-dcdc-3894590b141a"
      },
      "source": [
        "score4 = model4.evaluate(X_train, y_train, verbose=0)\n",
        "print('Train loss:', score4[0])\n",
        "print('Train accuracy:', score4[1])"
      ],
      "execution_count": null,
      "outputs": [
        {
          "output_type": "stream",
          "text": [
            "Train loss: 0.1309977024793625\n",
            "Train accuracy: 0.9674583077430725\n"
          ],
          "name": "stdout"
        }
      ]
    },
    {
      "cell_type": "code",
      "metadata": {
        "id": "33ZZUXlTz__B",
        "colab": {
          "base_uri": "https://localhost:8080/"
        },
        "outputId": "d8478e0d-527b-43e1-c674-ae33c996df59"
      },
      "source": [
        "score4 = model4.evaluate(X_val, y_val, verbose=0)\n",
        "print('Val loss:', score4[0])\n",
        "print('Val accuracy:', score4[1])"
      ],
      "execution_count": null,
      "outputs": [
        {
          "output_type": "stream",
          "text": [
            "Val loss: 0.2542056441307068\n",
            "Val accuracy: 0.9210000038146973\n"
          ],
          "name": "stdout"
        }
      ]
    },
    {
      "cell_type": "code",
      "metadata": {
        "id": "ruxzOlJopxqp",
        "colab": {
          "base_uri": "https://localhost:8080/"
        },
        "outputId": "606caac7-50ab-4f63-d4fb-5de5128d8369"
      },
      "source": [
        "score4 = model4.evaluate(X_test, y_test, verbose=0)\n",
        "print('Test loss:', score4[0])\n",
        "print('Test accuracy:', score4[1])"
      ],
      "execution_count": null,
      "outputs": [
        {
          "output_type": "stream",
          "text": [
            "Test loss: 0.2258574664592743\n",
            "Test accuracy: 0.9284999966621399\n"
          ],
          "name": "stdout"
        }
      ]
    },
    {
      "cell_type": "markdown",
      "metadata": {
        "id": "rIvkqk5zmN6Q"
      },
      "source": [
        "**Accuracy - Loss Plots**"
      ]
    },
    {
      "cell_type": "code",
      "metadata": {
        "id": "xOyRdXTRZAfM"
      },
      "source": [
        "def accuracy_loss_plot(model):\n",
        "\n",
        "  hist = model.history\n",
        "  acc = hist['accuracy']\n",
        "  val_acc = hist['val_accuracy']\n",
        "  loss = hist['loss']\n",
        "  val_loss = hist['val_loss']\n",
        "  epoch = range(50)\n",
        "\n",
        "  fig = plt.figure(figsize = (12,10))\n",
        "  plt.subplot(2,2,1)\n",
        "  sns.lineplot(acc,loss)\n",
        "  plt.xlabel('Accuracy')\n",
        "  plt.ylabel('Loss')\n",
        "  plt.legend(['train set'], loc='upper right')\n",
        "  plt.title('Training Accuracy vs Loss')\n",
        "\n",
        "  plt.subplot(2,2,2)\n",
        "  sns.lineplot(val_acc,val_loss)\n",
        "  plt.xlabel('Accuracy')\n",
        "  plt.ylabel('Loss')\n",
        "  plt.legend(['validation set'], loc='upper right')\n",
        "  plt.title('Validation Accuracy vs Loss')\n",
        "\n",
        "  plt.subplot(2,2,3)\n",
        "  sns.lineplot(epoch, acc)\n",
        "  sns.lineplot(epoch, val_acc)\n",
        "  plt.xlabel('Epoch')\n",
        "  plt.ylabel('Accuracy')\n",
        "  plt.legend(['train set', 'validation set'], loc='lower right')\n",
        "  plt.title('Accuracy vs Epoch')\n",
        "\n",
        "  plt.subplot(2,2,4)\n",
        "  sns.lineplot(epoch, loss)\n",
        "  sns.lineplot(epoch, val_loss)\n",
        "  plt.xlabel('Epoch')\n",
        "  plt.ylabel('Loss')\n",
        "  plt.legend(['train set', 'validation set'], loc='upper right')\n",
        "  plt.title('Loss vs Epoch')\n",
        "\n",
        "  plt.show()\n",
        "\n"
      ],
      "execution_count": null,
      "outputs": []
    },
    {
      "cell_type": "markdown",
      "metadata": {
        "id": "H9_Sjtr6OnJg"
      },
      "source": [
        "Model 1"
      ]
    },
    {
      "cell_type": "code",
      "metadata": {
        "id": "iFeY6icgZCPK",
        "colab": {
          "base_uri": "https://localhost:8080/",
          "height": 621
        },
        "outputId": "949153ed-780b-416a-957b-eba7649ddb00"
      },
      "source": [
        "accuracy_loss_plot(train_model1)"
      ],
      "execution_count": null,
      "outputs": [
        {
          "output_type": "display_data",
          "data": {
            "image/png": "[encoded data removed]",
            "text/plain": [
              "<Figure size 864x720 with 4 Axes>"
            ]
          },
          "metadata": {
            "tags": [],
            "needs_background": "light"
          }
        }
      ]
    },
    {
      "cell_type": "markdown",
      "metadata": {
        "id": "ZGmxtb16Oo4_"
      },
      "source": [
        "Model 2"
      ]
    },
    {
      "cell_type": "code",
      "metadata": {
        "id": "mRwjf9V8rOry",
        "colab": {
          "base_uri": "https://localhost:8080/",
          "height": 621
        },
        "outputId": "27e5c983-00a8-4025-d9c3-b4b74b538e28"
      },
      "source": [
        "accuracy_loss_plot(train_model2)"
      ],
      "execution_count": null,
      "outputs": [
        {
          "output_type": "display_data",
          "data": {
            "image/png": "[encoded data removed]",
            "text/plain": [
              "<Figure size 864x720 with 4 Axes>"
            ]
          },
          "metadata": {
            "tags": [],
            "needs_background": "light"
          }
        }
      ]
    },
    {
      "cell_type": "markdown",
      "metadata": {
        "id": "PdLvVrtfOrOy"
      },
      "source": [
        "Model 3"
      ]
    },
    {
      "cell_type": "code",
      "metadata": {
        "id": "FSzlFvkVrO1n",
        "colab": {
          "base_uri": "https://localhost:8080/",
          "height": 621
        },
        "outputId": "559033d1-dc8f-432e-cf32-42e1b2350869"
      },
      "source": [
        "accuracy_loss_plot(train_model3)"
      ],
      "execution_count": null,
      "outputs": [
        {
          "output_type": "display_data",
          "data": {
            "image/png": "[encoded data removed]",
            "text/plain": [
              "<Figure size 864x720 with 4 Axes>"
            ]
          },
          "metadata": {
            "tags": [],
            "needs_background": "light"
          }
        }
      ]
    },
    {
      "cell_type": "markdown",
      "metadata": {
        "id": "qlsE7eCwOsxb"
      },
      "source": [
        "Model 4"
      ]
    },
    {
      "cell_type": "code",
      "metadata": {
        "id": "qYFuz6mxrO9p",
        "colab": {
          "base_uri": "https://localhost:8080/",
          "height": 621
        },
        "outputId": "455c9b3d-55b6-472b-9396-1bb1696f6251"
      },
      "source": [
        "accuracy_loss_plot(train_model4)"
      ],
      "execution_count": null,
      "outputs": [
        {
          "output_type": "display_data",
          "data": {
            "image/png": "[encoded data removed]",
            "text/plain": [
              "<Figure size 864x720 with 4 Axes>"
            ]
          },
          "metadata": {
            "tags": [],
            "needs_background": "light"
          }
        }
      ]
    },
    {
      "cell_type": "markdown",
      "metadata": {
        "id": "Hf0m2VGLrn9k"
      },
      "source": [
        "**Performance on Test set**"
      ]
    },
    {
      "cell_type": "code",
      "metadata": {
        "id": "HFeBuqMRlmGg",
        "colab": {
          "base_uri": "https://localhost:8080/"
        },
        "outputId": "525306e9-2f13-43f2-a8b1-b149a2fd116f"
      },
      "source": [
        "%%time\n",
        "score = model4.evaluate(X_test, y_test, verbose=0)\n",
        "print('Test loss:', score[0])\n",
        "print('Test accuracy:', score[1])"
      ],
      "execution_count": null,
      "outputs": [
        {
          "output_type": "stream",
          "text": [
            "Test loss: 0.2258574664592743\n",
            "Test accuracy: 0.9284999966621399\n",
            "CPU times: user 566 ms, sys: 62.4 ms, total: 629 ms\n",
            "Wall time: 581 ms\n"
          ],
          "name": "stdout"
        }
      ]
    },
    {
      "cell_type": "code",
      "metadata": {
        "id": "bQeptbOiX9UD",
        "colab": {
          "base_uri": "https://localhost:8080/"
        },
        "outputId": "8dbf877e-65f0-4fec-b341-a34c60cd760c"
      },
      "source": [
        "%%time\n",
        "#get the predictions for the test data\n",
        "y_pred = np.argmax(model4.predict(X_test), axis=-1)"
      ],
      "execution_count": null,
      "outputs": [
        {
          "output_type": "stream",
          "text": [
            "CPU times: user 522 ms, sys: 25.3 ms, total: 548 ms\n",
            "Wall time: 493 ms\n"
          ],
          "name": "stdout"
        }
      ]
    },
    {
      "cell_type": "code",
      "metadata": {
        "id": "QB8wKNcci2Zn"
      },
      "source": [
        "y_test = np.argmax(y_test, axis=-1)"
      ],
      "execution_count": null,
      "outputs": []
    },
    {
      "cell_type": "code",
      "metadata": {
        "id": "9CKNIDV1jdzM",
        "colab": {
          "base_uri": "https://localhost:8080/"
        },
        "outputId": "bc2457b0-aadd-417d-f7a9-d49b711b6cf2"
      },
      "source": [
        "y_test"
      ],
      "execution_count": null,
      "outputs": [
        {
          "output_type": "execute_result",
          "data": {
            "text/plain": [
              "array([2, 3, 3, ..., 4, 4, 0])"
            ]
          },
          "metadata": {
            "tags": []
          },
          "execution_count": 51
        }
      ]
    },
    {
      "cell_type": "code",
      "metadata": {
        "id": "afBDmU5LPOv0",
        "colab": {
          "base_uri": "https://localhost:8080/"
        },
        "outputId": "de0ccc2d-f5a7-4f00-f81c-9c61fa109e1c"
      },
      "source": [
        "from sklearn.metrics import classification_report\n",
        "\n",
        "target_names = [\"Class {}:\".format(i) for i in range(1,6)]\n",
        "print(classification_report(y_test, y_pred, target_names=target_names))"
      ],
      "execution_count": null,
      "outputs": [
        {
          "output_type": "stream",
          "text": [
            "              precision    recall  f1-score   support\n",
            "\n",
            "    Class 1:       0.94      0.93      0.94      1178\n",
            "    Class 2:       0.92      0.88      0.90      1239\n",
            "    Class 3:       0.87      0.93      0.90      1207\n",
            "    Class 4:       0.96      0.92      0.94      1209\n",
            "    Class 5:       0.96      0.98      0.97      1167\n",
            "\n",
            "    accuracy                           0.93      6000\n",
            "   macro avg       0.93      0.93      0.93      6000\n",
            "weighted avg       0.93      0.93      0.93      6000\n",
            "\n"
          ],
          "name": "stdout"
        }
      ]
    },
    {
      "cell_type": "markdown",
      "metadata": {
        "id": "RqQ1ohnBYG-k"
      },
      "source": [
        "The best precision is obtained for Class 5, Class 1, Class 4 and Class 2. Worst accuracy is for Class 3.\n",
        "\n",
        "The recall is highest for Class 5, Class 4 and smallest for Class 2 and Class 3.\n",
        "\n",
        "f1-score is highest for Class 5, Class 4 and Class 1 and smallest for Class 3 followed by Class 2."
      ]
    },
    {
      "cell_type": "markdown",
      "metadata": {
        "id": "urIwCmAbWvoO"
      },
      "source": [
        "**Kaggle Test**"
      ]
    },
    {
      "cell_type": "code",
      "metadata": {
        "id": "MFu-BwK_WtlW"
      },
      "source": [
        "dataset__kaggle_test = np.load('fashion_mnist_dataset_kaggle_test.npy', allow_pickle=True).item()"
      ],
      "execution_count": null,
      "outputs": []
    },
    {
      "cell_type": "code",
      "metadata": {
        "id": "0ezcTR5bXt6u",
        "colab": {
          "base_uri": "https://localhost:8080/"
        },
        "outputId": "09649128-a761-410e-9e3e-e9f3d6ad0abc"
      },
      "source": [
        "dataset__kaggle_test"
      ],
      "execution_count": null,
      "outputs": [
        {
          "output_type": "execute_result",
          "data": {
            "text/plain": [
              "{'features': array([[[0., 0., 0., ..., 0., 0., 0.],\n",
              "         [0., 0., 0., ..., 0., 0., 0.],\n",
              "         [0., 0., 0., ..., 0., 0., 0.],\n",
              "         ...,\n",
              "         [0., 0., 0., ..., 0., 0., 0.],\n",
              "         [0., 0., 0., ..., 0., 0., 0.],\n",
              "         [0., 0., 0., ..., 0., 0., 0.]],\n",
              " \n",
              "        [[0., 0., 0., ..., 0., 0., 0.],\n",
              "         [0., 0., 0., ..., 0., 0., 0.],\n",
              "         [0., 0., 0., ..., 0., 0., 0.],\n",
              "         ...,\n",
              "         [0., 0., 0., ..., 0., 0., 0.],\n",
              "         [0., 0., 0., ..., 0., 0., 0.],\n",
              "         [0., 0., 0., ..., 0., 0., 0.]],\n",
              " \n",
              "        [[0., 0., 0., ..., 0., 0., 0.],\n",
              "         [0., 0., 0., ..., 0., 0., 0.],\n",
              "         [0., 0., 0., ..., 0., 0., 0.],\n",
              "         ...,\n",
              "         [0., 0., 0., ..., 0., 0., 0.],\n",
              "         [0., 0., 0., ..., 0., 0., 0.],\n",
              "         [0., 0., 0., ..., 0., 0., 0.]],\n",
              " \n",
              "        ...,\n",
              " \n",
              "        [[0., 0., 0., ..., 0., 0., 0.],\n",
              "         [0., 0., 0., ..., 0., 0., 0.],\n",
              "         [0., 0., 0., ..., 0., 0., 0.],\n",
              "         ...,\n",
              "         [0., 0., 0., ..., 0., 0., 0.],\n",
              "         [0., 0., 0., ..., 0., 0., 0.],\n",
              "         [0., 0., 0., ..., 0., 0., 0.]],\n",
              " \n",
              "        [[0., 0., 0., ..., 0., 0., 0.],\n",
              "         [0., 0., 0., ..., 0., 0., 0.],\n",
              "         [0., 0., 0., ..., 0., 0., 0.],\n",
              "         ...,\n",
              "         [0., 0., 0., ..., 0., 0., 0.],\n",
              "         [0., 0., 0., ..., 0., 0., 0.],\n",
              "         [0., 0., 0., ..., 0., 0., 0.]],\n",
              " \n",
              "        [[0., 0., 0., ..., 0., 0., 0.],\n",
              "         [0., 0., 0., ..., 0., 0., 0.],\n",
              "         [0., 0., 0., ..., 0., 0., 0.],\n",
              "         ...,\n",
              "         [0., 0., 0., ..., 0., 0., 0.],\n",
              "         [0., 0., 0., ..., 0., 0., 0.],\n",
              "         [0., 0., 0., ..., 0., 0., 0.]]]),\n",
              " 'id': array([   0,    1,    2, ..., 9997, 9998, 9999])}"
            ]
          },
          "metadata": {
            "tags": []
          },
          "execution_count": 54
        }
      ]
    },
    {
      "cell_type": "code",
      "metadata": {
        "id": "JIguQ3pdWzBt"
      },
      "source": [
        "X_kaggle_test = dataset__kaggle_test['features']"
      ],
      "execution_count": null,
      "outputs": []
    },
    {
      "cell_type": "code",
      "metadata": {
        "id": "TrqrgBZoWzFB",
        "colab": {
          "base_uri": "https://localhost:8080/"
        },
        "outputId": "7cf7f0d2-47c5-4ab1-adc8-d6b45080667f"
      },
      "source": [
        "X_kaggle_test.shape"
      ],
      "execution_count": null,
      "outputs": [
        {
          "output_type": "execute_result",
          "data": {
            "text/plain": [
              "(10000, 28, 28)"
            ]
          },
          "metadata": {
            "tags": []
          },
          "execution_count": 56
        }
      ]
    },
    {
      "cell_type": "code",
      "metadata": {
        "id": "I4GGxbJBWzIw"
      },
      "source": [
        "X_kaggle_test = tf.expand_dims(X_kaggle_test, axis=-1)"
      ],
      "execution_count": null,
      "outputs": []
    },
    {
      "cell_type": "code",
      "metadata": {
        "id": "AGcm-dwQW6Qw",
        "colab": {
          "base_uri": "https://localhost:8080/"
        },
        "outputId": "35cef033-9a2d-41fd-ae03-833b8369a712"
      },
      "source": [
        "X_kaggle_test.shape"
      ],
      "execution_count": null,
      "outputs": [
        {
          "output_type": "execute_result",
          "data": {
            "text/plain": [
              "TensorShape([10000, 28, 28, 1])"
            ]
          },
          "metadata": {
            "tags": []
          },
          "execution_count": 58
        }
      ]
    },
    {
      "cell_type": "code",
      "metadata": {
        "id": "zTQ7B6LuXAP5"
      },
      "source": [
        "#get the predictions for the test data\n",
        "predicted_classes_kaggle = model4.predict_classes(X_kaggle_test)"
      ],
      "execution_count": null,
      "outputs": []
    },
    {
      "cell_type": "code",
      "metadata": {
        "id": "HC7iOuBfXZxt",
        "colab": {
          "base_uri": "https://localhost:8080/"
        },
        "outputId": "a2ec5748-6977-4fbe-cce2-6187a3d31464"
      },
      "source": [
        "predicted_classes_kaggle"
      ],
      "execution_count": null,
      "outputs": [
        {
          "output_type": "execute_result",
          "data": {
            "text/plain": [
              "array([3, 2, 1, ..., 3, 1, 4])"
            ]
          },
          "metadata": {
            "tags": []
          },
          "execution_count": 60
        }
      ]
    },
    {
      "cell_type": "code",
      "metadata": {
        "id": "1btDr8Y0XcDm"
      },
      "source": [
        "predicted_classes_kaggle = predicted_classes_kaggle + 1"
      ],
      "execution_count": null,
      "outputs": []
    },
    {
      "cell_type": "code",
      "metadata": {
        "id": "JJ1phiV-XgBf",
        "colab": {
          "base_uri": "https://localhost:8080/"
        },
        "outputId": "32c809d5-6517-43c4-fdcf-2a281865d861"
      },
      "source": [
        "predicted_classes_kaggle"
      ],
      "execution_count": null,
      "outputs": [
        {
          "output_type": "execute_result",
          "data": {
            "text/plain": [
              "array([4, 3, 2, ..., 4, 2, 5])"
            ]
          },
          "metadata": {
            "tags": []
          },
          "execution_count": 62
        }
      ]
    },
    {
      "cell_type": "code",
      "metadata": {
        "id": "3Cv-zw5VXG29"
      },
      "source": [
        "import csv\n",
        "\n",
        "with open('kaggleCNN1.csv', 'w',newline='') as file:\n",
        "    writer = csv.writer(file)\n",
        "    writer.writerow([\"id\", \"target\"])\n",
        "    \n",
        "    for n in range(0,predicted_classes_kaggle.shape[0]):\n",
        "        writer.writerow([n,predicted_classes_kaggle[n]])"
      ],
      "execution_count": null,
      "outputs": []
    }
  ]
}