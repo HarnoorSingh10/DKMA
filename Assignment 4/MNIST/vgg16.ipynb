{
  "nbformat": 4,
  "nbformat_minor": 0,
  "metadata": {
    "colab": {
      "name": "vgg16.ipynb",
      "provenance": [],
      "collapsed_sections": []
    },
    "kernelspec": {
      "name": "python3",
      "display_name": "Python 3"
    },
    "language_info": {
      "name": "python"
    },
    "accelerator": "GPU"
  },
  "cells": [
    {
      "cell_type": "code",
      "metadata": {
        "id": "lCCMOfip6rsY"
      },
      "source": [
        "!pip install -q -U tensorflow>=1.8.0\n",
        "import tensorflow as tf\n",
        "import numpy as np\n",
        "import pandas as pd\n",
        "import matplotlib.pyplot as plt\n",
        "import seaborn as sns\n",
        "from keras.layers import Input, Lambda, Dense, Flatten\n",
        "from keras.models import Model\n",
        "from keras.applications.vgg16 import VGG16\n",
        "from keras.applications.vgg16 import preprocess_input\n",
        "from keras.preprocessing import image\n",
        "from keras.preprocessing.image import ImageDataGenerator\n",
        "from keras.models import Sequential\n",
        "from glob import glob\n",
        "import os, time\n"
      ],
      "execution_count": 1,
      "outputs": []
    },
    {
      "cell_type": "markdown",
      "metadata": {
        "id": "AGyP-pgtdFCA"
      },
      "source": [
        "**Load Dataset**"
      ]
    },
    {
      "cell_type": "code",
      "metadata": {
        "id": "QY8VN5209kkP"
      },
      "source": [
        "dataset = np.load('fashion_mnist_dataset_train.npy', allow_pickle=True).item()"
      ],
      "execution_count": 2,
      "outputs": []
    },
    {
      "cell_type": "code",
      "metadata": {
        "id": "AH-dwOza9mjv"
      },
      "source": [
        "X = dataset['features']\n",
        "y = dataset['target']"
      ],
      "execution_count": 3,
      "outputs": []
    },
    {
      "cell_type": "code",
      "metadata": {
        "colab": {
          "base_uri": "https://localhost:8080/"
        },
        "id": "Gy9czr6_9pEw",
        "outputId": "9dba0e4d-054d-4735-bea1-cb20595fcfa3"
      },
      "source": [
        "X.shape, y.shape"
      ],
      "execution_count": 4,
      "outputs": [
        {
          "output_type": "execute_result",
          "data": {
            "text/plain": [
              "((60000, 28, 28), (60000,))"
            ]
          },
          "metadata": {
            "tags": []
          },
          "execution_count": 4
        }
      ]
    },
    {
      "cell_type": "code",
      "metadata": {
        "colab": {
          "base_uri": "https://localhost:8080/"
        },
        "id": "_heDeJMu-usG",
        "outputId": "6caa88a2-0f67-4ea1-b14d-cea75db90e9e"
      },
      "source": [
        "y"
      ],
      "execution_count": 5,
      "outputs": [
        {
          "output_type": "execute_result",
          "data": {
            "text/plain": [
              "array([5., 2., 1., ..., 3., 1., 4.])"
            ]
          },
          "metadata": {
            "tags": []
          },
          "execution_count": 5
        }
      ]
    },
    {
      "cell_type": "code",
      "metadata": {
        "id": "uLYirw3d9xEv"
      },
      "source": [
        "y = y-1"
      ],
      "execution_count": 6,
      "outputs": []
    },
    {
      "cell_type": "code",
      "metadata": {
        "colab": {
          "base_uri": "https://localhost:8080/"
        },
        "id": "t5BKy261-n9o",
        "outputId": "f59ec378-3783-493c-c070-dbb67ce81f40"
      },
      "source": [
        "y"
      ],
      "execution_count": 7,
      "outputs": [
        {
          "output_type": "execute_result",
          "data": {
            "text/plain": [
              "array([4., 1., 0., ..., 2., 0., 3.])"
            ]
          },
          "metadata": {
            "tags": []
          },
          "execution_count": 7
        }
      ]
    },
    {
      "cell_type": "code",
      "metadata": {
        "id": "vqB1iDgA-Nq6"
      },
      "source": [
        "from tensorflow.keras.utils import to_categorical\n",
        "y = to_categorical(y, 5)"
      ],
      "execution_count": 8,
      "outputs": []
    },
    {
      "cell_type": "code",
      "metadata": {
        "colab": {
          "base_uri": "https://localhost:8080/"
        },
        "id": "YBgQ8aPq-b0P",
        "outputId": "9ad380ea-0ae7-4613-b537-c6422e3dc984"
      },
      "source": [
        "y"
      ],
      "execution_count": 9,
      "outputs": [
        {
          "output_type": "execute_result",
          "data": {
            "text/plain": [
              "array([[0., 0., 0., 0., 1.],\n",
              "       [0., 1., 0., 0., 0.],\n",
              "       [1., 0., 0., 0., 0.],\n",
              "       ...,\n",
              "       [0., 0., 1., 0., 0.],\n",
              "       [1., 0., 0., 0., 0.],\n",
              "       [0., 0., 0., 1., 0.]], dtype=float32)"
            ]
          },
          "metadata": {
            "tags": []
          },
          "execution_count": 9
        }
      ]
    },
    {
      "cell_type": "code",
      "metadata": {
        "colab": {
          "base_uri": "https://localhost:8080/"
        },
        "id": "ybt_4O26O7-f",
        "outputId": "0a904741-3ce9-4c6f-d271-8a8da2135a7d"
      },
      "source": [
        "y.shape"
      ],
      "execution_count": 10,
      "outputs": [
        {
          "output_type": "execute_result",
          "data": {
            "text/plain": [
              "(60000, 5)"
            ]
          },
          "metadata": {
            "tags": []
          },
          "execution_count": 10
        }
      ]
    },
    {
      "cell_type": "code",
      "metadata": {
        "id": "8gGluUc0RpeO"
      },
      "source": [
        "from sklearn.model_selection import train_test_split\n",
        "from sklearn.metrics import classification_report\n",
        "from tensorflow.python import keras\n",
        "from tensorflow.python.keras.models import Sequential\n",
        "from tensorflow.python.keras.layers import Dense, Flatten, Conv2D, Dropout, MaxPooling2D\n",
        "from IPython.display import SVG\n",
        "from keras.utils.vis_utils import model_to_dot\n",
        "from keras.utils import plot_model\n",
        "from tensorflow.keras.optimizers import Adam, SGD"
      ],
      "execution_count": 11,
      "outputs": []
    },
    {
      "cell_type": "code",
      "metadata": {
        "id": "0M5mBraLQxYg"
      },
      "source": [
        "# train - val - test split (80%-10%-10% , random seed =0)\n",
        "X_train, X_test, y_train, y_test = train_test_split(X, y, test_size=0.2, random_state=0)\n",
        "X_test, X_val, y_test, y_val = train_test_split(X_test, y_test, test_size=0.5, random_state=0)"
      ],
      "execution_count": 12,
      "outputs": []
    },
    {
      "cell_type": "code",
      "metadata": {
        "colab": {
          "base_uri": "https://localhost:8080/"
        },
        "id": "7CFpcS04RZpt",
        "outputId": "daa53bf2-f032-4574-ae04-21663e4aa13c"
      },
      "source": [
        "X_train.shape, y_train.shape"
      ],
      "execution_count": 13,
      "outputs": [
        {
          "output_type": "execute_result",
          "data": {
            "text/plain": [
              "((48000, 28, 28), (48000, 5))"
            ]
          },
          "metadata": {
            "tags": []
          },
          "execution_count": 13
        }
      ]
    },
    {
      "cell_type": "code",
      "metadata": {
        "id": "HTvF_XTgRaS2"
      },
      "source": [
        "X_train = tf.expand_dims(X_train, axis=-1)\n",
        "X_val = tf.expand_dims(X_val, axis=-1)\n",
        "X_test = tf.expand_dims(X_test, axis=-1)"
      ],
      "execution_count": 14,
      "outputs": []
    },
    {
      "cell_type": "code",
      "metadata": {
        "colab": {
          "base_uri": "https://localhost:8080/"
        },
        "id": "TfpMwSTjRso3",
        "outputId": "c430292c-d152-48cc-d73b-f638040a9536"
      },
      "source": [
        "X_train.shape, X_val.shape, X_test.shape"
      ],
      "execution_count": 15,
      "outputs": [
        {
          "output_type": "execute_result",
          "data": {
            "text/plain": [
              "(TensorShape([48000, 28, 28, 1]),\n",
              " TensorShape([6000, 28, 28, 1]),\n",
              " TensorShape([6000, 28, 28, 1]))"
            ]
          },
          "metadata": {
            "tags": []
          },
          "execution_count": 15
        }
      ]
    },
    {
      "cell_type": "code",
      "metadata": {
        "id": "uQSGmOR1TReA"
      },
      "source": [
        "\n",
        "# from keras.preprocessing.image import img_to_array, array_to_img\n",
        "# X_train = np.asarray([img_to_array(array_to_img(im, scale=False).resize((32,32))) for im in X_train])\n",
        "# X_val = np.asarray([img_to_array(array_to_img(im, scale=False).resize((32,32))) for im in X_val])\n",
        "# X_test = np.asarray([img_to_array(array_to_img(im, scale=False).resize((32,32))) for im in X_test])\n",
        "# #train_x = preprocess_input(x)\n",
        "# X_train.shape, X_val.shape, X_test.shape"
      ],
      "execution_count": 16,
      "outputs": []
    },
    {
      "cell_type": "markdown",
      "metadata": {
        "id": "1x2Wue7sR9LP"
      },
      "source": [
        "**Transfer Learning VGGNet**"
      ]
    },
    {
      "cell_type": "code",
      "metadata": {
        "colab": {
          "base_uri": "https://localhost:8080/"
        },
        "id": "Zc1zHDsrXQxm",
        "outputId": "b9896542-ebf6-473a-a790-03f74b24938b"
      },
      "source": [
        "# Resize the images 32*32 as required by VGG16\n",
        "# pad zeros to make 28*28*1 array to 32*32*3 array\n",
        "X_train = np.pad(X_train,((0,0),(2,2),(2,2),(1,1)), mode='constant', constant_values=0)\n",
        "X_val = np.pad(X_val,((0,0),(2,2),(2,2),(1,1)), mode='constant', constant_values=0)\n",
        "X_test = np.pad(X_test,((0,0),(2,2),(2,2),(1,1)), mode='constant', constant_values=0)\n",
        "\n",
        "X_train.shape, X_val.shape, X_test.shape"
      ],
      "execution_count": 17,
      "outputs": [
        {
          "output_type": "execute_result",
          "data": {
            "text/plain": [
              "((48000, 32, 32, 3), (6000, 32, 32, 3), (6000, 32, 32, 3))"
            ]
          },
          "metadata": {
            "tags": []
          },
          "execution_count": 17
        }
      ]
    },
    {
      "cell_type": "code",
      "metadata": {
        "id": "8zYSkl2lSEYn"
      },
      "source": [
        "IMAGE_SIZE = [32, 32,3]\n",
        "NUM_CLASSES = 5\n",
        "\n",
        "# add preprocessing layer to the front of VGG\n",
        "vgg_net = VGG16(input_shape=IMAGE_SIZE, weights='imagenet', include_top=False)\n",
        "\n",
        "# don't train existing weights\n",
        "for layer in vgg_net.layers:\n",
        "  layer.trainable = False\n",
        "\n",
        "# adding flatten and output layer to the resnet architecture\n",
        "x = Flatten()(vgg_net.output)\n",
        "prediction = Dense(NUM_CLASSES, activation='softmax')(x)\n",
        "\n",
        "# create a model object\n",
        "model = Model(inputs=vgg_net.input, outputs=prediction)\n",
        "\n",
        "# Compile the model\n",
        "model.compile(loss='categorical_crossentropy',\n",
        "             optimizer= Adam(),\n",
        "             metrics=['accuracy'])"
      ],
      "execution_count": 18,
      "outputs": []
    },
    {
      "cell_type": "code",
      "metadata": {
        "colab": {
          "base_uri": "https://localhost:8080/"
        },
        "id": "teuMpXGkU9_W",
        "outputId": "789e2c78-16d9-4c0d-cf34-234e1c5e4a29"
      },
      "source": [
        "model.summary()"
      ],
      "execution_count": 19,
      "outputs": [
        {
          "output_type": "stream",
          "text": [
            "Model: \"model\"\n",
            "_________________________________________________________________\n",
            "Layer (type)                 Output Shape              Param #   \n",
            "=================================================================\n",
            "input_1 (InputLayer)         [(None, 32, 32, 3)]       0         \n",
            "_________________________________________________________________\n",
            "block1_conv1 (Conv2D)        (None, 32, 32, 64)        1792      \n",
            "_________________________________________________________________\n",
            "block1_conv2 (Conv2D)        (None, 32, 32, 64)        36928     \n",
            "_________________________________________________________________\n",
            "block1_pool (MaxPooling2D)   (None, 16, 16, 64)        0         \n",
            "_________________________________________________________________\n",
            "block2_conv1 (Conv2D)        (None, 16, 16, 128)       73856     \n",
            "_________________________________________________________________\n",
            "block2_conv2 (Conv2D)        (None, 16, 16, 128)       147584    \n",
            "_________________________________________________________________\n",
            "block2_pool (MaxPooling2D)   (None, 8, 8, 128)         0         \n",
            "_________________________________________________________________\n",
            "block3_conv1 (Conv2D)        (None, 8, 8, 256)         295168    \n",
            "_________________________________________________________________\n",
            "block3_conv2 (Conv2D)        (None, 8, 8, 256)         590080    \n",
            "_________________________________________________________________\n",
            "block3_conv3 (Conv2D)        (None, 8, 8, 256)         590080    \n",
            "_________________________________________________________________\n",
            "block3_pool (MaxPooling2D)   (None, 4, 4, 256)         0         \n",
            "_________________________________________________________________\n",
            "block4_conv1 (Conv2D)        (None, 4, 4, 512)         1180160   \n",
            "_________________________________________________________________\n",
            "block4_conv2 (Conv2D)        (None, 4, 4, 512)         2359808   \n",
            "_________________________________________________________________\n",
            "block4_conv3 (Conv2D)        (None, 4, 4, 512)         2359808   \n",
            "_________________________________________________________________\n",
            "block4_pool (MaxPooling2D)   (None, 2, 2, 512)         0         \n",
            "_________________________________________________________________\n",
            "block5_conv1 (Conv2D)        (None, 2, 2, 512)         2359808   \n",
            "_________________________________________________________________\n",
            "block5_conv2 (Conv2D)        (None, 2, 2, 512)         2359808   \n",
            "_________________________________________________________________\n",
            "block5_conv3 (Conv2D)        (None, 2, 2, 512)         2359808   \n",
            "_________________________________________________________________\n",
            "block5_pool (MaxPooling2D)   (None, 1, 1, 512)         0         \n",
            "_________________________________________________________________\n",
            "flatten (Flatten)            (None, 512)               0         \n",
            "_________________________________________________________________\n",
            "dense (Dense)                (None, 5)                 2565      \n",
            "=================================================================\n",
            "Total params: 14,717,253\n",
            "Trainable params: 2,565\n",
            "Non-trainable params: 14,714,688\n",
            "_________________________________________________________________\n"
          ],
          "name": "stdout"
        }
      ]
    },
    {
      "cell_type": "code",
      "metadata": {
        "id": "IT-vLKIaVY6n"
      },
      "source": [
        ""
      ],
      "execution_count": 19,
      "outputs": []
    },
    {
      "cell_type": "markdown",
      "metadata": {
        "id": "eYbAjrEueaOV"
      },
      "source": [
        "**Train Model**"
      ]
    },
    {
      "cell_type": "code",
      "metadata": {
        "colab": {
          "base_uri": "https://localhost:8080/"
        },
        "id": "-iJTebVjWJdW",
        "outputId": "8f016368-fad6-494e-945f-40ce7b16367a"
      },
      "source": [
        "# Train the the model\n",
        "start_time = time.time()\n",
        "\n",
        "train_model = model.fit(X_train, y_train, batch_size=128, epochs=50, verbose=1, validation_data=(X_val, y_val))\n",
        "\n",
        "end_time = time.time()\n",
        "vgg16_time = end_time - start_time\n",
        "print(\"Total training time is {:0.2f} minute\".format(vgg16_time/60.0))"
      ],
      "execution_count": 20,
      "outputs": [
        {
          "output_type": "stream",
          "text": [
            "Epoch 1/50\n",
            "375/375 [==============================] - 12s 20ms/step - loss: 1.1894 - accuracy: 0.5436 - val_loss: 0.7976 - val_accuracy: 0.6968\n",
            "Epoch 2/50\n",
            "375/375 [==============================] - 6s 17ms/step - loss: 0.7584 - accuracy: 0.7199 - val_loss: 0.6897 - val_accuracy: 0.7450\n",
            "Epoch 3/50\n",
            "375/375 [==============================] - 6s 17ms/step - loss: 0.6707 - accuracy: 0.7458 - val_loss: 0.6410 - val_accuracy: 0.7572\n",
            "Epoch 4/50\n",
            "375/375 [==============================] - 7s 17ms/step - loss: 0.6261 - accuracy: 0.7607 - val_loss: 0.6062 - val_accuracy: 0.7670\n",
            "Epoch 5/50\n",
            "375/375 [==============================] - 6s 17ms/step - loss: 0.5948 - accuracy: 0.7714 - val_loss: 0.5842 - val_accuracy: 0.7802\n",
            "Epoch 6/50\n",
            "375/375 [==============================] - 6s 17ms/step - loss: 0.5857 - accuracy: 0.7708 - val_loss: 0.5738 - val_accuracy: 0.7810\n",
            "Epoch 7/50\n",
            "375/375 [==============================] - 7s 17ms/step - loss: 0.5718 - accuracy: 0.7762 - val_loss: 0.5578 - val_accuracy: 0.7840\n",
            "Epoch 8/50\n",
            "375/375 [==============================] - 7s 17ms/step - loss: 0.5502 - accuracy: 0.7874 - val_loss: 0.5458 - val_accuracy: 0.7895\n",
            "Epoch 9/50\n",
            "375/375 [==============================] - 7s 18ms/step - loss: 0.5440 - accuracy: 0.7902 - val_loss: 0.5381 - val_accuracy: 0.7873\n",
            "Epoch 10/50\n",
            "375/375 [==============================] - 7s 17ms/step - loss: 0.5378 - accuracy: 0.7916 - val_loss: 0.5332 - val_accuracy: 0.7903\n",
            "Epoch 11/50\n",
            "375/375 [==============================] - 7s 18ms/step - loss: 0.5287 - accuracy: 0.7917 - val_loss: 0.5291 - val_accuracy: 0.7880\n",
            "Epoch 12/50\n",
            "375/375 [==============================] - 7s 18ms/step - loss: 0.5201 - accuracy: 0.7962 - val_loss: 0.5197 - val_accuracy: 0.7970\n",
            "Epoch 13/50\n",
            "375/375 [==============================] - 7s 18ms/step - loss: 0.5204 - accuracy: 0.7946 - val_loss: 0.5219 - val_accuracy: 0.7955\n",
            "Epoch 14/50\n",
            "375/375 [==============================] - 7s 18ms/step - loss: 0.5194 - accuracy: 0.7939 - val_loss: 0.5092 - val_accuracy: 0.7993\n",
            "Epoch 15/50\n",
            "375/375 [==============================] - 7s 18ms/step - loss: 0.5091 - accuracy: 0.8008 - val_loss: 0.5069 - val_accuracy: 0.8002\n",
            "Epoch 16/50\n",
            "375/375 [==============================] - 7s 18ms/step - loss: 0.5042 - accuracy: 0.8044 - val_loss: 0.5044 - val_accuracy: 0.8025\n",
            "Epoch 17/50\n",
            "375/375 [==============================] - 7s 18ms/step - loss: 0.5008 - accuracy: 0.8032 - val_loss: 0.4987 - val_accuracy: 0.8043\n",
            "Epoch 18/50\n",
            "375/375 [==============================] - 7s 18ms/step - loss: 0.4968 - accuracy: 0.8059 - val_loss: 0.4957 - val_accuracy: 0.8045\n",
            "Epoch 19/50\n",
            "375/375 [==============================] - 7s 18ms/step - loss: 0.4932 - accuracy: 0.8050 - val_loss: 0.4933 - val_accuracy: 0.8053\n",
            "Epoch 20/50\n",
            "375/375 [==============================] - 7s 18ms/step - loss: 0.4929 - accuracy: 0.8072 - val_loss: 0.4919 - val_accuracy: 0.8050\n",
            "Epoch 21/50\n",
            "375/375 [==============================] - 7s 18ms/step - loss: 0.4846 - accuracy: 0.8109 - val_loss: 0.4910 - val_accuracy: 0.8040\n",
            "Epoch 22/50\n",
            "375/375 [==============================] - 7s 18ms/step - loss: 0.4910 - accuracy: 0.8082 - val_loss: 0.4887 - val_accuracy: 0.8077\n",
            "Epoch 23/50\n",
            "375/375 [==============================] - 7s 18ms/step - loss: 0.4851 - accuracy: 0.8114 - val_loss: 0.4847 - val_accuracy: 0.8075\n",
            "Epoch 24/50\n",
            "375/375 [==============================] - 7s 18ms/step - loss: 0.4901 - accuracy: 0.8073 - val_loss: 0.4844 - val_accuracy: 0.8043\n",
            "Epoch 25/50\n",
            "375/375 [==============================] - 7s 18ms/step - loss: 0.4802 - accuracy: 0.8107 - val_loss: 0.4824 - val_accuracy: 0.8082\n",
            "Epoch 26/50\n",
            "375/375 [==============================] - 7s 18ms/step - loss: 0.4818 - accuracy: 0.8111 - val_loss: 0.4812 - val_accuracy: 0.8095\n",
            "Epoch 27/50\n",
            "375/375 [==============================] - 7s 18ms/step - loss: 0.4813 - accuracy: 0.8117 - val_loss: 0.4798 - val_accuracy: 0.8083\n",
            "Epoch 28/50\n",
            "375/375 [==============================] - 7s 18ms/step - loss: 0.4747 - accuracy: 0.8144 - val_loss: 0.4777 - val_accuracy: 0.8078\n",
            "Epoch 29/50\n",
            "375/375 [==============================] - 7s 18ms/step - loss: 0.4724 - accuracy: 0.8160 - val_loss: 0.4758 - val_accuracy: 0.8098\n",
            "Epoch 30/50\n",
            "375/375 [==============================] - 7s 18ms/step - loss: 0.4733 - accuracy: 0.8160 - val_loss: 0.4790 - val_accuracy: 0.8053\n",
            "Epoch 31/50\n",
            "375/375 [==============================] - 7s 18ms/step - loss: 0.4715 - accuracy: 0.8149 - val_loss: 0.4727 - val_accuracy: 0.8137\n",
            "Epoch 32/50\n",
            "375/375 [==============================] - 7s 18ms/step - loss: 0.4668 - accuracy: 0.8182 - val_loss: 0.4714 - val_accuracy: 0.8127\n",
            "Epoch 33/50\n",
            "375/375 [==============================] - 7s 18ms/step - loss: 0.4715 - accuracy: 0.8148 - val_loss: 0.4703 - val_accuracy: 0.8128\n",
            "Epoch 34/50\n",
            "375/375 [==============================] - 7s 18ms/step - loss: 0.4673 - accuracy: 0.8156 - val_loss: 0.4705 - val_accuracy: 0.8110\n",
            "Epoch 35/50\n",
            "375/375 [==============================] - 7s 18ms/step - loss: 0.4616 - accuracy: 0.8197 - val_loss: 0.4686 - val_accuracy: 0.8157\n",
            "Epoch 36/50\n",
            "375/375 [==============================] - 7s 18ms/step - loss: 0.4674 - accuracy: 0.8156 - val_loss: 0.4680 - val_accuracy: 0.8138\n",
            "Epoch 37/50\n",
            "375/375 [==============================] - 7s 18ms/step - loss: 0.4644 - accuracy: 0.8184 - val_loss: 0.4682 - val_accuracy: 0.8127\n",
            "Epoch 38/50\n",
            "375/375 [==============================] - 7s 18ms/step - loss: 0.4629 - accuracy: 0.8204 - val_loss: 0.4668 - val_accuracy: 0.8138\n",
            "Epoch 39/50\n",
            "375/375 [==============================] - 7s 19ms/step - loss: 0.4583 - accuracy: 0.8195 - val_loss: 0.4725 - val_accuracy: 0.8107\n",
            "Epoch 40/50\n",
            "375/375 [==============================] - 7s 19ms/step - loss: 0.4600 - accuracy: 0.8208 - val_loss: 0.4658 - val_accuracy: 0.8125\n",
            "Epoch 41/50\n",
            "375/375 [==============================] - 7s 19ms/step - loss: 0.4579 - accuracy: 0.8209 - val_loss: 0.4653 - val_accuracy: 0.8120\n",
            "Epoch 42/50\n",
            "375/375 [==============================] - 7s 19ms/step - loss: 0.4620 - accuracy: 0.8198 - val_loss: 0.4668 - val_accuracy: 0.8128\n",
            "Epoch 43/50\n",
            "375/375 [==============================] - 7s 19ms/step - loss: 0.4567 - accuracy: 0.8190 - val_loss: 0.4643 - val_accuracy: 0.8145\n",
            "Epoch 44/50\n",
            "375/375 [==============================] - 7s 19ms/step - loss: 0.4583 - accuracy: 0.8216 - val_loss: 0.4610 - val_accuracy: 0.8170\n",
            "Epoch 45/50\n",
            "375/375 [==============================] - 7s 19ms/step - loss: 0.4566 - accuracy: 0.8210 - val_loss: 0.4607 - val_accuracy: 0.8163\n",
            "Epoch 46/50\n",
            "375/375 [==============================] - 7s 19ms/step - loss: 0.4520 - accuracy: 0.8223 - val_loss: 0.4621 - val_accuracy: 0.8145\n",
            "Epoch 47/50\n",
            "375/375 [==============================] - 7s 19ms/step - loss: 0.4526 - accuracy: 0.8226 - val_loss: 0.4593 - val_accuracy: 0.8172\n",
            "Epoch 48/50\n",
            "375/375 [==============================] - 7s 19ms/step - loss: 0.4505 - accuracy: 0.8222 - val_loss: 0.4602 - val_accuracy: 0.8180\n",
            "Epoch 49/50\n",
            "375/375 [==============================] - 7s 19ms/step - loss: 0.4506 - accuracy: 0.8220 - val_loss: 0.4599 - val_accuracy: 0.8177\n",
            "Epoch 50/50\n",
            "375/375 [==============================] - 7s 19ms/step - loss: 0.4503 - accuracy: 0.8227 - val_loss: 0.4596 - val_accuracy: 0.8177\n",
            "Total training time is 5.74 minute\n"
          ],
          "name": "stdout"
        }
      ]
    },
    {
      "cell_type": "markdown",
      "metadata": {
        "id": "xS8jgKKBeVOF"
      },
      "source": [
        "**Test Accuracy**"
      ]
    },
    {
      "cell_type": "code",
      "metadata": {
        "id": "b5Dva17FhiSj",
        "colab": {
          "base_uri": "https://localhost:8080/"
        },
        "outputId": "f973bf0a-cc75-4f8a-f373-10c4f36519de"
      },
      "source": [
        "score = model.evaluate(X_train, y_train, verbose=0)\n",
        "print('Train loss:', score[0])\n",
        "print('Train accuracy:', score[1])"
      ],
      "execution_count": 21,
      "outputs": [
        {
          "output_type": "stream",
          "text": [
            "Train loss: 0.44862622022628784\n",
            "Train accuracy: 0.8244374990463257\n"
          ],
          "name": "stdout"
        }
      ]
    },
    {
      "cell_type": "code",
      "metadata": {
        "id": "E4vBn3Jchibj",
        "colab": {
          "base_uri": "https://localhost:8080/"
        },
        "outputId": "b2cc8ffb-6125-4d57-9a93-1dcb1f01f95c"
      },
      "source": [
        "score = model.evaluate(X_val, y_val, verbose=0)\n",
        "print('Val loss:', score[0])\n",
        "print('Val accuracy:', score[1])"
      ],
      "execution_count": 22,
      "outputs": [
        {
          "output_type": "stream",
          "text": [
            "Val loss: 0.4596065580844879\n",
            "Val accuracy: 0.8176666498184204\n"
          ],
          "name": "stdout"
        }
      ]
    },
    {
      "cell_type": "code",
      "metadata": {
        "id": "2ROVdah3d7F9",
        "colab": {
          "base_uri": "https://localhost:8080/"
        },
        "outputId": "fe2f63d5-ee10-4600-a092-bffacafb4f25"
      },
      "source": [
        "%%time \n",
        "score = model.evaluate(X_test, y_test, verbose=0)\n",
        "print('Test loss:', score[0])\n",
        "print('Test accuracy:', score[1])"
      ],
      "execution_count": 23,
      "outputs": [
        {
          "output_type": "stream",
          "text": [
            "Test loss: 0.4575856924057007\n",
            "Test accuracy: 0.8181666731834412\n",
            "CPU times: user 761 ms, sys: 182 ms, total: 942 ms\n",
            "Wall time: 1.6 s\n"
          ],
          "name": "stdout"
        }
      ]
    },
    {
      "cell_type": "markdown",
      "metadata": {
        "id": "qWdXBuNchnxk"
      },
      "source": [
        "**Accuracy-Loss Plots**"
      ]
    },
    {
      "cell_type": "code",
      "metadata": {
        "id": "gvawa0nShpSE"
      },
      "source": [
        "def accuracy_loss_plot(model):\n",
        "\n",
        "  hist = model.history\n",
        "  acc = hist['accuracy']\n",
        "  val_acc = hist['val_accuracy']\n",
        "  loss = hist['loss']\n",
        "  val_loss = hist['val_loss']\n",
        "  epoch = range(50)\n",
        "\n",
        "  fig = plt.figure(figsize = (12,10))\n",
        "  plt.subplot(2,2,1)\n",
        "  sns.lineplot(acc,loss)\n",
        "  plt.xlabel('Accuracy')\n",
        "  plt.ylabel('Loss')\n",
        "  plt.legend(['train set'], loc='upper right')\n",
        "  plt.title('Training Accuracy vs Loss')\n",
        "\n",
        "  plt.subplot(2,2,2)\n",
        "  sns.lineplot(val_acc,val_loss)\n",
        "  plt.xlabel('Accuracy')\n",
        "  plt.ylabel('Loss')\n",
        "  plt.legend(['validation set'], loc='upper right')\n",
        "  plt.title('Validation Accuracy vs Loss')\n",
        "\n",
        "  plt.subplot(2,2,3)\n",
        "  sns.lineplot(epoch, acc)\n",
        "  sns.lineplot(epoch, val_acc)\n",
        "  plt.xlabel('Epoch')\n",
        "  plt.ylabel('Accuracy')\n",
        "  plt.legend(['train set', 'validation set'], loc='lower right')\n",
        "  plt.title('Accuracy vs Epoch')\n",
        "\n",
        "  plt.subplot(2,2,4)\n",
        "  sns.lineplot(epoch, loss)\n",
        "  sns.lineplot(epoch, val_loss)\n",
        "  plt.xlabel('Epoch')\n",
        "  plt.ylabel('Loss')\n",
        "  plt.legend(['train set', 'validation set'], loc='upper right')\n",
        "  plt.title('Loss vs Epoch')\n",
        "\n",
        "  plt.show()\n"
      ],
      "execution_count": 24,
      "outputs": []
    },
    {
      "cell_type": "code",
      "metadata": {
        "id": "UJhF9cf-hpXf",
        "colab": {
          "base_uri": "https://localhost:8080/",
          "height": 845
        },
        "outputId": "fce2c5a5-ce5f-417b-c374-fae8b8080f0f"
      },
      "source": [
        "accuracy_loss_plot(train_model)"
      ],
      "execution_count": 25,
      "outputs": [
        {
          "output_type": "stream",
          "text": [
            "/usr/local/lib/python3.7/dist-packages/seaborn/_decorators.py:43: FutureWarning: Pass the following variables as keyword args: x, y. From version 0.12, the only valid positional argument will be `data`, and passing other arguments without an explicit keyword will result in an error or misinterpretation.\n",
            "  FutureWarning\n",
            "/usr/local/lib/python3.7/dist-packages/seaborn/_decorators.py:43: FutureWarning: Pass the following variables as keyword args: x, y. From version 0.12, the only valid positional argument will be `data`, and passing other arguments without an explicit keyword will result in an error or misinterpretation.\n",
            "  FutureWarning\n",
            "/usr/local/lib/python3.7/dist-packages/seaborn/_decorators.py:43: FutureWarning: Pass the following variables as keyword args: x, y. From version 0.12, the only valid positional argument will be `data`, and passing other arguments without an explicit keyword will result in an error or misinterpretation.\n",
            "  FutureWarning\n",
            "/usr/local/lib/python3.7/dist-packages/seaborn/_decorators.py:43: FutureWarning: Pass the following variables as keyword args: x, y. From version 0.12, the only valid positional argument will be `data`, and passing other arguments without an explicit keyword will result in an error or misinterpretation.\n",
            "  FutureWarning\n",
            "/usr/local/lib/python3.7/dist-packages/seaborn/_decorators.py:43: FutureWarning: Pass the following variables as keyword args: x, y. From version 0.12, the only valid positional argument will be `data`, and passing other arguments without an explicit keyword will result in an error or misinterpretation.\n",
            "  FutureWarning\n",
            "/usr/local/lib/python3.7/dist-packages/seaborn/_decorators.py:43: FutureWarning: Pass the following variables as keyword args: x, y. From version 0.12, the only valid positional argument will be `data`, and passing other arguments without an explicit keyword will result in an error or misinterpretation.\n",
            "  FutureWarning\n"
          ],
          "name": "stderr"
        },
        {
          "output_type": "display_data",
          "data": {
            "image/png": "[encoded data removed]",
            "text/plain": [
              "<Figure size 864x720 with 4 Axes>"
            ]
          },
          "metadata": {
            "tags": [],
            "needs_background": "light"
          }
        }
      ]
    }
  ]
}