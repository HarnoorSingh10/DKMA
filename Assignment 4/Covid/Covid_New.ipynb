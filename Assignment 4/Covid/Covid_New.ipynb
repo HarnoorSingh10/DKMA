{
  "nbformat": 4,
  "nbformat_minor": 0,
  "metadata": {
    "colab": {
      "name": "Covid New.ipynb",
      "provenance": [],
      "collapsed_sections": []
    },
    "kernelspec": {
      "name": "python3",
      "display_name": "Python 3"
    },
    "language_info": {
      "name": "python"
    }
  },
  "cells": [
    {
      "cell_type": "code",
      "metadata": {
        "id": "TQ_RTLjohMF8"
      },
      "source": [
        "import numpy as np\n",
        "import pandas as pd\n",
        "import seaborn as sns\n",
        "import os, time\n",
        "import matplotlib.pyplot as plt\n",
        "\n",
        "# import warnings\n",
        "import warnings\n",
        "# filter warnings\n",
        "warnings.filterwarnings('ignore')"
      ],
      "execution_count": null,
      "outputs": []
    },
    {
      "cell_type": "code",
      "metadata": {
        "id": "IvIkuKpriBlR"
      },
      "source": [
        "df = pd.read_csv('COVID_dataset.csv')"
      ],
      "execution_count": null,
      "outputs": []
    },
    {
      "cell_type": "code",
      "metadata": {
        "colab": {
          "base_uri": "https://localhost:8080/"
        },
        "id": "gdI8Fr7oiE4Y",
        "outputId": "c369aac5-44a1-4d3b-da9e-d0a862382209"
      },
      "source": [
        "df.columns"
      ],
      "execution_count": null,
      "outputs": [
        {
          "output_type": "execute_result",
          "data": {
            "text/plain": [
              "Index(['Accurate_Episode_Date', 'Case_Reported_Date', 'Test_Reported_Date',\n",
              "       'Specimen_Date', 'Age_Group', 'Client_Gender', 'Case_AcquisitionInfo',\n",
              "       'Reporting_PHU_City', 'Outbreak_Related', 'Reporting_PHU_Latitude',\n",
              "       'Reporting_PHU_Longitude', 'Outcome1'],\n",
              "      dtype='object')"
            ]
          },
          "metadata": {
            "tags": []
          },
          "execution_count": 3
        }
      ]
    },
    {
      "cell_type": "code",
      "metadata": {
        "colab": {
          "base_uri": "https://localhost:8080/",
          "height": 258
        },
        "id": "-l5Pjv9j6AWH",
        "outputId": "9ec08e7c-e502-4803-b1c2-ceec610ec045"
      },
      "source": [
        "df.head(5)"
      ],
      "execution_count": null,
      "outputs": [
        {
          "output_type": "execute_result",
          "data": {
            "text/html": [
              "<div>\n",
              "<style scoped>\n",
              "    .dataframe tbody tr th:only-of-type {\n",
              "        vertical-align: middle;\n",
              "    }\n",
              "\n",
              "    .dataframe tbody tr th {\n",
              "        vertical-align: top;\n",
              "    }\n",
              "\n",
              "    .dataframe thead th {\n",
              "        text-align: right;\n",
              "    }\n",
              "</style>\n",
              "<table border=\"1\" class=\"dataframe\">\n",
              "  <thead>\n",
              "    <tr style=\"text-align: right;\">\n",
              "      <th></th>\n",
              "      <th>Accurate_Episode_Date</th>\n",
              "      <th>Case_Reported_Date</th>\n",
              "      <th>Test_Reported_Date</th>\n",
              "      <th>Specimen_Date</th>\n",
              "      <th>Age_Group</th>\n",
              "      <th>Client_Gender</th>\n",
              "      <th>Case_AcquisitionInfo</th>\n",
              "      <th>Reporting_PHU_City</th>\n",
              "      <th>Outbreak_Related</th>\n",
              "      <th>Reporting_PHU_Latitude</th>\n",
              "      <th>Reporting_PHU_Longitude</th>\n",
              "      <th>Outcome1</th>\n",
              "    </tr>\n",
              "  </thead>\n",
              "  <tbody>\n",
              "    <tr>\n",
              "      <th>0</th>\n",
              "      <td>3/30/2020</td>\n",
              "      <td>3/31/2020</td>\n",
              "      <td>3/31/2020</td>\n",
              "      <td>3/30/2020</td>\n",
              "      <td>70s</td>\n",
              "      <td>MALE</td>\n",
              "      <td>OB</td>\n",
              "      <td>Stratford</td>\n",
              "      <td>Yes</td>\n",
              "      <td>43.368662</td>\n",
              "      <td>-81.001913</td>\n",
              "      <td>Fatal</td>\n",
              "    </tr>\n",
              "    <tr>\n",
              "      <th>1</th>\n",
              "      <td>1/22/2021</td>\n",
              "      <td>1/24/2021</td>\n",
              "      <td>1/24/2021</td>\n",
              "      <td>1/23/2021</td>\n",
              "      <td>50s</td>\n",
              "      <td>FEMALE</td>\n",
              "      <td>NO KNOWN EPI LINK</td>\n",
              "      <td>Newmarket</td>\n",
              "      <td>NaN</td>\n",
              "      <td>44.048023</td>\n",
              "      <td>-79.480239</td>\n",
              "      <td>Not Resolved</td>\n",
              "    </tr>\n",
              "    <tr>\n",
              "      <th>2</th>\n",
              "      <td>3/24/2020</td>\n",
              "      <td>4/14/2020</td>\n",
              "      <td>4/14/2020</td>\n",
              "      <td>4/13/2020</td>\n",
              "      <td>70s</td>\n",
              "      <td>FEMALE</td>\n",
              "      <td>OB</td>\n",
              "      <td>Toronto</td>\n",
              "      <td>Yes</td>\n",
              "      <td>43.656591</td>\n",
              "      <td>-79.379358</td>\n",
              "      <td>Resolved</td>\n",
              "    </tr>\n",
              "    <tr>\n",
              "      <th>3</th>\n",
              "      <td>1/18/2021</td>\n",
              "      <td>1/21/2021</td>\n",
              "      <td>1/21/2021</td>\n",
              "      <td>1/18/2021</td>\n",
              "      <td>&lt;20</td>\n",
              "      <td>MALE</td>\n",
              "      <td>CC</td>\n",
              "      <td>Mississauga</td>\n",
              "      <td>NaN</td>\n",
              "      <td>43.647471</td>\n",
              "      <td>-79.708893</td>\n",
              "      <td>Not Resolved</td>\n",
              "    </tr>\n",
              "    <tr>\n",
              "      <th>4</th>\n",
              "      <td>12/26/2020</td>\n",
              "      <td>12/28/2020</td>\n",
              "      <td>12/28/2020</td>\n",
              "      <td>12/26/2020</td>\n",
              "      <td>60s</td>\n",
              "      <td>MALE</td>\n",
              "      <td>OB</td>\n",
              "      <td>Windsor</td>\n",
              "      <td>Yes</td>\n",
              "      <td>42.308796</td>\n",
              "      <td>-83.033670</td>\n",
              "      <td>Resolved</td>\n",
              "    </tr>\n",
              "  </tbody>\n",
              "</table>\n",
              "</div>"
            ],
            "text/plain": [
              "  Accurate_Episode_Date  ...      Outcome1\n",
              "0             3/30/2020  ...         Fatal\n",
              "1             1/22/2021  ...  Not Resolved\n",
              "2             3/24/2020  ...      Resolved\n",
              "3             1/18/2021  ...  Not Resolved\n",
              "4            12/26/2020  ...      Resolved\n",
              "\n",
              "[5 rows x 12 columns]"
            ]
          },
          "metadata": {
            "tags": []
          },
          "execution_count": 4
        }
      ]
    },
    {
      "cell_type": "code",
      "metadata": {
        "colab": {
          "base_uri": "https://localhost:8080/",
          "height": 297
        },
        "id": "JCWSAET6iGus",
        "outputId": "b7459d62-5923-4ade-88de-26775fb61d73"
      },
      "source": [
        "df.describe()"
      ],
      "execution_count": null,
      "outputs": [
        {
          "output_type": "execute_result",
          "data": {
            "text/html": [
              "<div>\n",
              "<style scoped>\n",
              "    .dataframe tbody tr th:only-of-type {\n",
              "        vertical-align: middle;\n",
              "    }\n",
              "\n",
              "    .dataframe tbody tr th {\n",
              "        vertical-align: top;\n",
              "    }\n",
              "\n",
              "    .dataframe thead th {\n",
              "        text-align: right;\n",
              "    }\n",
              "</style>\n",
              "<table border=\"1\" class=\"dataframe\">\n",
              "  <thead>\n",
              "    <tr style=\"text-align: right;\">\n",
              "      <th></th>\n",
              "      <th>Reporting_PHU_Latitude</th>\n",
              "      <th>Reporting_PHU_Longitude</th>\n",
              "    </tr>\n",
              "  </thead>\n",
              "  <tbody>\n",
              "    <tr>\n",
              "      <th>count</th>\n",
              "      <td>14860.000000</td>\n",
              "      <td>14860.000000</td>\n",
              "    </tr>\n",
              "    <tr>\n",
              "      <th>mean</th>\n",
              "      <td>43.732581</td>\n",
              "      <td>-79.570565</td>\n",
              "    </tr>\n",
              "    <tr>\n",
              "      <th>std</th>\n",
              "      <td>0.743379</td>\n",
              "      <td>1.581528</td>\n",
              "    </tr>\n",
              "    <tr>\n",
              "      <th>min</th>\n",
              "      <td>42.308796</td>\n",
              "      <td>-94.488254</td>\n",
              "    </tr>\n",
              "    <tr>\n",
              "      <th>25%</th>\n",
              "      <td>43.524881</td>\n",
              "      <td>-79.708893</td>\n",
              "    </tr>\n",
              "    <tr>\n",
              "      <th>50%</th>\n",
              "      <td>43.656591</td>\n",
              "      <td>-79.480239</td>\n",
              "    </tr>\n",
              "    <tr>\n",
              "      <th>75%</th>\n",
              "      <td>43.656591</td>\n",
              "      <td>-79.379358</td>\n",
              "    </tr>\n",
              "    <tr>\n",
              "      <th>max</th>\n",
              "      <td>49.769615</td>\n",
              "      <td>-74.736298</td>\n",
              "    </tr>\n",
              "  </tbody>\n",
              "</table>\n",
              "</div>"
            ],
            "text/plain": [
              "       Reporting_PHU_Latitude  Reporting_PHU_Longitude\n",
              "count            14860.000000             14860.000000\n",
              "mean                43.732581               -79.570565\n",
              "std                  0.743379                 1.581528\n",
              "min                 42.308796               -94.488254\n",
              "25%                 43.524881               -79.708893\n",
              "50%                 43.656591               -79.480239\n",
              "75%                 43.656591               -79.379358\n",
              "max                 49.769615               -74.736298"
            ]
          },
          "metadata": {
            "tags": []
          },
          "execution_count": 5
        }
      ]
    },
    {
      "cell_type": "markdown",
      "metadata": {
        "id": "MIOGBS3zjG_I"
      },
      "source": [
        ""
      ]
    },
    {
      "cell_type": "code",
      "metadata": {
        "colab": {
          "base_uri": "https://localhost:8080/"
        },
        "id": "adrK8nwfiILT",
        "outputId": "e3472c9d-d2c3-4480-c93d-2a80f6e64d24"
      },
      "source": [
        "df.info()"
      ],
      "execution_count": null,
      "outputs": [
        {
          "output_type": "stream",
          "text": [
            "<class 'pandas.core.frame.DataFrame'>\n",
            "RangeIndex: 14860 entries, 0 to 14859\n",
            "Data columns (total 12 columns):\n",
            " #   Column                   Non-Null Count  Dtype  \n",
            "---  ------                   --------------  -----  \n",
            " 0   Accurate_Episode_Date    14860 non-null  object \n",
            " 1   Case_Reported_Date       14860 non-null  object \n",
            " 2   Test_Reported_Date       14657 non-null  object \n",
            " 3   Specimen_Date            14738 non-null  object \n",
            " 4   Age_Group                14855 non-null  object \n",
            " 5   Client_Gender            14860 non-null  object \n",
            " 6   Case_AcquisitionInfo     14860 non-null  object \n",
            " 7   Reporting_PHU_City       14860 non-null  object \n",
            " 8   Outbreak_Related         5778 non-null   object \n",
            " 9   Reporting_PHU_Latitude   14860 non-null  float64\n",
            " 10  Reporting_PHU_Longitude  14860 non-null  float64\n",
            " 11  Outcome1                 14860 non-null  object \n",
            "dtypes: float64(2), object(10)\n",
            "memory usage: 1.4+ MB\n"
          ],
          "name": "stdout"
        }
      ]
    },
    {
      "cell_type": "code",
      "metadata": {
        "colab": {
          "base_uri": "https://localhost:8080/"
        },
        "id": "b6frAN03iNmc",
        "outputId": "a4199add-fe35-422f-9f08-0be7e17c477f"
      },
      "source": [
        "df.dtypes"
      ],
      "execution_count": null,
      "outputs": [
        {
          "output_type": "execute_result",
          "data": {
            "text/plain": [
              "Accurate_Episode_Date       object\n",
              "Case_Reported_Date          object\n",
              "Test_Reported_Date          object\n",
              "Specimen_Date               object\n",
              "Age_Group                   object\n",
              "Client_Gender               object\n",
              "Case_AcquisitionInfo        object\n",
              "Reporting_PHU_City          object\n",
              "Outbreak_Related            object\n",
              "Reporting_PHU_Latitude     float64\n",
              "Reporting_PHU_Longitude    float64\n",
              "Outcome1                    object\n",
              "dtype: object"
            ]
          },
          "metadata": {
            "tags": []
          },
          "execution_count": 7
        }
      ]
    },
    {
      "cell_type": "code",
      "metadata": {
        "colab": {
          "base_uri": "https://localhost:8080/"
        },
        "id": "gwK_DhEhjaQT",
        "outputId": "5d55b534-0285-4ef7-9c03-e624be6e9519"
      },
      "source": [
        "df.isna().sum()"
      ],
      "execution_count": null,
      "outputs": [
        {
          "output_type": "execute_result",
          "data": {
            "text/plain": [
              "Accurate_Episode_Date         0\n",
              "Case_Reported_Date            0\n",
              "Test_Reported_Date          203\n",
              "Specimen_Date               122\n",
              "Age_Group                     5\n",
              "Client_Gender                 0\n",
              "Case_AcquisitionInfo          0\n",
              "Reporting_PHU_City            0\n",
              "Outbreak_Related           9082\n",
              "Reporting_PHU_Latitude        0\n",
              "Reporting_PHU_Longitude       0\n",
              "Outcome1                      0\n",
              "dtype: int64"
            ]
          },
          "metadata": {
            "tags": []
          },
          "execution_count": 8
        }
      ]
    },
    {
      "cell_type": "code",
      "metadata": {
        "id": "fm0RJ8wgjeVo"
      },
      "source": [
        "# Removing NAn values from age group and replacing in other features\n",
        "df = df[df['Age_Group'].notna()]\n",
        "df.loc[df['Test_Reported_Date'].isnull(),'Test_Reported_Date'] = df['Case_Reported_Date']\n",
        "df.loc[df['Specimen_Date'].isnull(),'Specimen_Date'] = df['Accurate_Episode_Date']\n",
        "df['Outbreak_Related'].fillna(value='No', inplace=True)"
      ],
      "execution_count": null,
      "outputs": []
    },
    {
      "cell_type": "code",
      "metadata": {
        "colab": {
          "base_uri": "https://localhost:8080/"
        },
        "id": "ZlmJOVEVjgYB",
        "outputId": "c9fc5bcc-687b-42c2-fa7e-f49492fe9724"
      },
      "source": [
        "df.isna().sum()"
      ],
      "execution_count": null,
      "outputs": [
        {
          "output_type": "execute_result",
          "data": {
            "text/plain": [
              "Accurate_Episode_Date      0\n",
              "Case_Reported_Date         0\n",
              "Test_Reported_Date         0\n",
              "Specimen_Date              0\n",
              "Age_Group                  0\n",
              "Client_Gender              0\n",
              "Case_AcquisitionInfo       0\n",
              "Reporting_PHU_City         0\n",
              "Outbreak_Related           0\n",
              "Reporting_PHU_Latitude     0\n",
              "Reporting_PHU_Longitude    0\n",
              "Outcome1                   0\n",
              "dtype: int64"
            ]
          },
          "metadata": {
            "tags": []
          },
          "execution_count": 10
        }
      ]
    },
    {
      "cell_type": "code",
      "metadata": {
        "id": "WQ-2UA7adR5Y"
      },
      "source": [
        "# one-hot encoding for categorical variables and ordinal encoding for age group column\n",
        "cats = ['Client_Gender', 'Case_AcquisitionInfo', 'Outbreak_Related', 'Reporting_PHU_City']\n",
        "df['Outcome1'].replace(['Resolved', 'Not Resolved', 'Fatal'],[0,1,2], inplace = True)\n",
        "df['Age_Group'].replace(['<20', '20s', '30s', '40s', '50s', '60s', '70s', '80s', '90s'], [19,20,30,40,50,60,70,80,90], inplace = True)\n",
        "df_temp = pd.get_dummies(df.iloc[:,:-1], columns=cats, drop_first=True)\n",
        "df_temp['Outcome1'] = df['Outcome1']\n",
        "df = df_temp"
      ],
      "execution_count": null,
      "outputs": []
    },
    {
      "cell_type": "code",
      "metadata": {
        "id": "PF-73eyeRQlo"
      },
      "source": [
        "# converting date to integers  \n",
        "for column in ('Accurate_Episode_Date', 'Case_Reported_Date', 'Test_Reported_Date', 'Specimen_Date'):\n",
        "        df[column] = pd.to_datetime(df[column]).astype(int) // int(1e9)"
      ],
      "execution_count": null,
      "outputs": []
    },
    {
      "cell_type": "code",
      "metadata": {
        "id": "VbxuqUf5bkB6"
      },
      "source": [
        "# scaling down numerical features\n",
        "from sklearn.preprocessing import StandardScaler\n",
        "from sklearn.preprocessing import RobustScaler\n",
        "from sklearn.preprocessing import MinMaxScaler\n",
        "\n",
        "scaled_features = df.copy()\n",
        "col_names = ['Accurate_Episode_Date', 'Case_Reported_Date', 'Test_Reported_Date', \n",
        "             'Specimen_Date', 'Reporting_PHU_Latitude', 'Reporting_PHU_Longitude']\n",
        "features = scaled_features[col_names]\n",
        "scaler = RobustScaler().fit(features.values)\n",
        "# scaler = StandardScaler().fit(features.values)\n",
        "# scaler = MinMaxScaler().fit(features.values)\n",
        "features = scaler.transform(features.values)\n",
        "\n",
        "scaled_features[col_names] = features\n",
        "df = scaled_features"
      ],
      "execution_count": null,
      "outputs": []
    },
    {
      "cell_type": "code",
      "metadata": {
        "id": "V6Kn7VhIdPYT"
      },
      "source": [
        "from sklearn.model_selection import train_test_split\n",
        "\n",
        "# splitting data and target\n",
        "X = df.drop(['Outcome1'], axis=1)\n",
        "y = df['Outcome1']\n",
        "\n",
        "# dividing the data into train, validation and test sets (80%, 10%, 10%) with random_state=0\n",
        "X_train, X_test, y_train, y_test = train_test_split(X, y, test_size=0.2, random_state=0)\n",
        "X_test, X_val, y_test, y_val = train_test_split(X_test, y_test, test_size=0.5, random_state=0)"
      ],
      "execution_count": null,
      "outputs": []
    },
    {
      "cell_type": "markdown",
      "metadata": {
        "id": "Ssnxcy2LbA1B"
      },
      "source": [
        "## MODEL - DNN"
      ]
    },
    {
      "cell_type": "code",
      "metadata": {
        "id": "mAzOHLGlM4eP"
      },
      "source": [
        "# Model\n",
        "EPOCHS = 50\n",
        "BATCH_SIZE = 64"
      ],
      "execution_count": null,
      "outputs": []
    },
    {
      "cell_type": "code",
      "metadata": {
        "id": "Y1GcNJd8kzHN"
      },
      "source": [
        "# Dependencies\n",
        "import tensorflow as tf\n",
        "import keras\n",
        "from keras.models import Sequential\n",
        "from keras.layers import Dense\n",
        "from keras import activations\n",
        "from tensorflow.keras.optimizers import Adam, SGD\n",
        "\n",
        "# Deep Neural network\n",
        "model = Sequential()\n",
        "model.add(Dense(32, activation=activations.relu))\n",
        "model.add(Dense(32, activation=activations.relu))\n",
        "model.add(Dense(32, activation=activations.relu))\n",
        "model.add(Dense(16, activation=activations.relu))\n",
        "model.add(Dense(3, activation=activations.softmax))\n",
        "\n",
        "model.compile(loss='sparse_categorical_crossentropy', \n",
        "              optimizer=Adam(learning_rate=0.001), metrics=['accuracy'])"
      ],
      "execution_count": null,
      "outputs": []
    },
    {
      "cell_type": "code",
      "metadata": {
        "colab": {
          "base_uri": "https://localhost:8080/"
        },
        "id": "zrgpgulgPkWl",
        "outputId": "43a5cea5-f134-4bea-e32b-4b48f2f85939"
      },
      "source": [
        "# Train the the model\n",
        "start_time = time.time()\n",
        "train_model = model.fit(X_train, y_train, batch_size=BATCH_SIZE, \n",
        "                        epochs=EPOCHS, verbose=1, validation_data=(X_val, y_val),\n",
        "                        shuffle=True)\n",
        "end_time = time.time()\n",
        "print(\"Total training time : {:0.2f} minute\".format((end_time - start_time)/60.0))"
      ],
      "execution_count": null,
      "outputs": [
        {
          "output_type": "stream",
          "text": [
            "Epoch 1/50\n",
            "186/186 [==============================] - 1s 5ms/step - loss: 1.3667 - accuracy: 0.4522 - val_loss: 0.5919 - val_accuracy: 0.7604\n",
            "Epoch 2/50\n",
            "186/186 [==============================] - 0s 2ms/step - loss: 0.5247 - accuracy: 0.7961 - val_loss: 0.3649 - val_accuracy: 0.8742\n",
            "Epoch 3/50\n",
            "186/186 [==============================] - 0s 2ms/step - loss: 0.3571 - accuracy: 0.8725 - val_loss: 0.3347 - val_accuracy: 0.8869\n",
            "Epoch 4/50\n",
            "186/186 [==============================] - 0s 2ms/step - loss: 0.3245 - accuracy: 0.8855 - val_loss: 0.3197 - val_accuracy: 0.8836\n",
            "Epoch 5/50\n",
            "186/186 [==============================] - 0s 2ms/step - loss: 0.3056 - accuracy: 0.8845 - val_loss: 0.3421 - val_accuracy: 0.8701\n",
            "Epoch 6/50\n",
            "186/186 [==============================] - 0s 2ms/step - loss: 0.2993 - accuracy: 0.8861 - val_loss: 0.4053 - val_accuracy: 0.8627\n",
            "Epoch 7/50\n",
            "186/186 [==============================] - 0s 2ms/step - loss: 0.2988 - accuracy: 0.8926 - val_loss: 0.3057 - val_accuracy: 0.8923\n",
            "Epoch 8/50\n",
            "186/186 [==============================] - 0s 2ms/step - loss: 0.2945 - accuracy: 0.8909 - val_loss: 0.2740 - val_accuracy: 0.9058\n",
            "Epoch 9/50\n",
            "186/186 [==============================] - 0s 2ms/step - loss: 0.2792 - accuracy: 0.8995 - val_loss: 0.3532 - val_accuracy: 0.8769\n",
            "Epoch 10/50\n",
            "186/186 [==============================] - 0s 2ms/step - loss: 0.2841 - accuracy: 0.8931 - val_loss: 0.2865 - val_accuracy: 0.9017\n",
            "Epoch 11/50\n",
            "186/186 [==============================] - 0s 2ms/step - loss: 0.2670 - accuracy: 0.9041 - val_loss: 0.2736 - val_accuracy: 0.9044\n",
            "Epoch 12/50\n",
            "186/186 [==============================] - 0s 2ms/step - loss: 0.2678 - accuracy: 0.9039 - val_loss: 0.2885 - val_accuracy: 0.9031\n",
            "Epoch 13/50\n",
            "186/186 [==============================] - 0s 2ms/step - loss: 0.2760 - accuracy: 0.8996 - val_loss: 0.2866 - val_accuracy: 0.8984\n",
            "Epoch 14/50\n",
            "186/186 [==============================] - 0s 2ms/step - loss: 0.2653 - accuracy: 0.9051 - val_loss: 0.2649 - val_accuracy: 0.9071\n",
            "Epoch 15/50\n",
            "186/186 [==============================] - 0s 2ms/step - loss: 0.2643 - accuracy: 0.9046 - val_loss: 0.2905 - val_accuracy: 0.8943\n",
            "Epoch 16/50\n",
            "186/186 [==============================] - 0s 2ms/step - loss: 0.2642 - accuracy: 0.9041 - val_loss: 0.2793 - val_accuracy: 0.8984\n",
            "Epoch 17/50\n",
            "186/186 [==============================] - 0s 2ms/step - loss: 0.2715 - accuracy: 0.8964 - val_loss: 0.2932 - val_accuracy: 0.8869\n",
            "Epoch 18/50\n",
            "186/186 [==============================] - 0s 2ms/step - loss: 0.2498 - accuracy: 0.9116 - val_loss: 0.2656 - val_accuracy: 0.9044\n",
            "Epoch 19/50\n",
            "186/186 [==============================] - 0s 2ms/step - loss: 0.2568 - accuracy: 0.9079 - val_loss: 0.2885 - val_accuracy: 0.8997\n",
            "Epoch 20/50\n",
            "186/186 [==============================] - 0s 2ms/step - loss: 0.2605 - accuracy: 0.9046 - val_loss: 0.2505 - val_accuracy: 0.9159\n",
            "Epoch 21/50\n",
            "186/186 [==============================] - 0s 2ms/step - loss: 0.2515 - accuracy: 0.9109 - val_loss: 0.2636 - val_accuracy: 0.9125\n",
            "Epoch 22/50\n",
            "186/186 [==============================] - 0s 2ms/step - loss: 0.2543 - accuracy: 0.9083 - val_loss: 0.2624 - val_accuracy: 0.9085\n",
            "Epoch 23/50\n",
            "186/186 [==============================] - 0s 2ms/step - loss: 0.2567 - accuracy: 0.9092 - val_loss: 0.2594 - val_accuracy: 0.9078\n",
            "Epoch 24/50\n",
            "186/186 [==============================] - 0s 2ms/step - loss: 0.2493 - accuracy: 0.9089 - val_loss: 0.2751 - val_accuracy: 0.9011\n",
            "Epoch 25/50\n",
            "186/186 [==============================] - 0s 2ms/step - loss: 0.2518 - accuracy: 0.9099 - val_loss: 0.2645 - val_accuracy: 0.9038\n",
            "Epoch 26/50\n",
            "186/186 [==============================] - 0s 2ms/step - loss: 0.2666 - accuracy: 0.9035 - val_loss: 0.2537 - val_accuracy: 0.9112\n",
            "Epoch 27/50\n",
            "186/186 [==============================] - 0s 2ms/step - loss: 0.2530 - accuracy: 0.9090 - val_loss: 0.2571 - val_accuracy: 0.9065\n",
            "Epoch 28/50\n",
            "186/186 [==============================] - 0s 2ms/step - loss: 0.2518 - accuracy: 0.9084 - val_loss: 0.2651 - val_accuracy: 0.9011\n",
            "Epoch 29/50\n",
            "186/186 [==============================] - 0s 2ms/step - loss: 0.2596 - accuracy: 0.9064 - val_loss: 0.2658 - val_accuracy: 0.9051\n",
            "Epoch 30/50\n",
            "186/186 [==============================] - 0s 2ms/step - loss: 0.2515 - accuracy: 0.9102 - val_loss: 0.2479 - val_accuracy: 0.9145\n",
            "Epoch 31/50\n",
            "186/186 [==============================] - 0s 2ms/step - loss: 0.2459 - accuracy: 0.9100 - val_loss: 0.3141 - val_accuracy: 0.8795\n",
            "Epoch 32/50\n",
            "186/186 [==============================] - 0s 2ms/step - loss: 0.2600 - accuracy: 0.9073 - val_loss: 0.2533 - val_accuracy: 0.9065\n",
            "Epoch 33/50\n",
            "186/186 [==============================] - 0s 2ms/step - loss: 0.2456 - accuracy: 0.9108 - val_loss: 0.2643 - val_accuracy: 0.9031\n",
            "Epoch 34/50\n",
            "186/186 [==============================] - 0s 2ms/step - loss: 0.2537 - accuracy: 0.9078 - val_loss: 0.2461 - val_accuracy: 0.9125\n",
            "Epoch 35/50\n",
            "186/186 [==============================] - 0s 2ms/step - loss: 0.2460 - accuracy: 0.9096 - val_loss: 0.2445 - val_accuracy: 0.9112\n",
            "Epoch 36/50\n",
            "186/186 [==============================] - 0s 2ms/step - loss: 0.2492 - accuracy: 0.9126 - val_loss: 0.2585 - val_accuracy: 0.9098\n",
            "Epoch 37/50\n",
            "186/186 [==============================] - 0s 2ms/step - loss: 0.2472 - accuracy: 0.9131 - val_loss: 0.2455 - val_accuracy: 0.9098\n",
            "Epoch 38/50\n",
            "186/186 [==============================] - 0s 2ms/step - loss: 0.2544 - accuracy: 0.9065 - val_loss: 0.2489 - val_accuracy: 0.9092\n",
            "Epoch 39/50\n",
            "186/186 [==============================] - 0s 2ms/step - loss: 0.2522 - accuracy: 0.9100 - val_loss: 0.2509 - val_accuracy: 0.9098\n",
            "Epoch 40/50\n",
            "186/186 [==============================] - 0s 2ms/step - loss: 0.2398 - accuracy: 0.9126 - val_loss: 0.2596 - val_accuracy: 0.9078\n",
            "Epoch 41/50\n",
            "186/186 [==============================] - 0s 2ms/step - loss: 0.2472 - accuracy: 0.9096 - val_loss: 0.2547 - val_accuracy: 0.9092\n",
            "Epoch 42/50\n",
            "186/186 [==============================] - 0s 2ms/step - loss: 0.2618 - accuracy: 0.9030 - val_loss: 0.2686 - val_accuracy: 0.8991\n",
            "Epoch 43/50\n",
            "186/186 [==============================] - 0s 2ms/step - loss: 0.2471 - accuracy: 0.9123 - val_loss: 0.2448 - val_accuracy: 0.9098\n",
            "Epoch 44/50\n",
            "186/186 [==============================] - 0s 2ms/step - loss: 0.2432 - accuracy: 0.9135 - val_loss: 0.2489 - val_accuracy: 0.9051\n",
            "Epoch 45/50\n",
            "186/186 [==============================] - 0s 2ms/step - loss: 0.2395 - accuracy: 0.9123 - val_loss: 0.2545 - val_accuracy: 0.9112\n",
            "Epoch 46/50\n",
            "186/186 [==============================] - 0s 2ms/step - loss: 0.2514 - accuracy: 0.9102 - val_loss: 0.2440 - val_accuracy: 0.9145\n",
            "Epoch 47/50\n",
            "186/186 [==============================] - 0s 2ms/step - loss: 0.2432 - accuracy: 0.9156 - val_loss: 0.2483 - val_accuracy: 0.9125\n",
            "Epoch 48/50\n",
            "186/186 [==============================] - 0s 2ms/step - loss: 0.2503 - accuracy: 0.9087 - val_loss: 0.2437 - val_accuracy: 0.9145\n",
            "Epoch 49/50\n",
            "186/186 [==============================] - 0s 2ms/step - loss: 0.2454 - accuracy: 0.9131 - val_loss: 0.2571 - val_accuracy: 0.9058\n",
            "Epoch 50/50\n",
            "186/186 [==============================] - 0s 2ms/step - loss: 0.2489 - accuracy: 0.9153 - val_loss: 0.2454 - val_accuracy: 0.9098\n",
            "Total training time : 0.34 minute\n"
          ],
          "name": "stdout"
        }
      ]
    },
    {
      "cell_type": "code",
      "metadata": {
        "id": "Zj3SHugln_Te",
        "colab": {
          "base_uri": "https://localhost:8080/"
        },
        "outputId": "4a46eea2-a2b9-4d02-c7ae-8b5eb91b19af"
      },
      "source": [
        "score = model.evaluate(X_train, y_train, verbose=0)\n",
        "print('Train accuracy:', score[1])\n",
        "print('Train loss:', score[0])"
      ],
      "execution_count": null,
      "outputs": [
        {
          "output_type": "stream",
          "text": [
            "Train accuracy: 0.916610598564148\n",
            "Train loss: 0.23439332842826843\n"
          ],
          "name": "stdout"
        }
      ]
    },
    {
      "cell_type": "code",
      "metadata": {
        "colab": {
          "base_uri": "https://localhost:8080/"
        },
        "id": "f5DQc3lwn6_B",
        "outputId": "c813820b-1230-4e01-a3e7-3dd6a9836ff0"
      },
      "source": [
        "score = model.evaluate(X_val, y_val, verbose=0)\n",
        "print('Val accuracy:', score[1])\n",
        "print('Val loss:', score[0])"
      ],
      "execution_count": null,
      "outputs": [
        {
          "output_type": "stream",
          "text": [
            "Train accuracy: 0.9098250269889832\n",
            "Train loss: 0.2454405128955841\n"
          ],
          "name": "stdout"
        }
      ]
    },
    {
      "cell_type": "code",
      "metadata": {
        "id": "Tx1h3Ngccvor",
        "colab": {
          "base_uri": "https://localhost:8080/"
        },
        "outputId": "ea45187f-f7cb-47c8-c5d5-1d4f277afb72"
      },
      "source": [
        "%%time\n",
        "y_pred = np.argmax(model.predict(X_test), axis=-1)"
      ],
      "execution_count": null,
      "outputs": [
        {
          "output_type": "stream",
          "text": [
            "CPU times: user 222 ms, sys: 6.47 ms, total: 228 ms\n",
            "Wall time: 224 ms\n"
          ],
          "name": "stdout"
        }
      ]
    },
    {
      "cell_type": "code",
      "metadata": {
        "id": "zKTt-WE7QHiT",
        "colab": {
          "base_uri": "https://localhost:8080/"
        },
        "outputId": "8ab5246d-893f-4aec-8fc9-623c0ca64f3d"
      },
      "source": [
        "%%time\n",
        "score = model.evaluate(X_test, y_test, verbose=0)\n",
        "print('Test accuracy:', score[1])\n",
        "print('Test loss:', score[0])"
      ],
      "execution_count": null,
      "outputs": [
        {
          "output_type": "stream",
          "text": [
            "Test accuracy: 0.9178451299667358\n",
            "Test loss: 0.2335989624261856\n",
            "CPU times: user 150 ms, sys: 9.7 ms, total: 160 ms\n",
            "Wall time: 150 ms\n"
          ],
          "name": "stdout"
        }
      ]
    },
    {
      "cell_type": "code",
      "metadata": {
        "id": "mTN77VhAdKx5"
      },
      "source": [
        "def accuracy_loss_plot(model):\n",
        "\n",
        "  hist = model.history\n",
        "  acc = hist['accuracy']\n",
        "  val_acc = hist['val_accuracy']\n",
        "  loss = hist['loss']\n",
        "  val_loss = hist['val_loss']\n",
        "  epoch = range(50)\n",
        "\n",
        "  fig = plt.figure(figsize = (12,10))\n",
        "  plt.subplot(2,2,1)\n",
        "  sns.lineplot(acc,loss)\n",
        "  plt.xlabel('Accuracy')\n",
        "  plt.ylabel('Loss')\n",
        "  plt.legend(['train set'], loc='upper right')\n",
        "  plt.title('Training Accuracy vs Loss')\n",
        "\n",
        "  plt.subplot(2,2,2)\n",
        "  sns.lineplot(val_acc,val_loss)\n",
        "  plt.xlabel('Accuracy')\n",
        "  plt.ylabel('Loss')\n",
        "  plt.legend(['validation set'], loc='upper right')\n",
        "  plt.title('Validation Accuracy vs Loss')\n",
        "\n",
        "  plt.subplot(2,2,3)\n",
        "  sns.lineplot(epoch, acc)\n",
        "  sns.lineplot(epoch, val_acc)\n",
        "  plt.xlabel('Epoch')\n",
        "  plt.ylabel('Accuracy')\n",
        "  plt.legend(['train set', 'validation set'], loc='lower right')\n",
        "  plt.title('Accuracy vs Epoch')\n",
        "\n",
        "  plt.subplot(2,2,4)\n",
        "  sns.lineplot(epoch, loss)\n",
        "  sns.lineplot(epoch, val_loss)\n",
        "  plt.xlabel('Epoch')\n",
        "  plt.ylabel('Loss')\n",
        "  plt.legend(['train set', 'validation set'], loc='upper right')\n",
        "  plt.title('Loss vs Epoch')\n",
        "\n",
        "  plt.show()"
      ],
      "execution_count": null,
      "outputs": []
    },
    {
      "cell_type": "code",
      "metadata": {
        "id": "k8Bt0ufDdQs1",
        "colab": {
          "base_uri": "https://localhost:8080/",
          "height": 621
        },
        "outputId": "904e6c6c-5eab-4490-98df-86db32e32b00"
      },
      "source": [
        "accuracy_loss_plot(train_model)"
      ],
      "execution_count": null,
      "outputs": [
        {
          "output_type": "display_data",
          "data": {
            "image/png": "[encoded data removed]",
            "text/plain": [
              "<Figure size 864x720 with 4 Axes>"
            ]
          },
          "metadata": {
            "tags": [],
            "needs_background": "light"
          }
        }
      ]
    },
    {
      "cell_type": "code",
      "metadata": {
        "id": "UU74Eyzue1cA"
      },
      "source": [
        "# y_test1 = np.argmax(y_test, axis=-1)"
      ],
      "execution_count": null,
      "outputs": []
    },
    {
      "cell_type": "code",
      "metadata": {
        "id": "pDaxMzk9eT6w",
        "colab": {
          "base_uri": "https://localhost:8080/"
        },
        "outputId": "99ff7048-86ed-47e0-d1ed-90a59ad59465"
      },
      "source": [
        "from sklearn.metrics import classification_report\n",
        "\n",
        "target_names = [\" {}:\".format(i)  for i in ['Resolved', 'Not Resolved', 'Fatal']]\n",
        "print(classification_report(y_pred, y_test, target_names=target_names))"
      ],
      "execution_count": null,
      "outputs": [
        {
          "output_type": "stream",
          "text": [
            "                precision    recall  f1-score   support\n",
            "\n",
            "     Resolved:       0.86      0.94      0.90       450\n",
            " Not Resolved:       0.97      0.95      0.96       502\n",
            "        Fatal:       0.93      0.87      0.90       533\n",
            "\n",
            "      accuracy                           0.92      1485\n",
            "     macro avg       0.92      0.92      0.92      1485\n",
            "  weighted avg       0.92      0.92      0.92      1485\n",
            "\n"
          ],
          "name": "stdout"
        }
      ]
    },
    {
      "cell_type": "code",
      "metadata": {
        "colab": {
          "base_uri": "https://localhost:8080/"
        },
        "id": "CEPPVsuXiE1D",
        "outputId": "af12decb-eded-437d-ff79-bb7a93ff9270"
      },
      "source": [
        "model.summary()"
      ],
      "execution_count": null,
      "outputs": [
        {
          "output_type": "stream",
          "text": [
            "Model: \"sequential\"\n",
            "_________________________________________________________________\n",
            "Layer (type)                 Output Shape              Param #   \n",
            "=================================================================\n",
            "dense (Dense)                (None, 32)                1600      \n",
            "_________________________________________________________________\n",
            "dense_1 (Dense)              (None, 32)                1056      \n",
            "_________________________________________________________________\n",
            "dense_2 (Dense)              (None, 32)                1056      \n",
            "_________________________________________________________________\n",
            "dense_3 (Dense)              (None, 16)                528       \n",
            "_________________________________________________________________\n",
            "dense_4 (Dense)              (None, 3)                 51        \n",
            "=================================================================\n",
            "Total params: 4,291\n",
            "Trainable params: 4,291\n",
            "Non-trainable params: 0\n",
            "_________________________________________________________________\n"
          ],
          "name": "stdout"
        }
      ]
    },
    {
      "cell_type": "markdown",
      "metadata": {
        "id": "izCN7CPt7Cbm"
      },
      "source": [
        "## MODEL1 - DNN (DEEPER- MORE HIDDEN LAYERS)"
      ]
    },
    {
      "cell_type": "code",
      "metadata": {
        "id": "9-hbdxNE6lhL"
      },
      "source": [
        "# Deep Neural network\n",
        "model1 = Sequential()\n",
        "model1.add(Dense(32, activation=activations.relu))\n",
        "model1.add(Dense(32, activation=activations.relu))\n",
        "model1.add(Dense(32, activation=activations.relu))\n",
        "model1.add(Dense(32, activation=activations.relu))\n",
        "model1.add(Dense(32, activation=activations.relu))\n",
        "model1.add(Dense(16, activation=activations.relu))\n",
        "model1.add(Dense(3, activation=activations.softmax))\n",
        "\n",
        "model1.compile(loss='sparse_categorical_crossentropy',\n",
        "               optimizer=Adam(learning_rate=0.001), metrics=['accuracy'])"
      ],
      "execution_count": null,
      "outputs": []
    },
    {
      "cell_type": "code",
      "metadata": {
        "id": "-OKWVo1h7AZ6",
        "colab": {
          "base_uri": "https://localhost:8080/"
        },
        "outputId": "87bcc169-da23-4ded-84c0-92c922be8e83"
      },
      "source": [
        "# Train the the model\n",
        "start_time = time.time()\n",
        "train_model1 = model1.fit(X_train, y_train, batch_size=BATCH_SIZE, epochs=EPOCHS, verbose=1, validation_data=(X_val, y_val), shuffle=True)\n",
        "end_time = time.time()\n",
        "print(\"Total training time : {:0.2f} minute\".format((end_time - start_time)/60.0))"
      ],
      "execution_count": null,
      "outputs": [
        {
          "output_type": "stream",
          "text": [
            "Epoch 1/50\n",
            "186/186 [==============================] - 1s 3ms/step - loss: 1.0153 - accuracy: 0.4326 - val_loss: 0.5063 - val_accuracy: 0.8035\n",
            "Epoch 2/50\n",
            "186/186 [==============================] - 0s 2ms/step - loss: 0.4430 - accuracy: 0.8338 - val_loss: 0.3370 - val_accuracy: 0.8903\n",
            "Epoch 3/50\n",
            "186/186 [==============================] - 0s 2ms/step - loss: 0.3425 - accuracy: 0.8741 - val_loss: 0.3103 - val_accuracy: 0.8876\n",
            "Epoch 4/50\n",
            "186/186 [==============================] - 0s 2ms/step - loss: 0.3237 - accuracy: 0.8788 - val_loss: 0.2918 - val_accuracy: 0.8984\n",
            "Epoch 5/50\n",
            "186/186 [==============================] - 0s 2ms/step - loss: 0.2942 - accuracy: 0.8912 - val_loss: 0.3177 - val_accuracy: 0.8856\n",
            "Epoch 6/50\n",
            "186/186 [==============================] - 0s 2ms/step - loss: 0.3054 - accuracy: 0.8893 - val_loss: 0.2753 - val_accuracy: 0.9105\n",
            "Epoch 7/50\n",
            "186/186 [==============================] - 0s 2ms/step - loss: 0.2760 - accuracy: 0.8990 - val_loss: 0.2721 - val_accuracy: 0.9011\n",
            "Epoch 8/50\n",
            "186/186 [==============================] - 0s 2ms/step - loss: 0.2842 - accuracy: 0.8966 - val_loss: 0.2611 - val_accuracy: 0.9085\n",
            "Epoch 9/50\n",
            "186/186 [==============================] - 0s 2ms/step - loss: 0.2585 - accuracy: 0.9090 - val_loss: 0.2812 - val_accuracy: 0.9024\n",
            "Epoch 10/50\n",
            "186/186 [==============================] - 0s 2ms/step - loss: 0.2601 - accuracy: 0.9097 - val_loss: 0.2831 - val_accuracy: 0.8970\n",
            "Epoch 11/50\n",
            "186/186 [==============================] - 0s 2ms/step - loss: 0.2650 - accuracy: 0.9057 - val_loss: 0.2774 - val_accuracy: 0.9065\n",
            "Epoch 12/50\n",
            "186/186 [==============================] - 0s 2ms/step - loss: 0.2700 - accuracy: 0.9006 - val_loss: 0.3272 - val_accuracy: 0.8890\n",
            "Epoch 13/50\n",
            "186/186 [==============================] - 0s 2ms/step - loss: 0.2656 - accuracy: 0.8996 - val_loss: 0.2610 - val_accuracy: 0.9011\n",
            "Epoch 14/50\n",
            "186/186 [==============================] - 0s 2ms/step - loss: 0.2654 - accuracy: 0.9032 - val_loss: 0.2468 - val_accuracy: 0.9118\n",
            "Epoch 15/50\n",
            "186/186 [==============================] - 0s 2ms/step - loss: 0.2644 - accuracy: 0.9044 - val_loss: 0.2552 - val_accuracy: 0.9098\n",
            "Epoch 16/50\n",
            "186/186 [==============================] - 0s 2ms/step - loss: 0.2592 - accuracy: 0.9053 - val_loss: 0.2884 - val_accuracy: 0.8964\n",
            "Epoch 17/50\n",
            "186/186 [==============================] - 0s 2ms/step - loss: 0.2647 - accuracy: 0.9040 - val_loss: 0.2435 - val_accuracy: 0.9118\n",
            "Epoch 18/50\n",
            "186/186 [==============================] - 0s 2ms/step - loss: 0.2520 - accuracy: 0.9128 - val_loss: 0.2592 - val_accuracy: 0.9058\n",
            "Epoch 19/50\n",
            "186/186 [==============================] - 0s 2ms/step - loss: 0.2572 - accuracy: 0.9082 - val_loss: 0.2587 - val_accuracy: 0.9038\n",
            "Epoch 20/50\n",
            "186/186 [==============================] - 0s 2ms/step - loss: 0.2488 - accuracy: 0.9076 - val_loss: 0.2623 - val_accuracy: 0.9071\n",
            "Epoch 21/50\n",
            "186/186 [==============================] - 0s 2ms/step - loss: 0.2543 - accuracy: 0.9071 - val_loss: 0.2528 - val_accuracy: 0.9098\n",
            "Epoch 22/50\n",
            "186/186 [==============================] - 0s 2ms/step - loss: 0.2545 - accuracy: 0.9089 - val_loss: 0.2500 - val_accuracy: 0.9071\n",
            "Epoch 23/50\n",
            "186/186 [==============================] - 0s 2ms/step - loss: 0.2489 - accuracy: 0.9111 - val_loss: 0.2749 - val_accuracy: 0.8997\n",
            "Epoch 24/50\n",
            "186/186 [==============================] - 0s 2ms/step - loss: 0.2598 - accuracy: 0.9037 - val_loss: 0.2518 - val_accuracy: 0.9152\n",
            "Epoch 25/50\n",
            "186/186 [==============================] - 0s 2ms/step - loss: 0.2576 - accuracy: 0.9095 - val_loss: 0.2571 - val_accuracy: 0.9044\n",
            "Epoch 26/50\n",
            "186/186 [==============================] - 0s 2ms/step - loss: 0.2492 - accuracy: 0.9112 - val_loss: 0.2750 - val_accuracy: 0.9024\n",
            "Epoch 27/50\n",
            "186/186 [==============================] - 0s 2ms/step - loss: 0.2492 - accuracy: 0.9114 - val_loss: 0.2721 - val_accuracy: 0.8991\n",
            "Epoch 28/50\n",
            "186/186 [==============================] - 0s 2ms/step - loss: 0.2526 - accuracy: 0.9125 - val_loss: 0.2584 - val_accuracy: 0.9098\n",
            "Epoch 29/50\n",
            "186/186 [==============================] - 0s 2ms/step - loss: 0.2548 - accuracy: 0.9065 - val_loss: 0.2482 - val_accuracy: 0.9118\n",
            "Epoch 30/50\n",
            "186/186 [==============================] - 0s 2ms/step - loss: 0.2536 - accuracy: 0.9104 - val_loss: 0.2487 - val_accuracy: 0.9078\n",
            "Epoch 31/50\n",
            "186/186 [==============================] - 0s 2ms/step - loss: 0.2536 - accuracy: 0.9091 - val_loss: 0.3365 - val_accuracy: 0.8849\n",
            "Epoch 32/50\n",
            "186/186 [==============================] - 0s 2ms/step - loss: 0.2514 - accuracy: 0.9093 - val_loss: 0.2729 - val_accuracy: 0.9024\n",
            "Epoch 33/50\n",
            "186/186 [==============================] - 0s 2ms/step - loss: 0.2515 - accuracy: 0.9124 - val_loss: 0.2510 - val_accuracy: 0.9044\n",
            "Epoch 34/50\n",
            "186/186 [==============================] - 0s 2ms/step - loss: 0.2432 - accuracy: 0.9124 - val_loss: 0.2657 - val_accuracy: 0.9058\n",
            "Epoch 35/50\n",
            "186/186 [==============================] - 0s 2ms/step - loss: 0.2569 - accuracy: 0.9095 - val_loss: 0.2635 - val_accuracy: 0.9004\n",
            "Epoch 36/50\n",
            "186/186 [==============================] - 0s 2ms/step - loss: 0.2421 - accuracy: 0.9133 - val_loss: 0.2855 - val_accuracy: 0.8964\n",
            "Epoch 37/50\n",
            "186/186 [==============================] - 0s 2ms/step - loss: 0.2451 - accuracy: 0.9122 - val_loss: 0.2817 - val_accuracy: 0.8997\n",
            "Epoch 38/50\n",
            "186/186 [==============================] - 0s 2ms/step - loss: 0.2411 - accuracy: 0.9115 - val_loss: 0.2707 - val_accuracy: 0.9031\n",
            "Epoch 39/50\n",
            "186/186 [==============================] - 0s 2ms/step - loss: 0.2496 - accuracy: 0.9101 - val_loss: 0.2484 - val_accuracy: 0.9125\n",
            "Epoch 40/50\n",
            "186/186 [==============================] - 0s 2ms/step - loss: 0.2468 - accuracy: 0.9107 - val_loss: 0.2596 - val_accuracy: 0.9078\n",
            "Epoch 41/50\n",
            "186/186 [==============================] - 0s 2ms/step - loss: 0.2528 - accuracy: 0.9121 - val_loss: 0.2598 - val_accuracy: 0.9051\n",
            "Epoch 42/50\n",
            "186/186 [==============================] - 0s 2ms/step - loss: 0.2350 - accuracy: 0.9149 - val_loss: 0.2483 - val_accuracy: 0.9152\n",
            "Epoch 43/50\n",
            "186/186 [==============================] - 0s 2ms/step - loss: 0.2371 - accuracy: 0.9163 - val_loss: 0.2489 - val_accuracy: 0.9118\n",
            "Epoch 44/50\n",
            "186/186 [==============================] - 0s 2ms/step - loss: 0.2434 - accuracy: 0.9116 - val_loss: 0.2535 - val_accuracy: 0.9125\n",
            "Epoch 45/50\n",
            "186/186 [==============================] - 0s 2ms/step - loss: 0.2356 - accuracy: 0.9165 - val_loss: 0.2423 - val_accuracy: 0.9186\n",
            "Epoch 46/50\n",
            "186/186 [==============================] - 0s 2ms/step - loss: 0.2452 - accuracy: 0.9124 - val_loss: 0.2411 - val_accuracy: 0.9159\n",
            "Epoch 47/50\n",
            "186/186 [==============================] - 0s 2ms/step - loss: 0.2284 - accuracy: 0.9218 - val_loss: 0.2444 - val_accuracy: 0.9166\n",
            "Epoch 48/50\n",
            "186/186 [==============================] - 0s 2ms/step - loss: 0.2339 - accuracy: 0.9164 - val_loss: 0.2481 - val_accuracy: 0.9112\n",
            "Epoch 49/50\n",
            "186/186 [==============================] - 0s 2ms/step - loss: 0.2315 - accuracy: 0.9184 - val_loss: 0.2430 - val_accuracy: 0.9145\n",
            "Epoch 50/50\n",
            "186/186 [==============================] - 0s 2ms/step - loss: 0.2423 - accuracy: 0.9125 - val_loss: 0.2873 - val_accuracy: 0.8964\n",
            "Total training time : 0.37 minute\n"
          ],
          "name": "stdout"
        }
      ]
    },
    {
      "cell_type": "code",
      "metadata": {
        "id": "N8IiIQQq7Kbc",
        "colab": {
          "base_uri": "https://localhost:8080/"
        },
        "outputId": "523dc948-769f-493e-9812-d5a4fe27372c"
      },
      "source": [
        "score = model1.evaluate(X_train, y_train, verbose=0)\n",
        "print('Train accuracy:', score[1])\n",
        "print('Train loss:', score[0])"
      ],
      "execution_count": null,
      "outputs": [
        {
          "output_type": "stream",
          "text": [
            "Train accuracy: 0.9059239029884338\n",
            "Train loss: 0.27192944288253784\n"
          ],
          "name": "stdout"
        }
      ]
    },
    {
      "cell_type": "code",
      "metadata": {
        "colab": {
          "base_uri": "https://localhost:8080/"
        },
        "id": "UpOS9brIn_f6",
        "outputId": "4dbecf80-113f-4a1a-e08b-eba8bca1c45b"
      },
      "source": [
        "score = model1.evaluate(X_val, y_val, verbose=0)\n",
        "print('Val accuracy:', score[1])\n",
        "print('Val loss:', score[0])"
      ],
      "execution_count": null,
      "outputs": [
        {
          "output_type": "stream",
          "text": [
            "Train accuracy: 0.8963660597801208\n",
            "Train loss: 0.28734299540519714\n"
          ],
          "name": "stdout"
        }
      ]
    },
    {
      "cell_type": "code",
      "metadata": {
        "id": "EYX6dBm57W3M",
        "colab": {
          "base_uri": "https://localhost:8080/"
        },
        "outputId": "19a91d69-1977-49f5-ecb4-5e522ee8aaee"
      },
      "source": [
        "%%time\n",
        "y_pred = np.argmax(model1.predict(X_test), axis=-1)"
      ],
      "execution_count": null,
      "outputs": [
        {
          "output_type": "stream",
          "text": [
            "CPU times: user 181 ms, sys: 6.9 ms, total: 188 ms\n",
            "Wall time: 184 ms\n"
          ],
          "name": "stdout"
        }
      ]
    },
    {
      "cell_type": "code",
      "metadata": {
        "id": "EQT4KD_R7cu_",
        "colab": {
          "base_uri": "https://localhost:8080/"
        },
        "outputId": "fde587c6-8780-4f3d-f3cc-f75f35828cf1"
      },
      "source": [
        "%%time\n",
        "score = model1.evaluate(X_test, y_test, verbose=0)\n",
        "print('Test accuracy:', score[1])\n",
        "print('Test loss:', score[0])"
      ],
      "execution_count": null,
      "outputs": [
        {
          "output_type": "stream",
          "text": [
            "Test accuracy: 0.9043771028518677\n",
            "Test loss: 0.27723628282546997\n",
            "CPU times: user 155 ms, sys: 8.67 ms, total: 163 ms\n",
            "Wall time: 162 ms\n"
          ],
          "name": "stdout"
        }
      ]
    },
    {
      "cell_type": "code",
      "metadata": {
        "id": "jkQ11ehX7iJZ",
        "colab": {
          "base_uri": "https://localhost:8080/",
          "height": 621
        },
        "outputId": "9c84c07d-9b88-4c5e-c4b1-8004f4ed1940"
      },
      "source": [
        "accuracy_loss_plot(train_model1)"
      ],
      "execution_count": null,
      "outputs": [
        {
          "output_type": "display_data",
          "data": {
            "image/png": "[encoded data removed]",
            "text/plain": [
              "<Figure size 864x720 with 4 Axes>"
            ]
          },
          "metadata": {
            "tags": [],
            "needs_background": "light"
          }
        }
      ]
    },
    {
      "cell_type": "code",
      "metadata": {
        "id": "-rkz07Nc7kgR"
      },
      "source": [
        "# y_test2 = np.argmax(y_test, axis=-1)"
      ],
      "execution_count": null,
      "outputs": []
    },
    {
      "cell_type": "code",
      "metadata": {
        "id": "RmqccieI7vm0",
        "colab": {
          "base_uri": "https://localhost:8080/"
        },
        "outputId": "100b0e77-2124-4482-d03e-1a01c73a389c"
      },
      "source": [
        "from sklearn.metrics import classification_report\n",
        "\n",
        "target_names = [\" {}:\".format(i)  for i in ['Resolved', 'Not Resolved', 'Fatal']]\n",
        "print(classification_report(y_pred, y_test, target_names=target_names))"
      ],
      "execution_count": null,
      "outputs": [
        {
          "output_type": "stream",
          "text": [
            "                precision    recall  f1-score   support\n",
            "\n",
            "     Resolved:       0.84      0.93      0.88       442\n",
            " Not Resolved:       0.99      0.89      0.93       553\n",
            "        Fatal:       0.89      0.90      0.89       490\n",
            "\n",
            "      accuracy                           0.90      1485\n",
            "     macro avg       0.90      0.91      0.90      1485\n",
            "  weighted avg       0.91      0.90      0.91      1485\n",
            "\n"
          ],
          "name": "stdout"
        }
      ]
    },
    {
      "cell_type": "code",
      "metadata": {
        "colab": {
          "base_uri": "https://localhost:8080/"
        },
        "id": "I7PMpxqZrPhV",
        "outputId": "97922534-e328-45be-9542-92bcffdfcee6"
      },
      "source": [
        "model1.summary()"
      ],
      "execution_count": null,
      "outputs": [
        {
          "output_type": "stream",
          "text": [
            "Model: \"sequential_1\"\n",
            "_________________________________________________________________\n",
            "Layer (type)                 Output Shape              Param #   \n",
            "=================================================================\n",
            "dense_5 (Dense)              (None, 32)                1600      \n",
            "_________________________________________________________________\n",
            "dense_6 (Dense)              (None, 32)                1056      \n",
            "_________________________________________________________________\n",
            "dense_7 (Dense)              (None, 32)                1056      \n",
            "_________________________________________________________________\n",
            "dense_8 (Dense)              (None, 32)                1056      \n",
            "_________________________________________________________________\n",
            "dense_9 (Dense)              (None, 32)                1056      \n",
            "_________________________________________________________________\n",
            "dense_10 (Dense)             (None, 16)                528       \n",
            "_________________________________________________________________\n",
            "dense_11 (Dense)             (None, 3)                 51        \n",
            "=================================================================\n",
            "Total params: 6,403\n",
            "Trainable params: 6,403\n",
            "Non-trainable params: 0\n",
            "_________________________________________________________________\n"
          ],
          "name": "stdout"
        }
      ]
    },
    {
      "cell_type": "markdown",
      "metadata": {
        "id": "pIlykM6DkPKV"
      },
      "source": [
        "## Model2 - DROPOUT & BATCH NORMALIZATION"
      ]
    },
    {
      "cell_type": "code",
      "metadata": {
        "id": "iFsP09yKiM08"
      },
      "source": [
        "from tensorflow.keras.layers import Dropout\n",
        "from tensorflow.keras.layers import BatchNormalization\n",
        "\n",
        "# Model\n",
        "model2 = Sequential()\n",
        "model2.add(Dense(32, activation=activations.relu))\n",
        "model2.add(BatchNormalization())\n",
        "model2.add(Dropout(0.2))\n",
        "model2.add(Dense(32, activation=activations.relu))\n",
        "model2.add(BatchNormalization())\n",
        "model2.add(Dropout(0.3))\n",
        "model2.add(Dense(32, activation=activations.relu))\n",
        "model2.add(BatchNormalization())\n",
        "model2.add(Dropout(0.3))\n",
        "model2.add(Dense(16, activation=activations.relu))\n",
        "model2.add(BatchNormalization())\n",
        "model2.add(Dropout(0.2))\n",
        "model2.add(Dense(3, activation=activations.softmax))\n",
        "\n",
        "model2.compile(loss='sparse_categorical_crossentropy',\n",
        "               optimizer=Adam(learning_rate=0.001), metrics=['accuracy'])"
      ],
      "execution_count": null,
      "outputs": []
    },
    {
      "cell_type": "code",
      "metadata": {
        "id": "7iuXbcAHirQS",
        "colab": {
          "base_uri": "https://localhost:8080/"
        },
        "outputId": "8e15200c-806b-4071-dfd8-07d77e422065"
      },
      "source": [
        "# Train the the model\n",
        "start_time = time.time()\n",
        "train_model2 = model2.fit(X_train, y_train, batch_size=BATCH_SIZE, \n",
        "                          epochs=EPOCHS, verbose=1, validation_data=(X_val, y_val),\n",
        "                          shuffle=True)\n",
        "end_time = time.time()\n",
        "print(\"Total training time : {:0.2f} minute\".format((end_time - start_time)/60.0))"
      ],
      "execution_count": null,
      "outputs": [
        {
          "output_type": "stream",
          "text": [
            "Epoch 1/50\n",
            "186/186 [==============================] - 2s 5ms/step - loss: 1.0772 - accuracy: 0.5058 - val_loss: 0.7862 - val_accuracy: 0.6783\n",
            "Epoch 2/50\n",
            "186/186 [==============================] - 1s 3ms/step - loss: 0.7568 - accuracy: 0.6562 - val_loss: 0.5043 - val_accuracy: 0.8190\n",
            "Epoch 3/50\n",
            "186/186 [==============================] - 1s 3ms/step - loss: 0.5590 - accuracy: 0.7929 - val_loss: 0.3283 - val_accuracy: 0.8950\n",
            "Epoch 4/50\n",
            "186/186 [==============================] - 1s 3ms/step - loss: 0.4678 - accuracy: 0.8296 - val_loss: 0.2882 - val_accuracy: 0.8997\n",
            "Epoch 5/50\n",
            "186/186 [==============================] - 1s 3ms/step - loss: 0.4322 - accuracy: 0.8419 - val_loss: 0.2776 - val_accuracy: 0.9051\n",
            "Epoch 6/50\n",
            "186/186 [==============================] - 1s 3ms/step - loss: 0.3892 - accuracy: 0.8669 - val_loss: 0.2786 - val_accuracy: 0.9024\n",
            "Epoch 7/50\n",
            "186/186 [==============================] - 1s 3ms/step - loss: 0.3727 - accuracy: 0.8705 - val_loss: 0.2654 - val_accuracy: 0.9044\n",
            "Epoch 8/50\n",
            "186/186 [==============================] - 1s 3ms/step - loss: 0.3597 - accuracy: 0.8723 - val_loss: 0.2599 - val_accuracy: 0.9105\n",
            "Epoch 9/50\n",
            "186/186 [==============================] - 1s 3ms/step - loss: 0.3481 - accuracy: 0.8762 - val_loss: 0.2587 - val_accuracy: 0.9065\n",
            "Epoch 10/50\n",
            "186/186 [==============================] - 1s 3ms/step - loss: 0.3346 - accuracy: 0.8810 - val_loss: 0.2538 - val_accuracy: 0.9112\n",
            "Epoch 11/50\n",
            "186/186 [==============================] - 1s 3ms/step - loss: 0.3434 - accuracy: 0.8777 - val_loss: 0.2893 - val_accuracy: 0.8991\n",
            "Epoch 12/50\n",
            "186/186 [==============================] - 1s 3ms/step - loss: 0.3378 - accuracy: 0.8818 - val_loss: 0.2659 - val_accuracy: 0.9065\n",
            "Epoch 13/50\n",
            "186/186 [==============================] - 1s 3ms/step - loss: 0.3228 - accuracy: 0.8948 - val_loss: 0.2490 - val_accuracy: 0.9125\n",
            "Epoch 14/50\n",
            "186/186 [==============================] - 1s 3ms/step - loss: 0.3227 - accuracy: 0.8886 - val_loss: 0.3148 - val_accuracy: 0.8917\n",
            "Epoch 15/50\n",
            "186/186 [==============================] - 1s 3ms/step - loss: 0.3426 - accuracy: 0.8839 - val_loss: 0.2651 - val_accuracy: 0.9071\n",
            "Epoch 16/50\n",
            "186/186 [==============================] - 1s 3ms/step - loss: 0.3122 - accuracy: 0.8944 - val_loss: 0.3205 - val_accuracy: 0.8923\n",
            "Epoch 17/50\n",
            "186/186 [==============================] - 1s 3ms/step - loss: 0.2974 - accuracy: 0.8981 - val_loss: 0.2618 - val_accuracy: 0.9085\n",
            "Epoch 18/50\n",
            "186/186 [==============================] - 1s 3ms/step - loss: 0.3205 - accuracy: 0.8893 - val_loss: 0.2412 - val_accuracy: 0.9179\n",
            "Epoch 19/50\n",
            "186/186 [==============================] - 1s 3ms/step - loss: 0.3084 - accuracy: 0.8949 - val_loss: 0.2862 - val_accuracy: 0.8991\n",
            "Epoch 20/50\n",
            "186/186 [==============================] - 1s 3ms/step - loss: 0.3176 - accuracy: 0.8873 - val_loss: 0.2606 - val_accuracy: 0.9078\n",
            "Epoch 21/50\n",
            "186/186 [==============================] - 1s 3ms/step - loss: 0.3006 - accuracy: 0.8919 - val_loss: 0.2446 - val_accuracy: 0.9152\n",
            "Epoch 22/50\n",
            "186/186 [==============================] - 1s 3ms/step - loss: 0.3035 - accuracy: 0.8950 - val_loss: 0.2411 - val_accuracy: 0.9125\n",
            "Epoch 23/50\n",
            "186/186 [==============================] - 1s 3ms/step - loss: 0.3119 - accuracy: 0.8945 - val_loss: 0.2443 - val_accuracy: 0.9152\n",
            "Epoch 24/50\n",
            "186/186 [==============================] - 1s 3ms/step - loss: 0.3027 - accuracy: 0.8994 - val_loss: 0.2787 - val_accuracy: 0.9011\n",
            "Epoch 25/50\n",
            "186/186 [==============================] - 1s 3ms/step - loss: 0.3135 - accuracy: 0.8905 - val_loss: 0.2478 - val_accuracy: 0.9172\n",
            "Epoch 26/50\n",
            "186/186 [==============================] - 1s 3ms/step - loss: 0.3071 - accuracy: 0.8981 - val_loss: 0.2610 - val_accuracy: 0.9071\n",
            "Epoch 27/50\n",
            "186/186 [==============================] - 1s 3ms/step - loss: 0.3009 - accuracy: 0.8962 - val_loss: 0.2390 - val_accuracy: 0.9132\n",
            "Epoch 28/50\n",
            "186/186 [==============================] - 1s 3ms/step - loss: 0.3019 - accuracy: 0.8965 - val_loss: 0.2499 - val_accuracy: 0.9098\n",
            "Epoch 29/50\n",
            "186/186 [==============================] - 1s 3ms/step - loss: 0.2899 - accuracy: 0.9038 - val_loss: 0.2475 - val_accuracy: 0.9071\n",
            "Epoch 30/50\n",
            "186/186 [==============================] - 1s 3ms/step - loss: 0.2982 - accuracy: 0.8945 - val_loss: 0.2528 - val_accuracy: 0.9105\n",
            "Epoch 31/50\n",
            "186/186 [==============================] - 1s 3ms/step - loss: 0.3053 - accuracy: 0.8966 - val_loss: 0.2383 - val_accuracy: 0.9192\n",
            "Epoch 32/50\n",
            "186/186 [==============================] - 1s 3ms/step - loss: 0.3055 - accuracy: 0.8982 - val_loss: 0.2586 - val_accuracy: 0.9085\n",
            "Epoch 33/50\n",
            "186/186 [==============================] - 1s 3ms/step - loss: 0.2912 - accuracy: 0.9030 - val_loss: 0.2698 - val_accuracy: 0.9038\n",
            "Epoch 34/50\n",
            "186/186 [==============================] - 1s 3ms/step - loss: 0.2875 - accuracy: 0.9018 - val_loss: 0.2787 - val_accuracy: 0.9004\n",
            "Epoch 35/50\n",
            "186/186 [==============================] - 1s 3ms/step - loss: 0.2873 - accuracy: 0.9032 - val_loss: 0.2555 - val_accuracy: 0.9092\n",
            "Epoch 36/50\n",
            "186/186 [==============================] - 1s 3ms/step - loss: 0.3078 - accuracy: 0.8984 - val_loss: 0.2592 - val_accuracy: 0.9071\n",
            "Epoch 37/50\n",
            "186/186 [==============================] - 1s 3ms/step - loss: 0.2949 - accuracy: 0.8980 - val_loss: 0.2866 - val_accuracy: 0.8997\n",
            "Epoch 38/50\n",
            "186/186 [==============================] - 1s 3ms/step - loss: 0.2901 - accuracy: 0.8998 - val_loss: 0.2451 - val_accuracy: 0.9186\n",
            "Epoch 39/50\n",
            "186/186 [==============================] - 1s 3ms/step - loss: 0.2915 - accuracy: 0.8983 - val_loss: 0.2622 - val_accuracy: 0.9071\n",
            "Epoch 40/50\n",
            "186/186 [==============================] - 1s 3ms/step - loss: 0.3069 - accuracy: 0.8927 - val_loss: 0.2389 - val_accuracy: 0.9159\n",
            "Epoch 41/50\n",
            "186/186 [==============================] - 1s 3ms/step - loss: 0.3125 - accuracy: 0.8907 - val_loss: 0.2506 - val_accuracy: 0.9118\n",
            "Epoch 42/50\n",
            "186/186 [==============================] - 1s 3ms/step - loss: 0.2987 - accuracy: 0.8981 - val_loss: 0.2651 - val_accuracy: 0.9038\n",
            "Epoch 43/50\n",
            "186/186 [==============================] - 1s 3ms/step - loss: 0.2944 - accuracy: 0.8998 - val_loss: 0.2710 - val_accuracy: 0.9017\n",
            "Epoch 44/50\n",
            "186/186 [==============================] - 1s 3ms/step - loss: 0.2982 - accuracy: 0.9015 - val_loss: 0.2527 - val_accuracy: 0.9125\n",
            "Epoch 45/50\n",
            "186/186 [==============================] - 1s 3ms/step - loss: 0.2972 - accuracy: 0.9024 - val_loss: 0.2548 - val_accuracy: 0.9044\n",
            "Epoch 46/50\n",
            "186/186 [==============================] - 1s 3ms/step - loss: 0.2917 - accuracy: 0.9034 - val_loss: 0.2426 - val_accuracy: 0.9139\n",
            "Epoch 47/50\n",
            "186/186 [==============================] - 1s 3ms/step - loss: 0.2980 - accuracy: 0.9006 - val_loss: 0.2393 - val_accuracy: 0.9152\n",
            "Epoch 48/50\n",
            "186/186 [==============================] - 1s 3ms/step - loss: 0.2843 - accuracy: 0.9041 - val_loss: 0.2439 - val_accuracy: 0.9145\n",
            "Epoch 49/50\n",
            "186/186 [==============================] - 1s 3ms/step - loss: 0.2913 - accuracy: 0.8984 - val_loss: 0.2562 - val_accuracy: 0.9105\n",
            "Epoch 50/50\n",
            "186/186 [==============================] - 1s 3ms/step - loss: 0.2893 - accuracy: 0.9008 - val_loss: 0.2448 - val_accuracy: 0.9118\n",
            "Total training time : 0.50 minute\n"
          ],
          "name": "stdout"
        }
      ]
    },
    {
      "cell_type": "code",
      "metadata": {
        "id": "iG3MFfEti8eC",
        "colab": {
          "base_uri": "https://localhost:8080/"
        },
        "outputId": "b15f35b1-6be6-4ebb-94a1-3a566c64ee15"
      },
      "source": [
        "score = model2.evaluate(X_train, y_train, verbose=0)\n",
        "print('Train accuracy:', score[1])\n",
        "print('Train loss:', score[0])"
      ],
      "execution_count": null,
      "outputs": [
        {
          "output_type": "stream",
          "text": [
            "Train accuracy: 0.9116458892822266\n",
            "Train loss: 0.24532747268676758\n"
          ],
          "name": "stdout"
        }
      ]
    },
    {
      "cell_type": "code",
      "metadata": {
        "colab": {
          "base_uri": "https://localhost:8080/"
        },
        "id": "FGA1MpRloCSy",
        "outputId": "dda08aee-27ad-4bf6-c84b-f4ed5a191f79"
      },
      "source": [
        "score = model2.evaluate(X_val, y_val, verbose=0)\n",
        "print('Val accuracy:', score[1])\n",
        "print('Val loss:', score[0])"
      ],
      "execution_count": null,
      "outputs": [
        {
          "output_type": "stream",
          "text": [
            "Train accuracy: 0.9118438959121704\n",
            "Train loss: 0.24480681121349335\n"
          ],
          "name": "stdout"
        }
      ]
    },
    {
      "cell_type": "code",
      "metadata": {
        "id": "ngh0S2bhjjwh",
        "colab": {
          "base_uri": "https://localhost:8080/"
        },
        "outputId": "15f47ab9-b30d-428a-a2ea-f16bd6c1c3ce"
      },
      "source": [
        "%%time\n",
        "y_pred = np.argmax(model2.predict(X_test), axis=-1)"
      ],
      "execution_count": null,
      "outputs": [
        {
          "output_type": "stream",
          "text": [
            "CPU times: user 304 ms, sys: 8.16 ms, total: 313 ms\n",
            "Wall time: 301 ms\n"
          ],
          "name": "stdout"
        }
      ]
    },
    {
      "cell_type": "code",
      "metadata": {
        "id": "YG3ETlJPjKiD",
        "colab": {
          "base_uri": "https://localhost:8080/"
        },
        "outputId": "0b8e1b4e-6a0a-4894-fee4-ad226ca7b136"
      },
      "source": [
        "%%time\n",
        "score = model2.evaluate(X_test, y_test, verbose=0)\n",
        "print('Test accuracy:', score[1])\n",
        "print('Test loss:', score[0])"
      ],
      "execution_count": null,
      "outputs": [
        {
          "output_type": "stream",
          "text": [
            "Test accuracy: 0.9191918969154358\n",
            "Test loss: 0.23249362409114838\n",
            "CPU times: user 153 ms, sys: 1.74 ms, total: 154 ms\n",
            "Wall time: 141 ms\n"
          ],
          "name": "stdout"
        }
      ]
    },
    {
      "cell_type": "code",
      "metadata": {
        "id": "QnyACRKajc_a",
        "colab": {
          "base_uri": "https://localhost:8080/",
          "height": 621
        },
        "outputId": "f4632daf-9314-43a2-a36d-5ae4a1317c2c"
      },
      "source": [
        "accuracy_loss_plot(train_model2)"
      ],
      "execution_count": null,
      "outputs": [
        {
          "output_type": "display_data",
          "data": {
            "image/png": "[encoded data removed]",
            "text/plain": [
              "<Figure size 864x720 with 4 Axes>"
            ]
          },
          "metadata": {
            "tags": [],
            "needs_background": "light"
          }
        }
      ]
    },
    {
      "cell_type": "code",
      "metadata": {
        "id": "WYn2ct75j5MK"
      },
      "source": [
        "# y_test3 = np.argmax(y_test, axis=-1)"
      ],
      "execution_count": null,
      "outputs": []
    },
    {
      "cell_type": "code",
      "metadata": {
        "id": "MEOdr_TTjt3X",
        "colab": {
          "base_uri": "https://localhost:8080/"
        },
        "outputId": "ab7829c9-64ef-428a-d30a-d3e81470e1be"
      },
      "source": [
        "from sklearn.metrics import classification_report\n",
        "\n",
        "target_names = [\" {}:\".format(i)  for i in ['Resolved', 'Not Resolved', 'Fatal']]\n",
        "print(classification_report(y_pred, y_test, target_names=target_names))"
      ],
      "execution_count": null,
      "outputs": [
        {
          "output_type": "stream",
          "text": [
            "                precision    recall  f1-score   support\n",
            "\n",
            "     Resolved:       0.86      0.94      0.90       451\n",
            " Not Resolved:       0.97      0.96      0.96       504\n",
            "        Fatal:       0.93      0.87      0.90       530\n",
            "\n",
            "      accuracy                           0.92      1485\n",
            "     macro avg       0.92      0.92      0.92      1485\n",
            "  weighted avg       0.92      0.92      0.92      1485\n",
            "\n"
          ],
          "name": "stdout"
        }
      ]
    },
    {
      "cell_type": "code",
      "metadata": {
        "colab": {
          "base_uri": "https://localhost:8080/"
        },
        "id": "IkJ6qBkFrxlo",
        "outputId": "d2d7229d-b18e-4da0-bb9e-1f9cf0bda9be"
      },
      "source": [
        "model2.summary()"
      ],
      "execution_count": null,
      "outputs": [
        {
          "output_type": "stream",
          "text": [
            "Model: \"sequential_2\"\n",
            "_________________________________________________________________\n",
            "Layer (type)                 Output Shape              Param #   \n",
            "=================================================================\n",
            "dense_12 (Dense)             (None, 32)                1600      \n",
            "_________________________________________________________________\n",
            "batch_normalization (BatchNo (None, 32)                128       \n",
            "_________________________________________________________________\n",
            "dropout (Dropout)            (None, 32)                0         \n",
            "_________________________________________________________________\n",
            "dense_13 (Dense)             (None, 32)                1056      \n",
            "_________________________________________________________________\n",
            "batch_normalization_1 (Batch (None, 32)                128       \n",
            "_________________________________________________________________\n",
            "dropout_1 (Dropout)          (None, 32)                0         \n",
            "_________________________________________________________________\n",
            "dense_14 (Dense)             (None, 32)                1056      \n",
            "_________________________________________________________________\n",
            "batch_normalization_2 (Batch (None, 32)                128       \n",
            "_________________________________________________________________\n",
            "dropout_2 (Dropout)          (None, 32)                0         \n",
            "_________________________________________________________________\n",
            "dense_15 (Dense)             (None, 16)                528       \n",
            "_________________________________________________________________\n",
            "batch_normalization_3 (Batch (None, 16)                64        \n",
            "_________________________________________________________________\n",
            "dropout_3 (Dropout)          (None, 16)                0         \n",
            "_________________________________________________________________\n",
            "dense_16 (Dense)             (None, 3)                 51        \n",
            "=================================================================\n",
            "Total params: 4,739\n",
            "Trainable params: 4,515\n",
            "Non-trainable params: 224\n",
            "_________________________________________________________________\n"
          ],
          "name": "stdout"
        }
      ]
    },
    {
      "cell_type": "markdown",
      "metadata": {
        "id": "mL5fsxNGjj98"
      },
      "source": [
        "## Model3 - Simple RNN "
      ]
    },
    {
      "cell_type": "code",
      "metadata": {
        "id": "jO0WEni_kTOx"
      },
      "source": [
        "# Reshaping X_train, X_val and X_test for efficient modelling\n",
        "X_train = np.expand_dims(X_train, 1)\n",
        "X_val = np.expand_dims(X_val, 1)\n",
        "X_test = np.expand_dims(X_test, 1)"
      ],
      "execution_count": null,
      "outputs": []
    },
    {
      "cell_type": "code",
      "metadata": {
        "id": "NQvimyVFkWN_"
      },
      "source": [
        "from tensorflow.keras.layers import SimpleRNN\n",
        "\n",
        "# Recurrent Neural network\n",
        "model3 = Sequential()\n",
        "\n",
        "# First SimpleRNN layer \n",
        "model3.add(SimpleRNN(32, return_sequences=True, activation=activations.tanh, \n",
        "                     use_bias=True))\n",
        "model3.add(Dropout(0.2))\n",
        "model3.add(BatchNormalization())\n",
        "# Second SimpleRNN layer\n",
        "model3.add(SimpleRNN(32, return_sequences=True, activation=activations.tanh))\n",
        "model3.add(Dropout(0.3))\n",
        "model3.add(BatchNormalization())\n",
        "# Third SimpleRNN layer\n",
        "model3.add(SimpleRNN(32, return_sequences=True, activation=activations.tanh))\n",
        "model3.add(Dropout(0.3))\n",
        "model3.add(BatchNormalization())\n",
        "# Fourth SimpleRNN layer\n",
        "model3.add(SimpleRNN(16, activation=activations.tanh))\n",
        "model3.add(Dropout(0.2))\n",
        "model3.add(BatchNormalization())\n",
        "# The output layer\n",
        "model3.add(Dense(3, activation=activations.softmax))\n",
        "\n",
        "model3.compile(loss='sparse_categorical_crossentropy',\n",
        "               optimizer=Adam(learning_rate=0.001), metrics=['accuracy'])"
      ],
      "execution_count": null,
      "outputs": []
    },
    {
      "cell_type": "code",
      "metadata": {
        "id": "00Fp2wxMk2GL",
        "colab": {
          "base_uri": "https://localhost:8080/"
        },
        "outputId": "ba2c2ed9-cb26-4173-8acc-00b5c58bbaef"
      },
      "source": [
        "# Train the the model\n",
        "start_time = time.time()\n",
        "train_model3 = model3.fit(X_train, y_train, batch_size=BATCH_SIZE, epochs=EPOCHS, verbose=1, validation_data=(X_val, y_val), shuffle=True)\n",
        "end_time = time.time()\n",
        "print(\"Total training time : {:0.2f} minute\".format((end_time - start_time)/60.0))"
      ],
      "execution_count": null,
      "outputs": [
        {
          "output_type": "stream",
          "text": [
            "Epoch 1/50\n",
            "186/186 [==============================] - 6s 8ms/step - loss: 1.1914 - accuracy: 0.4143 - val_loss: 0.6388 - val_accuracy: 0.7194\n",
            "Epoch 2/50\n",
            "186/186 [==============================] - 1s 5ms/step - loss: 0.7689 - accuracy: 0.6533 - val_loss: 0.5390 - val_accuracy: 0.7779\n",
            "Epoch 3/50\n",
            "186/186 [==============================] - 1s 5ms/step - loss: 0.5997 - accuracy: 0.7473 - val_loss: 0.3965 - val_accuracy: 0.8499\n",
            "Epoch 4/50\n",
            "186/186 [==============================] - 1s 5ms/step - loss: 0.5057 - accuracy: 0.8019 - val_loss: 0.3626 - val_accuracy: 0.8755\n",
            "Epoch 5/50\n",
            "186/186 [==============================] - 1s 5ms/step - loss: 0.4609 - accuracy: 0.8272 - val_loss: 0.3072 - val_accuracy: 0.8964\n",
            "Epoch 6/50\n",
            "186/186 [==============================] - 1s 5ms/step - loss: 0.4358 - accuracy: 0.8352 - val_loss: 0.2982 - val_accuracy: 0.8984\n",
            "Epoch 7/50\n",
            "186/186 [==============================] - 1s 5ms/step - loss: 0.3949 - accuracy: 0.8582 - val_loss: 0.3046 - val_accuracy: 0.8977\n",
            "Epoch 8/50\n",
            "186/186 [==============================] - 1s 5ms/step - loss: 0.3847 - accuracy: 0.8637 - val_loss: 0.2938 - val_accuracy: 0.8964\n",
            "Epoch 9/50\n",
            "186/186 [==============================] - 1s 5ms/step - loss: 0.3907 - accuracy: 0.8638 - val_loss: 0.3246 - val_accuracy: 0.8896\n",
            "Epoch 10/50\n",
            "186/186 [==============================] - 1s 5ms/step - loss: 0.3939 - accuracy: 0.8623 - val_loss: 0.2983 - val_accuracy: 0.8964\n",
            "Epoch 11/50\n",
            "186/186 [==============================] - 1s 5ms/step - loss: 0.3647 - accuracy: 0.8703 - val_loss: 0.3083 - val_accuracy: 0.8970\n",
            "Epoch 12/50\n",
            "186/186 [==============================] - 1s 5ms/step - loss: 0.3636 - accuracy: 0.8781 - val_loss: 0.2884 - val_accuracy: 0.9031\n",
            "Epoch 13/50\n",
            "186/186 [==============================] - 1s 5ms/step - loss: 0.3741 - accuracy: 0.8686 - val_loss: 0.2782 - val_accuracy: 0.9038\n",
            "Epoch 14/50\n",
            "186/186 [==============================] - 1s 5ms/step - loss: 0.3480 - accuracy: 0.8832 - val_loss: 0.2938 - val_accuracy: 0.9024\n",
            "Epoch 15/50\n",
            "186/186 [==============================] - 1s 5ms/step - loss: 0.3518 - accuracy: 0.8790 - val_loss: 0.2707 - val_accuracy: 0.9085\n",
            "Epoch 16/50\n",
            "186/186 [==============================] - 1s 5ms/step - loss: 0.3439 - accuracy: 0.8837 - val_loss: 0.3011 - val_accuracy: 0.8950\n",
            "Epoch 17/50\n",
            "186/186 [==============================] - 1s 5ms/step - loss: 0.3536 - accuracy: 0.8815 - val_loss: 0.3493 - val_accuracy: 0.8843\n",
            "Epoch 18/50\n",
            "186/186 [==============================] - 1s 5ms/step - loss: 0.3531 - accuracy: 0.8815 - val_loss: 0.2693 - val_accuracy: 0.9092\n",
            "Epoch 19/50\n",
            "186/186 [==============================] - 1s 5ms/step - loss: 0.3359 - accuracy: 0.8851 - val_loss: 0.3034 - val_accuracy: 0.8991\n",
            "Epoch 20/50\n",
            "186/186 [==============================] - 1s 5ms/step - loss: 0.3270 - accuracy: 0.8894 - val_loss: 0.2651 - val_accuracy: 0.9125\n",
            "Epoch 21/50\n",
            "186/186 [==============================] - 1s 5ms/step - loss: 0.3460 - accuracy: 0.8828 - val_loss: 0.2806 - val_accuracy: 0.9078\n",
            "Epoch 22/50\n",
            "186/186 [==============================] - 1s 5ms/step - loss: 0.3393 - accuracy: 0.8824 - val_loss: 0.2610 - val_accuracy: 0.9139\n",
            "Epoch 23/50\n",
            "186/186 [==============================] - 1s 5ms/step - loss: 0.3533 - accuracy: 0.8789 - val_loss: 0.2814 - val_accuracy: 0.9038\n",
            "Epoch 24/50\n",
            "186/186 [==============================] - 1s 5ms/step - loss: 0.3425 - accuracy: 0.8857 - val_loss: 0.2666 - val_accuracy: 0.9145\n",
            "Epoch 25/50\n",
            "186/186 [==============================] - 1s 5ms/step - loss: 0.3300 - accuracy: 0.8868 - val_loss: 0.2682 - val_accuracy: 0.9078\n",
            "Epoch 26/50\n",
            "186/186 [==============================] - 1s 5ms/step - loss: 0.3294 - accuracy: 0.8890 - val_loss: 0.2682 - val_accuracy: 0.9085\n",
            "Epoch 27/50\n",
            "186/186 [==============================] - 1s 5ms/step - loss: 0.3273 - accuracy: 0.8882 - val_loss: 0.2717 - val_accuracy: 0.9092\n",
            "Epoch 28/50\n",
            "186/186 [==============================] - 1s 5ms/step - loss: 0.3129 - accuracy: 0.8923 - val_loss: 0.2650 - val_accuracy: 0.9118\n",
            "Epoch 29/50\n",
            "186/186 [==============================] - 1s 5ms/step - loss: 0.3325 - accuracy: 0.8905 - val_loss: 0.2759 - val_accuracy: 0.9078\n",
            "Epoch 30/50\n",
            "186/186 [==============================] - 1s 5ms/step - loss: 0.3237 - accuracy: 0.8878 - val_loss: 0.3060 - val_accuracy: 0.8950\n",
            "Epoch 31/50\n",
            "186/186 [==============================] - 1s 5ms/step - loss: 0.3230 - accuracy: 0.8917 - val_loss: 0.2621 - val_accuracy: 0.9105\n",
            "Epoch 32/50\n",
            "186/186 [==============================] - 1s 5ms/step - loss: 0.3220 - accuracy: 0.8912 - val_loss: 0.2561 - val_accuracy: 0.9145\n",
            "Epoch 33/50\n",
            "186/186 [==============================] - 1s 5ms/step - loss: 0.3254 - accuracy: 0.8918 - val_loss: 0.2614 - val_accuracy: 0.9105\n",
            "Epoch 34/50\n",
            "186/186 [==============================] - 1s 5ms/step - loss: 0.3162 - accuracy: 0.8899 - val_loss: 0.2713 - val_accuracy: 0.9085\n",
            "Epoch 35/50\n",
            "186/186 [==============================] - 1s 5ms/step - loss: 0.3135 - accuracy: 0.8919 - val_loss: 0.2546 - val_accuracy: 0.9145\n",
            "Epoch 36/50\n",
            "186/186 [==============================] - 1s 5ms/step - loss: 0.3130 - accuracy: 0.8951 - val_loss: 0.2541 - val_accuracy: 0.9092\n",
            "Epoch 37/50\n",
            "186/186 [==============================] - 1s 5ms/step - loss: 0.3229 - accuracy: 0.8875 - val_loss: 0.2741 - val_accuracy: 0.9031\n",
            "Epoch 38/50\n",
            "186/186 [==============================] - 1s 5ms/step - loss: 0.3146 - accuracy: 0.8882 - val_loss: 0.2554 - val_accuracy: 0.9112\n",
            "Epoch 39/50\n",
            "186/186 [==============================] - 1s 5ms/step - loss: 0.3203 - accuracy: 0.8871 - val_loss: 0.2705 - val_accuracy: 0.9098\n",
            "Epoch 40/50\n",
            "186/186 [==============================] - 1s 6ms/step - loss: 0.3168 - accuracy: 0.8976 - val_loss: 0.2612 - val_accuracy: 0.9105\n",
            "Epoch 41/50\n",
            "186/186 [==============================] - 1s 5ms/step - loss: 0.3232 - accuracy: 0.8900 - val_loss: 0.2684 - val_accuracy: 0.9085\n",
            "Epoch 42/50\n",
            "186/186 [==============================] - 1s 5ms/step - loss: 0.3033 - accuracy: 0.8986 - val_loss: 0.2568 - val_accuracy: 0.9132\n",
            "Epoch 43/50\n",
            "186/186 [==============================] - 1s 5ms/step - loss: 0.3051 - accuracy: 0.8966 - val_loss: 0.2640 - val_accuracy: 0.9058\n",
            "Epoch 44/50\n",
            "186/186 [==============================] - 1s 5ms/step - loss: 0.3112 - accuracy: 0.8916 - val_loss: 0.2500 - val_accuracy: 0.9112\n",
            "Epoch 45/50\n",
            "186/186 [==============================] - 1s 5ms/step - loss: 0.3138 - accuracy: 0.8934 - val_loss: 0.2689 - val_accuracy: 0.9058\n",
            "Epoch 46/50\n",
            "186/186 [==============================] - 1s 5ms/step - loss: 0.3041 - accuracy: 0.8968 - val_loss: 0.2928 - val_accuracy: 0.8991\n",
            "Epoch 47/50\n",
            "186/186 [==============================] - 1s 5ms/step - loss: 0.3060 - accuracy: 0.8928 - val_loss: 0.2637 - val_accuracy: 0.9085\n",
            "Epoch 48/50\n",
            "186/186 [==============================] - 1s 5ms/step - loss: 0.3200 - accuracy: 0.8880 - val_loss: 0.2657 - val_accuracy: 0.9098\n",
            "Epoch 49/50\n",
            "186/186 [==============================] - 1s 5ms/step - loss: 0.3081 - accuracy: 0.8957 - val_loss: 0.2633 - val_accuracy: 0.9078\n",
            "Epoch 50/50\n",
            "186/186 [==============================] - 1s 5ms/step - loss: 0.3005 - accuracy: 0.8994 - val_loss: 0.2511 - val_accuracy: 0.9145\n",
            "Total training time : 0.87 minute\n"
          ],
          "name": "stdout"
        }
      ]
    },
    {
      "cell_type": "code",
      "metadata": {
        "id": "Yow0yzT_k700",
        "colab": {
          "base_uri": "https://localhost:8080/"
        },
        "outputId": "02e122bb-95fc-462c-b2aa-de8f64250930"
      },
      "source": [
        "score = model3.evaluate(X_train, y_train, verbose=0)\n",
        "print('Train accuracy:', score[1])\n",
        "print('Train loss:', score[0])"
      ],
      "execution_count": null,
      "outputs": [
        {
          "output_type": "stream",
          "text": [
            "Train accuracy: 0.9121508002281189\n",
            "Train loss: 0.24968016147613525\n"
          ],
          "name": "stdout"
        }
      ]
    },
    {
      "cell_type": "code",
      "metadata": {
        "colab": {
          "base_uri": "https://localhost:8080/"
        },
        "id": "UphFD4nroE0n",
        "outputId": "3d26084b-e6ee-4f1b-afd6-bb6a79e702dd"
      },
      "source": [
        "score = model3.evaluate(X_val, y_val, verbose=0)\n",
        "print('Val accuracy:', score[1])\n",
        "print('Val loss:', score[0])"
      ],
      "execution_count": null,
      "outputs": [
        {
          "output_type": "stream",
          "text": [
            "Train accuracy: 0.914535641670227\n",
            "Train loss: 0.2510635256767273\n"
          ],
          "name": "stdout"
        }
      ]
    },
    {
      "cell_type": "code",
      "metadata": {
        "id": "Oami4EXTlEZq",
        "colab": {
          "base_uri": "https://localhost:8080/"
        },
        "outputId": "da4dd903-ca55-403f-f902-25e00c0ed84e"
      },
      "source": [
        "%%time\n",
        "y_pred = np.argmax(model3.predict(X_test), axis=-1)"
      ],
      "execution_count": null,
      "outputs": [
        {
          "output_type": "stream",
          "text": [
            "CPU times: user 633 ms, sys: 6.93 ms, total: 640 ms\n",
            "Wall time: 614 ms\n"
          ],
          "name": "stdout"
        }
      ]
    },
    {
      "cell_type": "code",
      "metadata": {
        "id": "7RgaY1ubk9gD",
        "colab": {
          "base_uri": "https://localhost:8080/"
        },
        "outputId": "3fcffdaf-fddd-4272-9787-d3c110d5497f"
      },
      "source": [
        "%%time\n",
        "score = model3.evaluate(X_test, y_test, verbose=0)\n",
        "print('Test accuracy:', score[1])\n",
        "print('Test loss:', score[0])"
      ],
      "execution_count": null,
      "outputs": [
        {
          "output_type": "stream",
          "text": [
            "Train accuracy: 0.9138047099113464\n",
            "Train loss: 0.24396991729736328\n",
            "CPU times: user 138 ms, sys: 5.41 ms, total: 144 ms\n",
            "Wall time: 115 ms\n"
          ],
          "name": "stdout"
        }
      ]
    },
    {
      "cell_type": "code",
      "metadata": {
        "id": "edUWFUi4ln0f",
        "colab": {
          "base_uri": "https://localhost:8080/",
          "height": 621
        },
        "outputId": "04f46071-0ce5-4035-b7cb-52777839b69d"
      },
      "source": [
        "accuracy_loss_plot(train_model3)"
      ],
      "execution_count": null,
      "outputs": [
        {
          "output_type": "display_data",
          "data": {
            "image/png": "[encoded data removed]",
            "text/plain": [
              "<Figure size 864x720 with 4 Axes>"
            ]
          },
          "metadata": {
            "tags": [],
            "needs_background": "light"
          }
        }
      ]
    },
    {
      "cell_type": "code",
      "metadata": {
        "id": "fChB7wUgluoF"
      },
      "source": [
        "# y_test4 = np.argmax(y_test, axis=-1)"
      ],
      "execution_count": null,
      "outputs": []
    },
    {
      "cell_type": "code",
      "metadata": {
        "id": "NQQ7S2MQlt98",
        "colab": {
          "base_uri": "https://localhost:8080/"
        },
        "outputId": "f4227bf2-af31-4212-efcd-5edc9a685427"
      },
      "source": [
        "from sklearn.metrics import classification_report\n",
        "\n",
        "target_names = [\" {}:\".format(i)  for i in ['Resolved', 'Not Resolved', 'Fatal']]\n",
        "print(classification_report(y_pred, y_test, target_names=target_names))"
      ],
      "execution_count": null,
      "outputs": [
        {
          "output_type": "stream",
          "text": [
            "                precision    recall  f1-score   support\n",
            "\n",
            "     Resolved:       0.88      0.90      0.89       482\n",
            " Not Resolved:       0.96      0.96      0.96       494\n",
            "        Fatal:       0.90      0.88      0.89       509\n",
            "\n",
            "      accuracy                           0.91      1485\n",
            "     macro avg       0.91      0.91      0.91      1485\n",
            "  weighted avg       0.91      0.91      0.91      1485\n",
            "\n"
          ],
          "name": "stdout"
        }
      ]
    },
    {
      "cell_type": "code",
      "metadata": {
        "colab": {
          "base_uri": "https://localhost:8080/"
        },
        "id": "BDexKxTmr205",
        "outputId": "4da48fa2-5063-46ca-fadb-94b706e5b04b"
      },
      "source": [
        "model3.summary()"
      ],
      "execution_count": null,
      "outputs": [
        {
          "output_type": "stream",
          "text": [
            "Model: \"sequential_3\"\n",
            "_________________________________________________________________\n",
            "Layer (type)                 Output Shape              Param #   \n",
            "=================================================================\n",
            "simple_rnn (SimpleRNN)       (None, 1, 32)             2624      \n",
            "_________________________________________________________________\n",
            "dropout_4 (Dropout)          (None, 1, 32)             0         \n",
            "_________________________________________________________________\n",
            "batch_normalization_4 (Batch (None, 1, 32)             128       \n",
            "_________________________________________________________________\n",
            "simple_rnn_1 (SimpleRNN)     (None, 1, 32)             2080      \n",
            "_________________________________________________________________\n",
            "dropout_5 (Dropout)          (None, 1, 32)             0         \n",
            "_________________________________________________________________\n",
            "batch_normalization_5 (Batch (None, 1, 32)             128       \n",
            "_________________________________________________________________\n",
            "simple_rnn_2 (SimpleRNN)     (None, 1, 32)             2080      \n",
            "_________________________________________________________________\n",
            "dropout_6 (Dropout)          (None, 1, 32)             0         \n",
            "_________________________________________________________________\n",
            "batch_normalization_6 (Batch (None, 1, 32)             128       \n",
            "_________________________________________________________________\n",
            "simple_rnn_3 (SimpleRNN)     (None, 16)                784       \n",
            "_________________________________________________________________\n",
            "dropout_7 (Dropout)          (None, 16)                0         \n",
            "_________________________________________________________________\n",
            "batch_normalization_7 (Batch (None, 16)                64        \n",
            "_________________________________________________________________\n",
            "dense_17 (Dense)             (None, 3)                 51        \n",
            "=================================================================\n",
            "Total params: 8,067\n",
            "Trainable params: 7,843\n",
            "Non-trainable params: 224\n",
            "_________________________________________________________________\n"
          ],
          "name": "stdout"
        }
      ]
    },
    {
      "cell_type": "markdown",
      "metadata": {
        "id": "3CxAib3ZtDts"
      },
      "source": [
        "## Model4 - LSTM"
      ]
    },
    {
      "cell_type": "code",
      "metadata": {
        "id": "z2T3USabtBuI"
      },
      "source": [
        "from tensorflow.keras.layers import LSTM\n",
        "\n",
        "# Recurrent Neural network - LSTM\n",
        "model4 = Sequential()\n",
        "\n",
        "# First LSTM layer with Dropout regularisation\n",
        "model4.add(LSTM(32, return_sequences=True, activation=activations.tanh))\n",
        "model4.add(Dropout(0.2))\n",
        "model4.add(BatchNormalization())\n",
        "# Second LSTM layer\n",
        "model4.add(LSTM(32, return_sequences=True, activation=activations.tanh))\n",
        "model4.add(Dropout(0.3))\n",
        "model4.add(BatchNormalization())\n",
        "# Third LSTM layer\n",
        "model4.add(LSTM(32, return_sequences=True, activation=activations.tanh))\n",
        "model4.add(Dropout(0.3))\n",
        "model4.add(BatchNormalization())\n",
        "# Fourth LSTM layer\n",
        "model4.add(LSTM(16, activation=activations.tanh))\n",
        "model4.add(Dropout(0.2))\n",
        "model4.add(BatchNormalization())\n",
        "# The output layer\n",
        "model4.add(Dense(3, activation=activations.softmax))\n",
        "\n",
        "model4.compile(loss='sparse_categorical_crossentropy',\n",
        "               optimizer=Adam(learning_rate=0.001), metrics=['accuracy'])"
      ],
      "execution_count": null,
      "outputs": []
    },
    {
      "cell_type": "code",
      "metadata": {
        "id": "k0_dKkkE-Ffk",
        "colab": {
          "base_uri": "https://localhost:8080/"
        },
        "outputId": "9ff6fb68-d214-4cbd-b0e6-ae3315c1de03"
      },
      "source": [
        "# Train the the model\n",
        "start_time = time.time()\n",
        "train_model4 = model4.fit(X_train, y_train, batch_size=BATCH_SIZE, epochs=EPOCHS, verbose=1, validation_data=(X_val, y_val), shuffle=True)\n",
        "end_time = time.time()\n",
        "print(\"Total training time : {:0.2f} minute\".format((end_time - start_time)/60.0))"
      ],
      "execution_count": null,
      "outputs": [
        {
          "output_type": "stream",
          "text": [
            "Epoch 1/50\n",
            "186/186 [==============================] - 12s 18ms/step - loss: 1.0708 - accuracy: 0.5069 - val_loss: 1.0591 - val_accuracy: 0.3378\n",
            "Epoch 2/50\n",
            "186/186 [==============================] - 1s 8ms/step - loss: 0.6202 - accuracy: 0.7467 - val_loss: 0.5205 - val_accuracy: 0.8398\n",
            "Epoch 3/50\n",
            "186/186 [==============================] - 1s 8ms/step - loss: 0.4602 - accuracy: 0.8329 - val_loss: 0.3126 - val_accuracy: 0.8910\n",
            "Epoch 4/50\n",
            "186/186 [==============================] - 1s 8ms/step - loss: 0.4009 - accuracy: 0.8539 - val_loss: 0.2637 - val_accuracy: 0.9038\n",
            "Epoch 5/50\n",
            "186/186 [==============================] - 1s 8ms/step - loss: 0.3789 - accuracy: 0.8633 - val_loss: 0.2835 - val_accuracy: 0.8991\n",
            "Epoch 6/50\n",
            "186/186 [==============================] - 1s 8ms/step - loss: 0.3717 - accuracy: 0.8631 - val_loss: 0.2884 - val_accuracy: 0.9004\n",
            "Epoch 7/50\n",
            "186/186 [==============================] - 1s 8ms/step - loss: 0.3564 - accuracy: 0.8747 - val_loss: 0.2939 - val_accuracy: 0.8984\n",
            "Epoch 8/50\n",
            "186/186 [==============================] - 1s 8ms/step - loss: 0.3439 - accuracy: 0.8755 - val_loss: 0.2777 - val_accuracy: 0.9017\n",
            "Epoch 9/50\n",
            "186/186 [==============================] - 1s 8ms/step - loss: 0.3446 - accuracy: 0.8763 - val_loss: 0.2903 - val_accuracy: 0.8997\n",
            "Epoch 10/50\n",
            "186/186 [==============================] - 1s 8ms/step - loss: 0.3292 - accuracy: 0.8848 - val_loss: 0.2574 - val_accuracy: 0.9065\n",
            "Epoch 11/50\n",
            "186/186 [==============================] - 1s 8ms/step - loss: 0.3295 - accuracy: 0.8864 - val_loss: 0.2616 - val_accuracy: 0.9031\n",
            "Epoch 12/50\n",
            "186/186 [==============================] - 1s 8ms/step - loss: 0.3357 - accuracy: 0.8817 - val_loss: 0.2620 - val_accuracy: 0.9065\n",
            "Epoch 13/50\n",
            "186/186 [==============================] - 1s 8ms/step - loss: 0.3198 - accuracy: 0.8827 - val_loss: 0.2618 - val_accuracy: 0.9038\n",
            "Epoch 14/50\n",
            "186/186 [==============================] - 1s 8ms/step - loss: 0.3172 - accuracy: 0.8885 - val_loss: 0.2651 - val_accuracy: 0.9031\n",
            "Epoch 15/50\n",
            "186/186 [==============================] - 1s 8ms/step - loss: 0.3111 - accuracy: 0.8894 - val_loss: 0.2622 - val_accuracy: 0.9085\n",
            "Epoch 16/50\n",
            "186/186 [==============================] - 1s 8ms/step - loss: 0.3108 - accuracy: 0.8917 - val_loss: 0.2821 - val_accuracy: 0.9004\n",
            "Epoch 17/50\n",
            "186/186 [==============================] - 2s 8ms/step - loss: 0.3067 - accuracy: 0.8897 - val_loss: 0.2487 - val_accuracy: 0.9105\n",
            "Epoch 18/50\n",
            "186/186 [==============================] - 2s 8ms/step - loss: 0.3109 - accuracy: 0.8895 - val_loss: 0.2532 - val_accuracy: 0.9078\n",
            "Epoch 19/50\n",
            "186/186 [==============================] - 1s 8ms/step - loss: 0.3107 - accuracy: 0.8860 - val_loss: 0.2601 - val_accuracy: 0.9098\n",
            "Epoch 20/50\n",
            "186/186 [==============================] - 1s 8ms/step - loss: 0.3091 - accuracy: 0.8918 - val_loss: 0.2657 - val_accuracy: 0.9085\n",
            "Epoch 21/50\n",
            "186/186 [==============================] - 2s 8ms/step - loss: 0.3120 - accuracy: 0.8917 - val_loss: 0.2494 - val_accuracy: 0.9132\n",
            "Epoch 22/50\n",
            "186/186 [==============================] - 1s 8ms/step - loss: 0.2951 - accuracy: 0.8941 - val_loss: 0.2524 - val_accuracy: 0.9058\n",
            "Epoch 23/50\n",
            "186/186 [==============================] - 1s 8ms/step - loss: 0.3092 - accuracy: 0.8878 - val_loss: 0.2397 - val_accuracy: 0.9145\n",
            "Epoch 24/50\n",
            "186/186 [==============================] - 2s 8ms/step - loss: 0.2874 - accuracy: 0.8953 - val_loss: 0.2423 - val_accuracy: 0.9132\n",
            "Epoch 25/50\n",
            "186/186 [==============================] - 1s 8ms/step - loss: 0.2931 - accuracy: 0.8983 - val_loss: 0.2466 - val_accuracy: 0.9152\n",
            "Epoch 26/50\n",
            "186/186 [==============================] - 1s 8ms/step - loss: 0.2944 - accuracy: 0.8960 - val_loss: 0.2459 - val_accuracy: 0.9118\n",
            "Epoch 27/50\n",
            "186/186 [==============================] - 1s 8ms/step - loss: 0.2787 - accuracy: 0.9036 - val_loss: 0.2494 - val_accuracy: 0.9078\n",
            "Epoch 28/50\n",
            "186/186 [==============================] - 1s 8ms/step - loss: 0.2919 - accuracy: 0.9007 - val_loss: 0.2443 - val_accuracy: 0.9145\n",
            "Epoch 29/50\n",
            "186/186 [==============================] - 1s 8ms/step - loss: 0.2940 - accuracy: 0.8963 - val_loss: 0.2490 - val_accuracy: 0.9044\n",
            "Epoch 30/50\n",
            "186/186 [==============================] - 1s 8ms/step - loss: 0.2953 - accuracy: 0.8975 - val_loss: 0.2489 - val_accuracy: 0.9085\n",
            "Epoch 31/50\n",
            "186/186 [==============================] - 1s 8ms/step - loss: 0.2902 - accuracy: 0.9005 - val_loss: 0.2454 - val_accuracy: 0.9132\n",
            "Epoch 32/50\n",
            "186/186 [==============================] - 1s 8ms/step - loss: 0.2861 - accuracy: 0.8988 - val_loss: 0.2495 - val_accuracy: 0.9071\n",
            "Epoch 33/50\n",
            "186/186 [==============================] - 1s 8ms/step - loss: 0.2886 - accuracy: 0.8990 - val_loss: 0.2556 - val_accuracy: 0.9085\n",
            "Epoch 34/50\n",
            "186/186 [==============================] - 2s 8ms/step - loss: 0.2856 - accuracy: 0.9003 - val_loss: 0.2442 - val_accuracy: 0.9132\n",
            "Epoch 35/50\n",
            "186/186 [==============================] - 1s 8ms/step - loss: 0.2818 - accuracy: 0.9030 - val_loss: 0.2428 - val_accuracy: 0.9145\n",
            "Epoch 36/50\n",
            "186/186 [==============================] - 1s 8ms/step - loss: 0.2946 - accuracy: 0.8954 - val_loss: 0.2436 - val_accuracy: 0.9125\n",
            "Epoch 37/50\n",
            "186/186 [==============================] - 1s 8ms/step - loss: 0.2812 - accuracy: 0.9005 - val_loss: 0.2443 - val_accuracy: 0.9132\n",
            "Epoch 38/50\n",
            "186/186 [==============================] - 1s 8ms/step - loss: 0.2794 - accuracy: 0.9022 - val_loss: 0.2528 - val_accuracy: 0.9118\n",
            "Epoch 39/50\n",
            "186/186 [==============================] - 1s 8ms/step - loss: 0.2840 - accuracy: 0.9013 - val_loss: 0.2542 - val_accuracy: 0.9078\n",
            "Epoch 40/50\n",
            "186/186 [==============================] - 2s 8ms/step - loss: 0.2871 - accuracy: 0.8989 - val_loss: 0.2414 - val_accuracy: 0.9132\n",
            "Epoch 41/50\n",
            "186/186 [==============================] - 2s 8ms/step - loss: 0.2742 - accuracy: 0.9038 - val_loss: 0.2370 - val_accuracy: 0.9172\n",
            "Epoch 42/50\n",
            "186/186 [==============================] - 1s 8ms/step - loss: 0.2796 - accuracy: 0.9010 - val_loss: 0.2372 - val_accuracy: 0.9152\n",
            "Epoch 43/50\n",
            "186/186 [==============================] - 2s 8ms/step - loss: 0.2687 - accuracy: 0.9100 - val_loss: 0.2436 - val_accuracy: 0.9125\n",
            "Epoch 44/50\n",
            "186/186 [==============================] - 1s 8ms/step - loss: 0.2879 - accuracy: 0.9010 - val_loss: 0.2470 - val_accuracy: 0.9118\n",
            "Epoch 45/50\n",
            "186/186 [==============================] - 1s 8ms/step - loss: 0.2809 - accuracy: 0.9007 - val_loss: 0.2369 - val_accuracy: 0.9152\n",
            "Epoch 46/50\n",
            "186/186 [==============================] - 2s 8ms/step - loss: 0.2860 - accuracy: 0.8999 - val_loss: 0.2515 - val_accuracy: 0.9058\n",
            "Epoch 47/50\n",
            "186/186 [==============================] - 2s 8ms/step - loss: 0.2704 - accuracy: 0.9075 - val_loss: 0.2465 - val_accuracy: 0.9132\n",
            "Epoch 48/50\n",
            "186/186 [==============================] - 2s 8ms/step - loss: 0.2728 - accuracy: 0.9048 - val_loss: 0.2348 - val_accuracy: 0.9152\n",
            "Epoch 49/50\n",
            "186/186 [==============================] - 2s 8ms/step - loss: 0.2841 - accuracy: 0.9043 - val_loss: 0.2494 - val_accuracy: 0.9085\n",
            "Epoch 50/50\n",
            "186/186 [==============================] - 1s 8ms/step - loss: 0.2983 - accuracy: 0.8974 - val_loss: 0.2461 - val_accuracy: 0.9071\n",
            "Total training time : 1.42 minute\n"
          ],
          "name": "stdout"
        }
      ]
    },
    {
      "cell_type": "code",
      "metadata": {
        "id": "rI623R1H-JTQ",
        "colab": {
          "base_uri": "https://localhost:8080/"
        },
        "outputId": "a64230af-28df-4a50-fe69-78a482db152c"
      },
      "source": [
        "score = model4.evaluate(X_train, y_train, verbose=0)\n",
        "print('Train accuracy:', score[1])\n",
        "print('Train loss:', score[0])"
      ],
      "execution_count": null,
      "outputs": [
        {
          "output_type": "stream",
          "text": [
            "Train accuracy: 0.9170312881469727\n",
            "Train loss: 0.23400264978408813\n"
          ],
          "name": "stdout"
        }
      ]
    },
    {
      "cell_type": "code",
      "metadata": {
        "colab": {
          "base_uri": "https://localhost:8080/"
        },
        "id": "tkmcb0xeoHmy",
        "outputId": "348a92fe-f40d-450a-b98a-6474c2b241cd"
      },
      "source": [
        "score = model4.evaluate(X_val, y_val, verbose=0)\n",
        "print('Val accuracy:', score[1])\n",
        "print('Val loss:', score[0])"
      ],
      "execution_count": null,
      "outputs": [
        {
          "output_type": "stream",
          "text": [
            "Train accuracy: 0.9071332216262817\n",
            "Train loss: 0.24606677889823914\n"
          ],
          "name": "stdout"
        }
      ]
    },
    {
      "cell_type": "code",
      "metadata": {
        "id": "_JNjKB6L-OKO",
        "colab": {
          "base_uri": "https://localhost:8080/"
        },
        "outputId": "5e91936b-02e5-49f3-946b-cc367b2e18bd"
      },
      "source": [
        "%%time\n",
        "y_pred = np.argmax(model4.predict(X_test), axis=-1)"
      ],
      "execution_count": null,
      "outputs": [
        {
          "output_type": "stream",
          "text": [
            "CPU times: user 1.7 s, sys: 43 ms, total: 1.75 s\n",
            "Wall time: 1.7 s\n"
          ],
          "name": "stdout"
        }
      ]
    },
    {
      "cell_type": "code",
      "metadata": {
        "id": "98uLX_7c-SDm",
        "colab": {
          "base_uri": "https://localhost:8080/"
        },
        "outputId": "626b64cd-6652-40ca-bac5-9bb30e03e651"
      },
      "source": [
        "%%time\n",
        "score = model4.evaluate(X_test, y_test, verbose=0)\n",
        "print('Test accuracy:', score[1])\n",
        "print('Test loss:', score[0])"
      ],
      "execution_count": null,
      "outputs": [
        {
          "output_type": "stream",
          "text": [
            "Test accuracy: 0.9191918969154358\n",
            "Test loss: 0.24080206453800201\n",
            "CPU times: user 155 ms, sys: 14.1 ms, total: 169 ms\n",
            "Wall time: 125 ms\n"
          ],
          "name": "stdout"
        }
      ]
    },
    {
      "cell_type": "code",
      "metadata": {
        "id": "66G2FyTn-W8Y",
        "colab": {
          "base_uri": "https://localhost:8080/",
          "height": 621
        },
        "outputId": "3efca9fb-dce5-4daa-db8f-12f61c6fa567"
      },
      "source": [
        "accuracy_loss_plot(train_model4)"
      ],
      "execution_count": null,
      "outputs": [
        {
          "output_type": "display_data",
          "data": {
            "image/png": "[encoded data removed]",
            "text/plain": [
              "<Figure size 864x720 with 4 Axes>"
            ]
          },
          "metadata": {
            "tags": [],
            "needs_background": "light"
          }
        }
      ]
    },
    {
      "cell_type": "code",
      "metadata": {
        "id": "kzpLmyoH-spN"
      },
      "source": [
        "# y_test5 = np.argmax(y_test, axis=-1)"
      ],
      "execution_count": null,
      "outputs": []
    },
    {
      "cell_type": "code",
      "metadata": {
        "id": "Zg-_XuOH-aO0",
        "colab": {
          "base_uri": "https://localhost:8080/"
        },
        "outputId": "7f999123-f19f-470c-e19a-e1c59ed47b11"
      },
      "source": [
        "from sklearn.metrics import classification_report\n",
        "\n",
        "target_names = [\" {}:\".format(i)  for i in ['Resolved', 'Not Resolved', 'Fatal']]\n",
        "print(classification_report(y_pred, y_test, target_names=target_names))"
      ],
      "execution_count": null,
      "outputs": [
        {
          "output_type": "stream",
          "text": [
            "                precision    recall  f1-score   support\n",
            "\n",
            "     Resolved:       0.88      0.92      0.90       475\n",
            " Not Resolved:       0.95      0.97      0.96       484\n",
            "        Fatal:       0.93      0.87      0.90       526\n",
            "\n",
            "      accuracy                           0.92      1485\n",
            "     macro avg       0.92      0.92      0.92      1485\n",
            "  weighted avg       0.92      0.92      0.92      1485\n",
            "\n"
          ],
          "name": "stdout"
        }
      ]
    },
    {
      "cell_type": "code",
      "metadata": {
        "colab": {
          "base_uri": "https://localhost:8080/"
        },
        "id": "_Cm-GLckr5Vx",
        "outputId": "e21d2f1a-7c7e-4ab0-88b8-37129fadd0de"
      },
      "source": [
        "model4.summary()"
      ],
      "execution_count": null,
      "outputs": [
        {
          "output_type": "stream",
          "text": [
            "Model: \"sequential_4\"\n",
            "_________________________________________________________________\n",
            "Layer (type)                 Output Shape              Param #   \n",
            "=================================================================\n",
            "lstm (LSTM)                  (None, 1, 32)             10496     \n",
            "_________________________________________________________________\n",
            "dropout_8 (Dropout)          (None, 1, 32)             0         \n",
            "_________________________________________________________________\n",
            "batch_normalization_8 (Batch (None, 1, 32)             128       \n",
            "_________________________________________________________________\n",
            "lstm_1 (LSTM)                (None, 1, 32)             8320      \n",
            "_________________________________________________________________\n",
            "dropout_9 (Dropout)          (None, 1, 32)             0         \n",
            "_________________________________________________________________\n",
            "batch_normalization_9 (Batch (None, 1, 32)             128       \n",
            "_________________________________________________________________\n",
            "lstm_2 (LSTM)                (None, 1, 32)             8320      \n",
            "_________________________________________________________________\n",
            "dropout_10 (Dropout)         (None, 1, 32)             0         \n",
            "_________________________________________________________________\n",
            "batch_normalization_10 (Batc (None, 1, 32)             128       \n",
            "_________________________________________________________________\n",
            "lstm_3 (LSTM)                (None, 16)                3136      \n",
            "_________________________________________________________________\n",
            "dropout_11 (Dropout)         (None, 16)                0         \n",
            "_________________________________________________________________\n",
            "batch_normalization_11 (Batc (None, 16)                64        \n",
            "_________________________________________________________________\n",
            "dense_18 (Dense)             (None, 3)                 51        \n",
            "=================================================================\n",
            "Total params: 30,771\n",
            "Trainable params: 30,547\n",
            "Non-trainable params: 224\n",
            "_________________________________________________________________\n"
          ],
          "name": "stdout"
        }
      ]
    }
  ]
}